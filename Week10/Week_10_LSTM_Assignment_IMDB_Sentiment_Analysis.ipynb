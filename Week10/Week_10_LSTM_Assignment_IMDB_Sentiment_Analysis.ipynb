{
 "cells": [
  {
   "cell_type": "markdown",
   "metadata": {
    "id": "WMucfLUS1yhH"
   },
   "source": [
    "## What is this?\n",
    "\n",
    "This Jupyter Notebook contains Python code for building a LSTM Recurrent Neural Network that gives 87-88% accuracy on the IMDB Movie Review Sentiment Analysis Dataset. \n",
    "\n",
    "More information is given on [this blogpost](https://www.bouvet.no/bouvet-deler/explaining-recurrent-neural-networks).\n",
    "\n",
    "This code is partly based on [markwest1972's](https://github.com/markwest1972/LSTM-Example-Google-Colaboratory) Notebook on LSTM-Example-Google-Colaboratory"
   ]
  },
  {
   "cell_type": "markdown",
   "metadata": {
    "id": "wFUKGe4x3ala"
   },
   "source": [
    "## Built for Google Collaboratory\n",
    "\n",
    "Train your network more quickly in Google Collaboratory. From the **Runtime** menu select **Change Runtime** Type and choose \"GPU\"!\n",
    "\n",
    "Don't forget to select **Runtime** -> **Restart runtime** to put your changes into effect."
   ]
  },
  {
   "cell_type": "markdown",
   "metadata": {
    "id": "WP1VrbVp3sVu"
   },
   "source": [
    "## Setting up\n",
    "\n",
    "When running this for the first time you may get a warning telling you to restart the Runtime. You can ignore this, but feel free to select \"Runtime->Restart Runtime\" from the overhead menu if you encounter problems."
   ]
  },
  {
   "cell_type": "code",
   "execution_count": 1,
   "metadata": {
    "id": "2e3txwbh3q76"
   },
   "outputs": [
    {
     "name": "stdout",
     "output_type": "stream",
     "text": [
      "Downloading data from https://storage.googleapis.com/tensorflow/tf-keras-datasets/imdb.npz\n",
      "17465344/17464789 [==============================] - 0s 0us/step\n"
     ]
    },
    {
     "name": "stderr",
     "output_type": "stream",
     "text": [
      "<__array_function__ internals>:5: VisibleDeprecationWarning: Creating an ndarray from ragged nested sequences (which is a list-or-tuple of lists-or-tuples-or ndarrays with different lengths or shapes) is deprecated. If you meant to do this, you must specify 'dtype=object' when creating the ndarray\n",
      "/usr/lib/python3.9/site-packages/tensorflow/python/keras/datasets/imdb.py:159: VisibleDeprecationWarning: Creating an ndarray from ragged nested sequences (which is a list-or-tuple of lists-or-tuples-or ndarrays with different lengths or shapes) is deprecated. If you meant to do this, you must specify 'dtype=object' when creating the ndarray\n",
      "  x_train, y_train = np.array(xs[:idx]), np.array(labels[:idx])\n",
      "/usr/lib/python3.9/site-packages/tensorflow/python/keras/datasets/imdb.py:160: VisibleDeprecationWarning: Creating an ndarray from ragged nested sequences (which is a list-or-tuple of lists-or-tuples-or ndarrays with different lengths or shapes) is deprecated. If you meant to do this, you must specify 'dtype=object' when creating the ndarray\n",
      "  x_test, y_test = np.array(xs[idx:]), np.array(labels[idx:])\n"
     ]
    }
   ],
   "source": [
    "# Imports\n",
    "import tensorflow as tf \n",
    "import numpy as np\n",
    "from tensorflow.keras.preprocessing import sequence\n",
    "from numpy import array\n",
    "\n",
    "# Supress deprecation warnings\n",
    "import logging\n",
    "logging.getLogger('tensorflow').disabled = True\n",
    "\n",
    "# Fetch \"IMDB Movie Review\" data from tensorflow (https://www.tensorflow.org/api_docs/python/tf/keras/datasets/imdb)\n",
    "# and constrain the reviews to 10000 most commonly used words.\n",
    "# Note here the vocab_size is equal to 10000 common words.\n",
    "### START CODE HERE ###\n",
    "vocab_size = 10000\n",
    "(x_train, y_train), (x_test, y_test) = tf.keras.datasets.imdb.load_data(num_words=vocab_size)\n",
    "### END CODE HERE ###\n",
    "\n",
    "# Map for readable classnames\n",
    "class_names = [\"Negative\", \"Positive\"]"
   ]
  },
  {
   "cell_type": "markdown",
   "metadata": {
    "id": "hdyHL8FF0JJy"
   },
   "source": [
    "## Create map for converting IMDB dataset to readable reviews\n",
    "\n",
    "Reviews in the IMDB dataset have been encoded as a sequence of integers. Luckily the dataset also \n",
    "contains an index for converting the reviews back into human readable form.\n",
    "This is the process of creating a dictionary."
   ]
  },
  {
   "cell_type": "code",
   "execution_count": 2,
   "metadata": {
    "id": "E05AweFu0Imt"
   },
   "outputs": [
    {
     "name": "stdout",
     "output_type": "stream",
     "text": [
      "Downloading data from https://storage.googleapis.com/tensorflow/tf-keras-datasets/imdb_word_index.json\n",
      "1646592/1641221 [==============================] - 0s 0us/step\n"
     ]
    }
   ],
   "source": [
    "# Get the word index from the dataset\n",
    "word_index = tf.keras.datasets.imdb.get_word_index()\n",
    "\n",
    "# Ensure that \"special\" words are mapped into human readable terms \n",
    "word_index = {k:(v+3) for k,v in word_index.items()}\n",
    "word_index[\"<PAD>\"] = 0\n",
    "word_index[\"<START>\"] = 1\n",
    "word_index[\"<UNKNOWN>\"] = 2\n",
    "word_index[\"<UNUSED>\"] = 3\n",
    "\n",
    "# Perform reverse word lookup and make it callable\n",
    "reverse_word_index = dict([(value, key) for (key, value) in word_index.items()])\n",
    "def decode_review(text):\n",
    "    return ' '.join([reverse_word_index.get(i, '?') for i in text])"
   ]
  },
  {
   "cell_type": "markdown",
   "metadata": {
    "id": "fFXK-g6G81sC"
   },
   "source": [
    "## Data Insight\n",
    "\n",
    "Here we take a closer look at our data. How many words do our reviews contain?\n",
    "\n",
    "And what do our review look like in machine and human readable form?\n"
   ]
  },
  {
   "cell_type": "code",
   "execution_count": 6,
   "metadata": {
    "id": "yD1qHVBn81Y_"
   },
   "outputs": [
    {
     "name": "stdout",
     "output_type": "stream",
     "text": [
      "Maximum review length: 2494\n",
      "Minimum review length: 7\n",
      "Mean review length: 0.5\n",
      "\n",
      "Machine readable Review\n",
      "  Review Text: [1, 13, 219, 14, 33, 4, 2, 22, 1413, 12, 16, 373, 175, 2711, 1115, 1026, 430, 939, 16, 23, 2444, 25, 43, 697, 89, 12, 16, 170, 8, 130, 262, 19, 32, 4, 665, 7, 4, 2, 322, 5, 4, 1520, 7, 4, 86, 250, 10, 10, 4, 249, 173, 16, 4, 3891, 6, 19, 4, 167, 564, 5, 564, 1325, 36, 805, 8, 216, 638, 17, 2, 21, 25, 100, 376, 507, 4, 2110, 15, 79, 125, 23, 567, 13, 2134, 233, 36, 4852, 2, 5, 81, 1672, 10, 10, 92, 437, 129, 58, 13, 69, 8, 401, 61, 1432, 39, 1286, 46, 7, 12]\n",
      "  Review Sentiment: 0\n",
      "\n",
      "Human Readable Review\n",
      "  Review Text: <START> i saw this at the <UNKNOWN> film festival it was awful every clichéd violent rich boy fantasy was on display you just knew how it was going to end especially with all the shots of the <UNKNOWN> wife and the rape of the first girl br br the worst part was the q a with the director writer and writer producer they tried to come across as <UNKNOWN> but you could tell they're the types that get off on violence i bet anything they frequent <UNKNOWN> and do drugs br br don't waste your time i had to keep my boyfriend from walking out of it\n",
      "  Review Sentiment: Negative\n"
     ]
    }
   ],
   "source": [
    "# Concatenate x_train and x_test datasets and return it as allreviews.\n",
    "### START CODE HERE ###\n",
    "allreviews = np.concatenate((x_train, x_test))\n",
    "### END CODE HERE ###\n",
    "\n",
    "print(\"Maximum review length: {}\".format(len(max((allreviews), key=len))))\n",
    "print(\"Minimum review length: {}\".format(len(min((allreviews), key=len))))\n",
    "\n",
    "# Use allreviews to calculate the lengths across the training and test dataset and return as result.\n",
    "### START CODE HERE ###\n",
    "result = np.concatenate((y_train, y_test))\n",
    "### END CODE HERE ###\n",
    "print(\"Mean review length: {}\".format(np.mean(result)))\n",
    "\n",
    "\n",
    "# Print a review and it's class as stored in the dataset. Replace the number\n",
    "# to select a different review.\n",
    "print(\"\")\n",
    "print(\"Machine readable Review\")\n",
    "print(\"  Review Text: \" + str(x_train[60]))\n",
    "print(\"  Review Sentiment: \" + str(y_train[60]))\n",
    "\n",
    "# Print a review and it's class in human readable format. Replace the number\n",
    "# to select a different review.\n",
    "print(\"\")\n",
    "print(\"Human Readable Review\")\n",
    "print(\"  Review Text: \" + decode_review(x_train[60]))\n",
    "print(\"  Review Sentiment: \" + class_names[y_train[60]])"
   ]
  },
  {
   "cell_type": "markdown",
   "metadata": {
    "id": "mF-Votm66zD5"
   },
   "source": [
    "## Pre-processing Data\n",
    "\n",
    "We need to make sure that our reviews are of a uniform length. This is for the LSTM's parameters.\n",
    "\n",
    "Some reviews will need to be truncated, while others need to be [padded](https://www.tensorflow.org/api_docs/python/tf/keras/preprocessing/sequence/pad_sequences).\n",
    "Further reading on [Padding for NLP](https://medium.com/@canerkilinc/padding-for-nlp-7dd8598c916a)."
   ]
  },
  {
   "cell_type": "code",
   "execution_count": 7,
   "metadata": {
    "id": "uNtJTLJA6gaT"
   },
   "outputs": [
    {
     "name": "stdout",
     "output_type": "stream",
     "text": [
      "Shape Training Review Data: (25000, 500)\n",
      "Shape Training Class Data: (25000,)\n",
      "Shape Test Review Data: (25000, 500)\n",
      "Shape Test Class Data: (25000,)\n",
      "\n",
      "Human Readable Review Text (post padding): <PAD> <PAD> <PAD> <PAD> <PAD> <PAD> <PAD> <PAD> <PAD> <PAD> <PAD> <PAD> <PAD> <PAD> <PAD> <PAD> <PAD> <PAD> <PAD> <PAD> <PAD> <PAD> <PAD> <PAD> <PAD> <PAD> <PAD> <PAD> <PAD> <PAD> <PAD> <PAD> <PAD> <PAD> <PAD> <PAD> <PAD> <PAD> <PAD> <PAD> <PAD> <PAD> <PAD> <PAD> <PAD> <PAD> <PAD> <PAD> <PAD> <PAD> <PAD> <PAD> <PAD> <PAD> <PAD> <PAD> <PAD> <PAD> <PAD> <PAD> <PAD> <PAD> <PAD> <PAD> <PAD> <PAD> <PAD> <PAD> <PAD> <PAD> <PAD> <PAD> <PAD> <PAD> <PAD> <PAD> <PAD> <PAD> <PAD> <PAD> <PAD> <PAD> <PAD> <PAD> <PAD> <PAD> <PAD> <PAD> <PAD> <PAD> <PAD> <PAD> <PAD> <PAD> <PAD> <PAD> <PAD> <PAD> <PAD> <PAD> <PAD> <PAD> <PAD> <PAD> <PAD> <PAD> <PAD> <PAD> <PAD> <PAD> <PAD> <PAD> <PAD> <PAD> <PAD> <PAD> <PAD> <PAD> <PAD> <PAD> <PAD> <PAD> <PAD> <PAD> <PAD> <PAD> <PAD> <PAD> <PAD> <PAD> <PAD> <PAD> <PAD> <PAD> <PAD> <PAD> <PAD> <PAD> <PAD> <PAD> <PAD> <PAD> <PAD> <PAD> <PAD> <PAD> <PAD> <PAD> <PAD> <PAD> <PAD> <PAD> <PAD> <PAD> <PAD> <PAD> <PAD> <PAD> <PAD> <PAD> <PAD> <PAD> <PAD> <PAD> <PAD> <PAD> <PAD> <PAD> <PAD> <PAD> <PAD> <PAD> <PAD> <PAD> <PAD> <PAD> <PAD> <PAD> <PAD> <PAD> <PAD> <PAD> <PAD> <PAD> <PAD> <PAD> <PAD> <PAD> <PAD> <PAD> <PAD> <PAD> <PAD> <PAD> <PAD> <PAD> <PAD> <PAD> <PAD> <PAD> <PAD> <PAD> <PAD> <PAD> <PAD> <PAD> <PAD> <PAD> <PAD> <PAD> <PAD> <PAD> <PAD> <PAD> <PAD> <PAD> <PAD> <PAD> <PAD> <PAD> <PAD> <PAD> <PAD> <PAD> <PAD> <PAD> <PAD> <PAD> <PAD> <PAD> <PAD> <PAD> <PAD> <PAD> <PAD> <PAD> <PAD> <PAD> <PAD> <PAD> <PAD> <PAD> <PAD> <PAD> <PAD> <PAD> <PAD> <PAD> <PAD> <PAD> <PAD> <PAD> <PAD> <PAD> <PAD> <PAD> <PAD> <PAD> <PAD> <PAD> <PAD> <PAD> <PAD> <PAD> <PAD> <PAD> <PAD> <PAD> <PAD> <PAD> <PAD> <PAD> <PAD> <PAD> <PAD> <PAD> <PAD> <PAD> <PAD> <PAD> <PAD> <PAD> <PAD> <PAD> <PAD> <PAD> <PAD> <PAD> <PAD> <PAD> <PAD> <PAD> <PAD> <PAD> <PAD> <PAD> <PAD> <PAD> <PAD> <PAD> <PAD> <PAD> <PAD> <PAD> <PAD> <PAD> <PAD> <PAD> <PAD> <PAD> <PAD> <PAD> <PAD> <PAD> <PAD> <PAD> <PAD> <PAD> <PAD> <PAD> <PAD> <PAD> <PAD> <PAD> <PAD> <PAD> <PAD> <PAD> <PAD> <PAD> <PAD> <PAD> <PAD> <PAD> <PAD> <PAD> <PAD> <PAD> <PAD> <PAD> <PAD> <PAD> <PAD> <PAD> <PAD> <PAD> <PAD> <PAD> <PAD> <PAD> <PAD> <PAD> <PAD> <PAD> <PAD> <PAD> <PAD> <PAD> <PAD> <PAD> <PAD> <PAD> <PAD> <PAD> <PAD> <PAD> <PAD> <PAD> <PAD> <PAD> <PAD> <PAD> <PAD> <PAD> <PAD> <PAD> <PAD> <PAD> <PAD> <PAD> <PAD> <PAD> <PAD> <PAD> <PAD> <PAD> <PAD> <PAD> <PAD> <PAD> <PAD> <PAD> <PAD> <START> i saw this at the <UNKNOWN> film festival it was awful every clichéd violent rich boy fantasy was on display you just knew how it was going to end especially with all the shots of the <UNKNOWN> wife and the rape of the first girl br br the worst part was the q a with the director writer and writer producer they tried to come across as <UNKNOWN> but you could tell they're the types that get off on violence i bet anything they frequent <UNKNOWN> and do drugs br br don't waste your time i had to keep my boyfriend from walking out of it\n"
     ]
    }
   ],
   "source": [
    "# The length of reviews\n",
    "review_length = 500\n",
    "\n",
    "# Padding / truncated our reviews\n",
    "x_train = sequence.pad_sequences(x_train, maxlen = review_length)\n",
    "# Perform the same for x_test\n",
    "### START CODE HERE ###\n",
    "x_test = sequence.pad_sequences(x_test, maxlen=review_length)\n",
    "### END CODE HERE ###\n",
    "\n",
    "# Check the size of our datasets. Review data for both test and training should \n",
    "# contain 25000 reviews of 500 integers. Class data should contain 25000 values, \n",
    "# one for each review. Class values are 0 or 1, indicating a negative \n",
    "# or positive review.\n",
    "print(\"Shape Training Review Data: \" + str(x_train.shape))\n",
    "print(\"Shape Training Class Data: \" + str(y_train.shape))\n",
    "print(\"Shape Test Review Data: \" + str(x_test.shape))\n",
    "print(\"Shape Test Class Data: \" + str(y_test.shape))\n",
    "\n",
    "# Note padding is added to start of review, not the end\n",
    "print(\"\")\n",
    "print(\"Human Readable Review Text (post padding): \" + decode_review(x_train[60]))"
   ]
  },
  {
   "cell_type": "markdown",
   "metadata": {
    "id": "BfOdV_VCCFee"
   },
   "source": [
    "## Create and build LSTM Recurrent Neural Network\r\n",
    "\r\n",
    "You will be using a Sequential Model to build the LSTM. A Sequential model is appropriate for a plain stack of layers where each layer has exactly one input tensor and one output tensor. The other way to build a model is by using the Functional API. Take a look at [Sequential API vs Functional API model in Keras](https://medium.com/@hanify/sequential-api-vs-functional-api-model-in-keras-266823d7cd5e) to read about the differences between the two and how to create a Sequential and a Functional API.\r\n",
    "\r\n",
    "References: \r\n",
    "- [Keras Sequential API](https://keras.io/guides/sequential_model/)\r\n",
    "- [Embedding Layer](https://www.tensorflow.org/api_docs/python/tf/keras/layers/Embedding)\r\n",
    "- [Dropout Layer](https://www.tensorflow.org/api_docs/python/tf/keras/layers/Dropout)\r\n",
    "- [CuDNNLSTM](https://www.tensorflow.org/api_docs/python/tf/compat/v1/keras/layers/CuDNNLSTM)\r\n",
    "- [Dense Layer](https://www.tensorflow.org/api_docs/python/tf/keras/layers/Dense)\r\n",
    "- [Binary Crossentropy](https://www.tensorflow.org/api_docs/python/tf/keras/losses/BinaryCrossentropy)\r\n",
    "- [Adam Optimizer](https://www.tensorflow.org/api_docs/python/tf/keras/optimizers/Adam)"
   ]
  },
  {
   "cell_type": "code",
   "execution_count": 13,
   "metadata": {
    "id": "8nmO8M4aCKwT"
   },
   "outputs": [
    {
     "name": "stdout",
     "output_type": "stream",
     "text": [
      "Model: \"sequential_2\"\n",
      "_________________________________________________________________\n",
      "Layer (type)                 Output Shape              Param #   \n",
      "=================================================================\n",
      "embedding_2 (Embedding)      (None, 500, 32)           320000    \n",
      "_________________________________________________________________\n",
      "dropout_3 (Dropout)          (None, 500, 32)           0         \n",
      "_________________________________________________________________\n",
      "cu_dnnlstm_1 (CuDNNLSTM)     (None, 32)                8448      \n",
      "_________________________________________________________________\n",
      "dropout_4 (Dropout)          (None, 32)                0         \n",
      "_________________________________________________________________\n",
      "dense_1 (Dense)              (None, 1)                 33        \n",
      "=================================================================\n",
      "Total params: 328,481\n",
      "Trainable params: 328,481\n",
      "Non-trainable params: 0\n",
      "_________________________________________________________________\n"
     ]
    }
   ],
   "source": [
    "# We begin by defining a empty stack called model using tf.keras.Sequential.\n",
    "# We'll use this for building our network, layer by layer.\n",
    "### START CODE HERE ###\n",
    "model = tf.keras.Sequential()\n",
    "### END CODE HERE ###\n",
    "\n",
    "# The Embedding Layer provides a spatial mapping (or Word Embedding) of all the \n",
    "# individual words in our training set. Words close to one another share context \n",
    "# and or meaning. This spatial mapping is learned during the training process.\n",
    "\n",
    "# To create a Embedding Layer, use the following parameters:\n",
    "#   - input_dim as your vocab_size\n",
    "#   - output_dim as 32 to which each words shall be mapped\n",
    "#   - the input_length will be review_length, the length of input sequences\n",
    "### START CODE HERE ###\n",
    "model.add(tf.keras.layers.Embedding(input_dim=vocab_size, output_dim=32, input_length=review_length))\n",
    "### END CODE HERE ###\n",
    "\n",
    "# Dropout layers fight overfitting and forces the model to learn multiple \n",
    "# representations of the same data by randomly disabling neurons in the \n",
    "# learning phase.\n",
    "\n",
    "# To create a Dropout layer, use the rate as 0.25. This will disable 25% of neurons\n",
    "### START CODE HERE ###\n",
    "model.add(tf.keras.layers.Dropout(0.25))\n",
    "### END CODE HERE ###\n",
    "\n",
    "# We are using a fast version of LSTM whih is optimised for GPUs. This layer \n",
    "# looks at the sequence of words in the review, along with their word embeddings\n",
    "# and uses both of these to determine to sentiment of a given review.\n",
    "\n",
    "# To create the fast LSTM, use CuDNNLSTM with 32 units.\n",
    "# This will be the LSTM units in this layer.\n",
    "### START CODE HERE ###\n",
    "model.add(tf.compat.v1.keras.layers.CuDNNLSTM(32,kernel_initializer='glorot_uniform',\n",
    "    recurrent_initializer='orthogonal',\n",
    "))\n",
    "### END CODE HERE ###\n",
    "\n",
    "# Add a second dropout layer with the same aim as the first with a 25% dropout rate.\n",
    "### START CODE HERE ###\n",
    "model.add(tf.keras.layers.Dropout(0.25))\n",
    "### END CODE HERE ###\n",
    "\n",
    "# All LSTM units are connected to a single node in the dense layer. A sigmoid \n",
    "# activation function determines the output from this node - a value \n",
    "# between 0 and 1. Closer to 0 indicates a negative review. Closer to 1 \n",
    "# indicates a positive review.\n",
    "\n",
    "# To create a Dense Layer use a single unit and use sigmoid as the activation function\n",
    "### START CODE HERE ###\n",
    "model.add(tf.keras.layers.Dense(units=1, activation='sigmoid'))\n",
    "### END CODE HERE ###\n",
    "\n",
    "# Compile the model\n",
    "# To compile the model use the following parameters:\n",
    "#   - Keras Binary Cross Entropy as the loss funtion\n",
    "#   - Adam as the Optimizer\n",
    "#   - Accuracy as the reporting metrics\n",
    "### START CODE HERE ###\n",
    "model.compile(loss=tf.keras.losses.binary_crossentropy,\n",
    "             optimizer=tf.keras.optimizers.Adam(),\n",
    "             metrics=['accuracy'])\n",
    "### END CODE HERE ###\n",
    "\n",
    "\n",
    "# Display a summary of the models structure\n",
    "model.summary()"
   ]
  },
  {
   "cell_type": "markdown",
   "metadata": {
    "id": "8Xx1Q2I8WNI9"
   },
   "source": [
    "## Visualise the Model"
   ]
  },
  {
   "cell_type": "code",
   "execution_count": 14,
   "metadata": {
    "id": "cz0Erj2WU3Vh"
   },
   "outputs": [
    {
     "data": {
      "image/png": "[encoded data removed]",
      "text/plain": [
       "<IPython.core.display.Image object>"
      ]
     },
     "execution_count": 14,
     "metadata": {},
     "output_type": "execute_result"
    }
   ],
   "source": [
    "tf.keras.utils.plot_model(model, to_file='model.png', show_shapes=True, show_layer_names=False)"
   ]
  },
  {
   "cell_type": "markdown",
   "metadata": {
    "id": "5KdfAoHsGwzo"
   },
   "source": [
    "## Train the LSTM\r\n",
    "\r\n",
    "Use the [fit method](https://keras.io/api/models/model_training_apis/#fit-method) to Train the LSTM."
   ]
  },
  {
   "cell_type": "code",
   "execution_count": 16,
   "metadata": {
    "id": "rEN1vV4nG1V3"
   },
   "outputs": [
    {
     "name": "stdout",
     "output_type": "stream",
     "text": [
      "Epoch 1/3\n"
     ]
    },
    {
     "ename": "InvalidArgumentError",
     "evalue": "No OpKernel was registered to support Op 'CudnnRNNV2' used by {{node sequential_2/cu_dnnlstm_1/CudnnRNNV2}} with these attrs: [dropout=0, seed=0, input_mode=\"linear_input\", T=DT_FLOAT, direction=\"unidirectional\", rnn_mode=\"lstm\", seed2=0, is_training=true]\nRegistered devices: [CPU]\nRegistered kernels:\n  <no registered kernels>\n\n\t [[sequential_2/cu_dnnlstm_1/CudnnRNNV2]] [Op:__inference_train_function_3336]",
     "output_type": "error",
     "traceback": [
      "\u001b[0;31m---------------------------------------------------------------------------\u001b[0m",
      "\u001b[0;31mInvalidArgumentError\u001b[0m                      Traceback (most recent call last)",
      "\u001b[0;32m<ipython-input-16-71dc807f2308>\u001b[0m in \u001b[0;36m<module>\u001b[0;34m\u001b[0m\n\u001b[1;32m      3\u001b[0m \u001b[0;31m# Use 256 as batch size.\u001b[0m\u001b[0;34m\u001b[0m\u001b[0;34m\u001b[0m\u001b[0;34m\u001b[0m\u001b[0m\n\u001b[1;32m      4\u001b[0m \u001b[0;31m### START CODE HERE ###\u001b[0m\u001b[0;34m\u001b[0m\u001b[0;34m\u001b[0m\u001b[0;34m\u001b[0m\u001b[0m\n\u001b[0;32m----> 5\u001b[0;31m history = model.fit(x_train, y_train,\n\u001b[0m\u001b[1;32m      6\u001b[0m                     \u001b[0mvalidation_split\u001b[0m\u001b[0;34m=\u001b[0m\u001b[0;36m0.2\u001b[0m\u001b[0;34m,\u001b[0m\u001b[0;34m\u001b[0m\u001b[0;34m\u001b[0m\u001b[0m\n\u001b[1;32m      7\u001b[0m                     \u001b[0mepochs\u001b[0m\u001b[0;34m=\u001b[0m\u001b[0;36m3\u001b[0m\u001b[0;34m,\u001b[0m\u001b[0;34m\u001b[0m\u001b[0;34m\u001b[0m\u001b[0m\n",
      "\u001b[0;32m/usr/lib/python3.9/site-packages/tensorflow/python/keras/engine/training.py\u001b[0m in \u001b[0;36mfit\u001b[0;34m(self, x, y, batch_size, epochs, verbose, callbacks, validation_split, validation_data, shuffle, class_weight, sample_weight, initial_epoch, steps_per_epoch, validation_steps, validation_batch_size, validation_freq, max_queue_size, workers, use_multiprocessing)\u001b[0m\n\u001b[1;32m   1098\u001b[0m                 _r=1):\n\u001b[1;32m   1099\u001b[0m               \u001b[0mcallbacks\u001b[0m\u001b[0;34m.\u001b[0m\u001b[0mon_train_batch_begin\u001b[0m\u001b[0;34m(\u001b[0m\u001b[0mstep\u001b[0m\u001b[0;34m)\u001b[0m\u001b[0;34m\u001b[0m\u001b[0;34m\u001b[0m\u001b[0m\n\u001b[0;32m-> 1100\u001b[0;31m               \u001b[0mtmp_logs\u001b[0m \u001b[0;34m=\u001b[0m \u001b[0mself\u001b[0m\u001b[0;34m.\u001b[0m\u001b[0mtrain_function\u001b[0m\u001b[0;34m(\u001b[0m\u001b[0miterator\u001b[0m\u001b[0;34m)\u001b[0m\u001b[0;34m\u001b[0m\u001b[0;34m\u001b[0m\u001b[0m\n\u001b[0m\u001b[1;32m   1101\u001b[0m               \u001b[0;32mif\u001b[0m \u001b[0mdata_handler\u001b[0m\u001b[0;34m.\u001b[0m\u001b[0mshould_sync\u001b[0m\u001b[0;34m:\u001b[0m\u001b[0;34m\u001b[0m\u001b[0;34m\u001b[0m\u001b[0m\n\u001b[1;32m   1102\u001b[0m                 \u001b[0mcontext\u001b[0m\u001b[0;34m.\u001b[0m\u001b[0masync_wait\u001b[0m\u001b[0;34m(\u001b[0m\u001b[0;34m)\u001b[0m\u001b[0;34m\u001b[0m\u001b[0;34m\u001b[0m\u001b[0m\n",
      "\u001b[0;32m/usr/lib/python3.9/site-packages/tensorflow/python/eager/def_function.py\u001b[0m in \u001b[0;36m__call__\u001b[0;34m(self, *args, **kwds)\u001b[0m\n\u001b[1;32m    826\u001b[0m     \u001b[0mtracing_count\u001b[0m \u001b[0;34m=\u001b[0m \u001b[0mself\u001b[0m\u001b[0;34m.\u001b[0m\u001b[0mexperimental_get_tracing_count\u001b[0m\u001b[0;34m(\u001b[0m\u001b[0;34m)\u001b[0m\u001b[0;34m\u001b[0m\u001b[0;34m\u001b[0m\u001b[0m\n\u001b[1;32m    827\u001b[0m     \u001b[0;32mwith\u001b[0m \u001b[0mtrace\u001b[0m\u001b[0;34m.\u001b[0m\u001b[0mTrace\u001b[0m\u001b[0;34m(\u001b[0m\u001b[0mself\u001b[0m\u001b[0;34m.\u001b[0m\u001b[0m_name\u001b[0m\u001b[0;34m)\u001b[0m \u001b[0;32mas\u001b[0m \u001b[0mtm\u001b[0m\u001b[0;34m:\u001b[0m\u001b[0;34m\u001b[0m\u001b[0;34m\u001b[0m\u001b[0m\n\u001b[0;32m--> 828\u001b[0;31m       \u001b[0mresult\u001b[0m \u001b[0;34m=\u001b[0m \u001b[0mself\u001b[0m\u001b[0;34m.\u001b[0m\u001b[0m_call\u001b[0m\u001b[0;34m(\u001b[0m\u001b[0;34m*\u001b[0m\u001b[0margs\u001b[0m\u001b[0;34m,\u001b[0m \u001b[0;34m**\u001b[0m\u001b[0mkwds\u001b[0m\u001b[0;34m)\u001b[0m\u001b[0;34m\u001b[0m\u001b[0;34m\u001b[0m\u001b[0m\n\u001b[0m\u001b[1;32m    829\u001b[0m       \u001b[0mcompiler\u001b[0m \u001b[0;34m=\u001b[0m \u001b[0;34m\"xla\"\u001b[0m \u001b[0;32mif\u001b[0m \u001b[0mself\u001b[0m\u001b[0;34m.\u001b[0m\u001b[0m_experimental_compile\u001b[0m \u001b[0;32melse\u001b[0m \u001b[0;34m\"nonXla\"\u001b[0m\u001b[0;34m\u001b[0m\u001b[0;34m\u001b[0m\u001b[0m\n\u001b[1;32m    830\u001b[0m       \u001b[0mnew_tracing_count\u001b[0m \u001b[0;34m=\u001b[0m \u001b[0mself\u001b[0m\u001b[0;34m.\u001b[0m\u001b[0mexperimental_get_tracing_count\u001b[0m\u001b[0;34m(\u001b[0m\u001b[0;34m)\u001b[0m\u001b[0;34m\u001b[0m\u001b[0;34m\u001b[0m\u001b[0m\n",
      "\u001b[0;32m/usr/lib/python3.9/site-packages/tensorflow/python/eager/def_function.py\u001b[0m in \u001b[0;36m_call\u001b[0;34m(self, *args, **kwds)\u001b[0m\n\u001b[1;32m    853\u001b[0m       \u001b[0;31m# In this case we have created variables on the first call, so we run the\u001b[0m\u001b[0;34m\u001b[0m\u001b[0;34m\u001b[0m\u001b[0;34m\u001b[0m\u001b[0m\n\u001b[1;32m    854\u001b[0m       \u001b[0;31m# defunned version which is guaranteed to never create variables.\u001b[0m\u001b[0;34m\u001b[0m\u001b[0;34m\u001b[0m\u001b[0;34m\u001b[0m\u001b[0m\n\u001b[0;32m--> 855\u001b[0;31m       \u001b[0;32mreturn\u001b[0m \u001b[0mself\u001b[0m\u001b[0;34m.\u001b[0m\u001b[0m_stateless_fn\u001b[0m\u001b[0;34m(\u001b[0m\u001b[0;34m*\u001b[0m\u001b[0margs\u001b[0m\u001b[0;34m,\u001b[0m \u001b[0;34m**\u001b[0m\u001b[0mkwds\u001b[0m\u001b[0;34m)\u001b[0m  \u001b[0;31m# pylint: disable=not-callable\u001b[0m\u001b[0;34m\u001b[0m\u001b[0;34m\u001b[0m\u001b[0m\n\u001b[0m\u001b[1;32m    856\u001b[0m     \u001b[0;32melif\u001b[0m \u001b[0mself\u001b[0m\u001b[0;34m.\u001b[0m\u001b[0m_stateful_fn\u001b[0m \u001b[0;32mis\u001b[0m \u001b[0;32mnot\u001b[0m \u001b[0;32mNone\u001b[0m\u001b[0;34m:\u001b[0m\u001b[0;34m\u001b[0m\u001b[0;34m\u001b[0m\u001b[0m\n\u001b[1;32m    857\u001b[0m       \u001b[0;31m# Release the lock early so that multiple threads can perform the call\u001b[0m\u001b[0;34m\u001b[0m\u001b[0;34m\u001b[0m\u001b[0;34m\u001b[0m\u001b[0m\n",
      "\u001b[0;32m/usr/lib/python3.9/site-packages/tensorflow/python/eager/function.py\u001b[0m in \u001b[0;36m__call__\u001b[0;34m(self, *args, **kwargs)\u001b[0m\n\u001b[1;32m   2940\u001b[0m       (graph_function,\n\u001b[1;32m   2941\u001b[0m        filtered_flat_args) = self._maybe_define_function(args, kwargs)\n\u001b[0;32m-> 2942\u001b[0;31m     return graph_function._call_flat(\n\u001b[0m\u001b[1;32m   2943\u001b[0m         filtered_flat_args, captured_inputs=graph_function.captured_inputs)  # pylint: disable=protected-access\n\u001b[1;32m   2944\u001b[0m \u001b[0;34m\u001b[0m\u001b[0m\n",
      "\u001b[0;32m/usr/lib/python3.9/site-packages/tensorflow/python/eager/function.py\u001b[0m in \u001b[0;36m_call_flat\u001b[0;34m(self, args, captured_inputs, cancellation_manager)\u001b[0m\n\u001b[1;32m   1916\u001b[0m         and executing_eagerly):\n\u001b[1;32m   1917\u001b[0m       \u001b[0;31m# No tape is watching; skip to running the function.\u001b[0m\u001b[0;34m\u001b[0m\u001b[0;34m\u001b[0m\u001b[0;34m\u001b[0m\u001b[0m\n\u001b[0;32m-> 1918\u001b[0;31m       return self._build_call_outputs(self._inference_function.call(\n\u001b[0m\u001b[1;32m   1919\u001b[0m           ctx, args, cancellation_manager=cancellation_manager))\n\u001b[1;32m   1920\u001b[0m     forward_backward = self._select_forward_and_backward_functions(\n",
      "\u001b[0;32m/usr/lib/python3.9/site-packages/tensorflow/python/eager/function.py\u001b[0m in \u001b[0;36mcall\u001b[0;34m(self, ctx, args, cancellation_manager)\u001b[0m\n\u001b[1;32m    553\u001b[0m       \u001b[0;32mwith\u001b[0m \u001b[0m_InterpolateFunctionError\u001b[0m\u001b[0;34m(\u001b[0m\u001b[0mself\u001b[0m\u001b[0;34m)\u001b[0m\u001b[0;34m:\u001b[0m\u001b[0;34m\u001b[0m\u001b[0;34m\u001b[0m\u001b[0m\n\u001b[1;32m    554\u001b[0m         \u001b[0;32mif\u001b[0m \u001b[0mcancellation_manager\u001b[0m \u001b[0;32mis\u001b[0m \u001b[0;32mNone\u001b[0m\u001b[0;34m:\u001b[0m\u001b[0;34m\u001b[0m\u001b[0;34m\u001b[0m\u001b[0m\n\u001b[0;32m--> 555\u001b[0;31m           outputs = execute.execute(\n\u001b[0m\u001b[1;32m    556\u001b[0m               \u001b[0mstr\u001b[0m\u001b[0;34m(\u001b[0m\u001b[0mself\u001b[0m\u001b[0;34m.\u001b[0m\u001b[0msignature\u001b[0m\u001b[0;34m.\u001b[0m\u001b[0mname\u001b[0m\u001b[0;34m)\u001b[0m\u001b[0;34m,\u001b[0m\u001b[0;34m\u001b[0m\u001b[0;34m\u001b[0m\u001b[0m\n\u001b[1;32m    557\u001b[0m               \u001b[0mnum_outputs\u001b[0m\u001b[0;34m=\u001b[0m\u001b[0mself\u001b[0m\u001b[0;34m.\u001b[0m\u001b[0m_num_outputs\u001b[0m\u001b[0;34m,\u001b[0m\u001b[0;34m\u001b[0m\u001b[0;34m\u001b[0m\u001b[0m\n",
      "\u001b[0;32m/usr/lib/python3.9/site-packages/tensorflow/python/eager/execute.py\u001b[0m in \u001b[0;36mquick_execute\u001b[0;34m(op_name, num_outputs, inputs, attrs, ctx, name)\u001b[0m\n\u001b[1;32m     57\u001b[0m   \u001b[0;32mtry\u001b[0m\u001b[0;34m:\u001b[0m\u001b[0;34m\u001b[0m\u001b[0;34m\u001b[0m\u001b[0m\n\u001b[1;32m     58\u001b[0m     \u001b[0mctx\u001b[0m\u001b[0;34m.\u001b[0m\u001b[0mensure_initialized\u001b[0m\u001b[0;34m(\u001b[0m\u001b[0;34m)\u001b[0m\u001b[0;34m\u001b[0m\u001b[0;34m\u001b[0m\u001b[0m\n\u001b[0;32m---> 59\u001b[0;31m     tensors = pywrap_tfe.TFE_Py_Execute(ctx._handle, device_name, op_name,\n\u001b[0m\u001b[1;32m     60\u001b[0m                                         inputs, attrs, num_outputs)\n\u001b[1;32m     61\u001b[0m   \u001b[0;32mexcept\u001b[0m \u001b[0mcore\u001b[0m\u001b[0;34m.\u001b[0m\u001b[0m_NotOkStatusException\u001b[0m \u001b[0;32mas\u001b[0m \u001b[0me\u001b[0m\u001b[0;34m:\u001b[0m\u001b[0;34m\u001b[0m\u001b[0;34m\u001b[0m\u001b[0m\n",
      "\u001b[0;31mInvalidArgumentError\u001b[0m: No OpKernel was registered to support Op 'CudnnRNNV2' used by {{node sequential_2/cu_dnnlstm_1/CudnnRNNV2}} with these attrs: [dropout=0, seed=0, input_mode=\"linear_input\", T=DT_FLOAT, direction=\"unidirectional\", rnn_mode=\"lstm\", seed2=0, is_training=true]\nRegistered devices: [CPU]\nRegistered kernels:\n  <no registered kernels>\n\n\t [[sequential_2/cu_dnnlstm_1/CudnnRNNV2]] [Op:__inference_train_function_3336]"
     ]
    }
   ],
   "source": [
    "# Train the LSTM for 3 epochs by feeding in the training data and set validation split as 0.2 and return the logs \n",
    "# and save it as history.\n",
    "# Use 256 as batch size.\n",
    "### START CODE HERE ###\n",
    "history = model.fit(x_train, y_train,\n",
    "                    validation_split=0.2,\n",
    "                    epochs=3,\n",
    "                   batch_size=256)\n",
    "### END CODE HERE ###"
   ]
  },
  {
   "cell_type": "markdown",
   "metadata": {
    "id": "rpCS2-jFH1KY"
   },
   "source": [
    "## Evaluate model with test data and view results\r\n"
   ]
  },
  {
   "cell_type": "code",
   "execution_count": null,
   "metadata": {
    "id": "nPnfxwbnITqV"
   },
   "outputs": [],
   "source": [
    "from sklearn.metrics import classification_report\n",
    "# Use predict_classes from the Sequential API to get prediction classes for test data and create a classification report.\n",
    "### START CODE HERE ###\n",
    "predicted_classes = None\n",
    "print(classification_report(None))\n",
    "### END CODE HERE ###"
   ]
  },
  {
   "cell_type": "markdown",
   "metadata": {
    "id": "LTZjzhfZKgQ5"
   },
   "source": [
    "## Create an Area under the ROC Curve Plot\r\n",
    "\r\n",
    "A receiver operating characteristic curve, or ROC curve, is a graphical plot that illustrates the diagnostic ability of a binary classifier system as its discrimination threshold is varied. \r\n",
    "\r\n",
    "Further Reading: [Understanding AUC - ROC Curve](https://towardsdatascience.com/understanding-auc-roc-curve-68b2303cc9c5)"
   ]
  },
  {
   "cell_type": "code",
   "execution_count": null,
   "metadata": {
    "id": "1qQhOyJtYPQw"
   },
   "outputs": [],
   "source": [
    "from sklearn.metrics import roc_curve, auc\r\n",
    "import matplotlib.pyplot as plt\r\n",
    "\r\n",
    "# Use predict to make predictions on the test set and return it as y_pred.\r\n",
    "# Then use sklearn's roc_curve API to calculate the false positive and true positive rate and return the threshold.\r\n",
    "# Finally, use the false positive and true positive rate to calculate the Area Under the Curve using the auc API.\r\n",
    "### START CODE HERE ###\r\n",
    "y_pred = None\r\n",
    "fpr, tpr, thresholds = None\r\n",
    "roc_auc = None\r\n",
    "### END CODE HERE ###\r\n",
    "\r\n",
    "def plot_roc_curve(fpr,tpr, roc_auc): \r\n",
    "    plt.plot(fpr, tpr, color='darkorange', lw=2, label=f'ROC curve (area = {roc_auc:0.2f})')\r\n",
    "    plt.plot([0, 1], [0, 1], color='navy', lw=2, linestyle='--')\r\n",
    "    plt.axis([0,1,0,1]) \r\n",
    "    plt.xlabel('False Positive Rate') \r\n",
    "    plt.ylabel('True Positive Rate')\r\n",
    "    plt.legend(loc=\"lower right\") \r\n",
    "    plt.show()    \r\n",
    "  \r\n",
    "plot_roc_curve (fpr,tpr, roc_auc)"
   ]
  },
  {
   "cell_type": "markdown",
   "metadata": {
    "id": "OlAfxIoTrtYa"
   },
   "source": [
    "## Run your own text against the trained model\n",
    "\n",
    "This is a fun way to test out the limits of the trained model. To avoid getting errors - type in lower case only and do not use punctuation! \n",
    "\n",
    "You'll see the raw prediction from the model - basically a value between 0 and 1.\n",
    "\n"
   ]
  },
  {
   "cell_type": "code",
   "execution_count": null,
   "metadata": {
    "id": "UEKEB0DpD_8P"
   },
   "outputs": [],
   "source": [
    "# Write your own review for example:\n",
    "# review = \"this was a terrible film with too much sex and violence i walked out halfway through\"\n",
    "review = None\n",
    "\n",
    "# Encode review (replace word with integers)\n",
    "review_encoded = [word_index[word] for word in review.split(\" \")]\n",
    "\n",
    "# Ensure review_encoded is 500 words long by padding it using pad_sequences\n",
    "### START CODE HERE ###\n",
    "review_padded = None\n",
    "### END CODE HERE ###\n",
    "\n",
    "# Run your review_padded against the trained model\n",
    "### START CODE HERE ###\n",
    "raw_prediction = model.predict(array([None][0]))[0][0]\n",
    "### END CODE HERE ###\n",
    "prediction = int(round(raw_prediction))\n",
    "\n",
    "\n",
    "# Test the model and print the result\n",
    "print(\"Review: \" + review)\n",
    "print(\"Raw Prediction: \" + str(raw_prediction))\n",
    "print(\"Predicted Class: \" + class_names[prediction])"
   ]
  }
 ],
 "metadata": {
  "colab": {
   "collapsed_sections": [],
   "machine_shape": "hm",
   "name": "Week_10_LSTM_Assignment_IMDB_Sentiment_Analysis.ipynb",
   "provenance": []
  },
  "kernelspec": {
   "display_name": "Python 3",
   "language": "python",
   "name": "python3"
  },
  "language_info": {
   "codemirror_mode": {
    "name": "ipython",
    "version": 3
   },
   "file_extension": ".py",
   "mimetype": "text/x-python",
   "name": "python",
   "nbconvert_exporter": "python",
   "pygments_lexer": "ipython3",
   "version": "3.9.1"
  }
 },
 "nbformat": 4,
 "nbformat_minor": 4
}
