{
 "cells": [
  {
   "cell_type": "code",
   "execution_count": null,
   "metadata": {},
   "outputs": [],
   "source": [
    "# Clean and reset data to original for \n",
    "# re-running the notebook from the start\n",
    "\n",
    "import os\n",
    "import shutil\n",
    "os.chdir('/home/sarah/FourthBrain/Midterm')\n",
    "path = './Data/train/validation'\n",
    "files = os.listdir('./Data/train/validation')\n",
    "for file in files:\n",
    "    file = os.path.join(path, file)\n",
    "    shutil.move(file, './Data/train/train')"
   ]
  },
  {
   "cell_type": "code",
   "execution_count": null,
   "metadata": {},
   "outputs": [],
   "source": [
    "pwd"
   ]
  },
  {
   "cell_type": "code",
   "execution_count": 3,
   "metadata": {},
   "outputs": [
    {
     "data": {
      "text/html": [
       "<div>\n",
       "<style scoped>\n",
       "    .dataframe tbody tr th:only-of-type {\n",
       "        vertical-align: middle;\n",
       "    }\n",
       "\n",
       "    .dataframe tbody tr th {\n",
       "        vertical-align: top;\n",
       "    }\n",
       "\n",
       "    .dataframe thead th {\n",
       "        text-align: right;\n",
       "    }\n",
       "</style>\n",
       "<table border=\"1\" class=\"dataframe\">\n",
       "  <thead>\n",
       "    <tr style=\"text-align: right;\">\n",
       "      <th></th>\n",
       "      <th>filename</th>\n",
       "      <th>opacity</th>\n",
       "      <th>diabetic retinopathy</th>\n",
       "      <th>glaucoma</th>\n",
       "      <th>macular edema</th>\n",
       "      <th>macular degeneration</th>\n",
       "      <th>retinal vascular occlusion</th>\n",
       "      <th>normal</th>\n",
       "    </tr>\n",
       "  </thead>\n",
       "  <tbody>\n",
       "    <tr>\n",
       "      <th>0</th>\n",
       "      <td>c24a1b14d253.jpg</td>\n",
       "      <td>0</td>\n",
       "      <td>0</td>\n",
       "      <td>0</td>\n",
       "      <td>0</td>\n",
       "      <td>0</td>\n",
       "      <td>1</td>\n",
       "      <td>0</td>\n",
       "    </tr>\n",
       "    <tr>\n",
       "      <th>1</th>\n",
       "      <td>9ee905a41651.jpg</td>\n",
       "      <td>0</td>\n",
       "      <td>0</td>\n",
       "      <td>0</td>\n",
       "      <td>0</td>\n",
       "      <td>0</td>\n",
       "      <td>1</td>\n",
       "      <td>0</td>\n",
       "    </tr>\n",
       "    <tr>\n",
       "      <th>2</th>\n",
       "      <td>3f58d128caf6.jpg</td>\n",
       "      <td>0</td>\n",
       "      <td>0</td>\n",
       "      <td>1</td>\n",
       "      <td>0</td>\n",
       "      <td>0</td>\n",
       "      <td>0</td>\n",
       "      <td>0</td>\n",
       "    </tr>\n",
       "    <tr>\n",
       "      <th>3</th>\n",
       "      <td>4ce6599e7b20.jpg</td>\n",
       "      <td>1</td>\n",
       "      <td>0</td>\n",
       "      <td>0</td>\n",
       "      <td>0</td>\n",
       "      <td>1</td>\n",
       "      <td>0</td>\n",
       "      <td>0</td>\n",
       "    </tr>\n",
       "    <tr>\n",
       "      <th>4</th>\n",
       "      <td>0def470360e4.jpg</td>\n",
       "      <td>1</td>\n",
       "      <td>0</td>\n",
       "      <td>0</td>\n",
       "      <td>0</td>\n",
       "      <td>1</td>\n",
       "      <td>0</td>\n",
       "      <td>0</td>\n",
       "    </tr>\n",
       "  </tbody>\n",
       "</table>\n",
       "</div>"
      ],
      "text/plain": [
       "           filename  opacity  diabetic retinopathy  glaucoma  macular edema  \\\n",
       "0  c24a1b14d253.jpg        0                     0         0              0   \n",
       "1  9ee905a41651.jpg        0                     0         0              0   \n",
       "2  3f58d128caf6.jpg        0                     0         1              0   \n",
       "3  4ce6599e7b20.jpg        1                     0         0              0   \n",
       "4  0def470360e4.jpg        1                     0         0              0   \n",
       "\n",
       "   macular degeneration  retinal vascular occlusion  normal  \n",
       "0                     0                           1       0  \n",
       "1                     0                           1       0  \n",
       "2                     0                           0       0  \n",
       "3                     1                           0       0  \n",
       "4                     1                           0       0  "
      ]
     },
     "execution_count": 3,
     "metadata": {},
     "output_type": "execute_result"
    }
   ],
   "source": [
    "import numpy as np\n",
    "import pandas as pd\n",
    "\n",
    "# bring in training csv\n",
    "train_csv = pd.read_csv('./Data/train/train.csv')\n",
    "train_csv.head()"
   ]
  },
  {
   "cell_type": "code",
   "execution_count": 4,
   "metadata": {},
   "outputs": [
    {
     "data": {
      "text/plain": [
       "(3435, 8)"
      ]
     },
     "execution_count": 4,
     "metadata": {},
     "output_type": "execute_result"
    }
   ],
   "source": [
    "train_csv.shape"
   ]
  },
  {
   "cell_type": "code",
   "execution_count": 5,
   "metadata": {},
   "outputs": [
    {
     "data": {
      "text/plain": [
       "(3435, 4)"
      ]
     },
     "execution_count": 5,
     "metadata": {},
     "output_type": "execute_result"
    }
   ],
   "source": [
    "# Drop columns we aren't using\n",
    "train_csv = train_csv.drop(labels=['opacity', 'macular edema',\n",
    "                                   'macular degeneration',\n",
    "                                   'retinal vascular occlusion'],\n",
    "                           axis='columns')\n",
    "train_csv.shape"
   ]
  },
  {
   "cell_type": "code",
   "execution_count": 6,
   "metadata": {},
   "outputs": [
    {
     "data": {
      "text/html": [
       "<div>\n",
       "<style scoped>\n",
       "    .dataframe tbody tr th:only-of-type {\n",
       "        vertical-align: middle;\n",
       "    }\n",
       "\n",
       "    .dataframe tbody tr th {\n",
       "        vertical-align: top;\n",
       "    }\n",
       "\n",
       "    .dataframe thead th {\n",
       "        text-align: right;\n",
       "    }\n",
       "</style>\n",
       "<table border=\"1\" class=\"dataframe\">\n",
       "  <thead>\n",
       "    <tr style=\"text-align: right;\">\n",
       "      <th></th>\n",
       "      <th>filename</th>\n",
       "      <th>diabetic retinopathy</th>\n",
       "      <th>glaucoma</th>\n",
       "      <th>normal</th>\n",
       "    </tr>\n",
       "  </thead>\n",
       "  <tbody>\n",
       "    <tr>\n",
       "      <th>0</th>\n",
       "      <td>c24a1b14d253.jpg</td>\n",
       "      <td>0</td>\n",
       "      <td>0</td>\n",
       "      <td>0</td>\n",
       "    </tr>\n",
       "    <tr>\n",
       "      <th>1</th>\n",
       "      <td>9ee905a41651.jpg</td>\n",
       "      <td>0</td>\n",
       "      <td>0</td>\n",
       "      <td>0</td>\n",
       "    </tr>\n",
       "    <tr>\n",
       "      <th>2</th>\n",
       "      <td>3f58d128caf6.jpg</td>\n",
       "      <td>0</td>\n",
       "      <td>1</td>\n",
       "      <td>0</td>\n",
       "    </tr>\n",
       "    <tr>\n",
       "      <th>3</th>\n",
       "      <td>4ce6599e7b20.jpg</td>\n",
       "      <td>0</td>\n",
       "      <td>0</td>\n",
       "      <td>0</td>\n",
       "    </tr>\n",
       "    <tr>\n",
       "      <th>4</th>\n",
       "      <td>0def470360e4.jpg</td>\n",
       "      <td>0</td>\n",
       "      <td>0</td>\n",
       "      <td>0</td>\n",
       "    </tr>\n",
       "  </tbody>\n",
       "</table>\n",
       "</div>"
      ],
      "text/plain": [
       "           filename  diabetic retinopathy  glaucoma  normal\n",
       "0  c24a1b14d253.jpg                     0         0       0\n",
       "1  9ee905a41651.jpg                     0         0       0\n",
       "2  3f58d128caf6.jpg                     0         1       0\n",
       "3  4ce6599e7b20.jpg                     0         0       0\n",
       "4  0def470360e4.jpg                     0         0       0"
      ]
     },
     "execution_count": 6,
     "metadata": {},
     "output_type": "execute_result"
    }
   ],
   "source": [
    "train_csv.head()"
   ]
  },
  {
   "cell_type": "code",
   "execution_count": 7,
   "metadata": {},
   "outputs": [
    {
     "data": {
      "text/html": [
       "<div>\n",
       "<style scoped>\n",
       "    .dataframe tbody tr th:only-of-type {\n",
       "        vertical-align: middle;\n",
       "    }\n",
       "\n",
       "    .dataframe tbody tr th {\n",
       "        vertical-align: top;\n",
       "    }\n",
       "\n",
       "    .dataframe thead th {\n",
       "        text-align: right;\n",
       "    }\n",
       "</style>\n",
       "<table border=\"1\" class=\"dataframe\">\n",
       "  <thead>\n",
       "    <tr style=\"text-align: right;\">\n",
       "      <th></th>\n",
       "      <th>filename</th>\n",
       "      <th>diabetic retinopathy</th>\n",
       "      <th>glaucoma</th>\n",
       "      <th>normal</th>\n",
       "      <th>other</th>\n",
       "    </tr>\n",
       "  </thead>\n",
       "  <tbody>\n",
       "    <tr>\n",
       "      <th>0</th>\n",
       "      <td>c24a1b14d253.jpg</td>\n",
       "      <td>0</td>\n",
       "      <td>0</td>\n",
       "      <td>0</td>\n",
       "      <td>1</td>\n",
       "    </tr>\n",
       "    <tr>\n",
       "      <th>1</th>\n",
       "      <td>9ee905a41651.jpg</td>\n",
       "      <td>0</td>\n",
       "      <td>0</td>\n",
       "      <td>0</td>\n",
       "      <td>1</td>\n",
       "    </tr>\n",
       "    <tr>\n",
       "      <th>2</th>\n",
       "      <td>3f58d128caf6.jpg</td>\n",
       "      <td>0</td>\n",
       "      <td>1</td>\n",
       "      <td>0</td>\n",
       "      <td>0</td>\n",
       "    </tr>\n",
       "    <tr>\n",
       "      <th>3</th>\n",
       "      <td>4ce6599e7b20.jpg</td>\n",
       "      <td>0</td>\n",
       "      <td>0</td>\n",
       "      <td>0</td>\n",
       "      <td>1</td>\n",
       "    </tr>\n",
       "    <tr>\n",
       "      <th>4</th>\n",
       "      <td>0def470360e4.jpg</td>\n",
       "      <td>0</td>\n",
       "      <td>0</td>\n",
       "      <td>0</td>\n",
       "      <td>1</td>\n",
       "    </tr>\n",
       "  </tbody>\n",
       "</table>\n",
       "</div>"
      ],
      "text/plain": [
       "           filename  diabetic retinopathy  glaucoma  normal  other\n",
       "0  c24a1b14d253.jpg                     0         0       0      1\n",
       "1  9ee905a41651.jpg                     0         0       0      1\n",
       "2  3f58d128caf6.jpg                     0         1       0      0\n",
       "3  4ce6599e7b20.jpg                     0         0       0      1\n",
       "4  0def470360e4.jpg                     0         0       0      1"
      ]
     },
     "execution_count": 7,
     "metadata": {},
     "output_type": "execute_result"
    }
   ],
   "source": [
    "# !!!!! TODO: Determine what to do with images that belong to no category\n",
    "conditions = [\n",
    "    (train_csv['diabetic retinopathy'] == 1),\n",
    "    (train_csv['diabetic retinopathy'] == 1),\n",
    "    (train_csv['diabetic retinopathy'] == 1),\n",
    "    (train_csv['diabetic retinopathy'] == 0) \n",
    "    & (train_csv['glaucoma'] == 0)\n",
    "    & (train_csv['normal'] == 0),\n",
    "]\n",
    "values = [0, 0, 0, 1]\n",
    "train_csv['other'] = np.select(conditions, values)\n",
    "train_csv.head()"
   ]
  },
  {
   "cell_type": "code",
   "execution_count": 8,
   "metadata": {},
   "outputs": [
    {
     "name": "stdout",
     "output_type": "stream",
     "text": [
      "(3435, 5)\n"
     ]
    }
   ],
   "source": [
    "# Shuffle the data\n",
    "train_csv = train_csv.sample(frac=1)\n",
    "print(train_csv.shape)"
   ]
  },
  {
   "cell_type": "code",
   "execution_count": 9,
   "metadata": {},
   "outputs": [
    {
     "data": {
      "text/html": [
       "<div>\n",
       "<style scoped>\n",
       "    .dataframe tbody tr th:only-of-type {\n",
       "        vertical-align: middle;\n",
       "    }\n",
       "\n",
       "    .dataframe tbody tr th {\n",
       "        vertical-align: top;\n",
       "    }\n",
       "\n",
       "    .dataframe thead th {\n",
       "        text-align: right;\n",
       "    }\n",
       "</style>\n",
       "<table border=\"1\" class=\"dataframe\">\n",
       "  <thead>\n",
       "    <tr style=\"text-align: right;\">\n",
       "      <th></th>\n",
       "      <th>diabetic retinopathy</th>\n",
       "      <th>glaucoma</th>\n",
       "      <th>normal</th>\n",
       "      <th>other</th>\n",
       "    </tr>\n",
       "  </thead>\n",
       "  <tbody>\n",
       "    <tr>\n",
       "      <th>count</th>\n",
       "      <td>3435.000000</td>\n",
       "      <td>3435.000000</td>\n",
       "      <td>3435.000000</td>\n",
       "      <td>3435.000000</td>\n",
       "    </tr>\n",
       "    <tr>\n",
       "      <th>mean</th>\n",
       "      <td>0.219796</td>\n",
       "      <td>0.173799</td>\n",
       "      <td>0.152838</td>\n",
       "      <td>0.459098</td>\n",
       "    </tr>\n",
       "    <tr>\n",
       "      <th>std</th>\n",
       "      <td>0.414169</td>\n",
       "      <td>0.378992</td>\n",
       "      <td>0.359884</td>\n",
       "      <td>0.498397</td>\n",
       "    </tr>\n",
       "    <tr>\n",
       "      <th>min</th>\n",
       "      <td>0.000000</td>\n",
       "      <td>0.000000</td>\n",
       "      <td>0.000000</td>\n",
       "      <td>0.000000</td>\n",
       "    </tr>\n",
       "    <tr>\n",
       "      <th>25%</th>\n",
       "      <td>0.000000</td>\n",
       "      <td>0.000000</td>\n",
       "      <td>0.000000</td>\n",
       "      <td>0.000000</td>\n",
       "    </tr>\n",
       "    <tr>\n",
       "      <th>50%</th>\n",
       "      <td>0.000000</td>\n",
       "      <td>0.000000</td>\n",
       "      <td>0.000000</td>\n",
       "      <td>0.000000</td>\n",
       "    </tr>\n",
       "    <tr>\n",
       "      <th>75%</th>\n",
       "      <td>0.000000</td>\n",
       "      <td>0.000000</td>\n",
       "      <td>0.000000</td>\n",
       "      <td>1.000000</td>\n",
       "    </tr>\n",
       "    <tr>\n",
       "      <th>max</th>\n",
       "      <td>1.000000</td>\n",
       "      <td>1.000000</td>\n",
       "      <td>1.000000</td>\n",
       "      <td>1.000000</td>\n",
       "    </tr>\n",
       "  </tbody>\n",
       "</table>\n",
       "</div>"
      ],
      "text/plain": [
       "       diabetic retinopathy     glaucoma       normal        other\n",
       "count           3435.000000  3435.000000  3435.000000  3435.000000\n",
       "mean               0.219796     0.173799     0.152838     0.459098\n",
       "std                0.414169     0.378992     0.359884     0.498397\n",
       "min                0.000000     0.000000     0.000000     0.000000\n",
       "25%                0.000000     0.000000     0.000000     0.000000\n",
       "50%                0.000000     0.000000     0.000000     0.000000\n",
       "75%                0.000000     0.000000     0.000000     1.000000\n",
       "max                1.000000     1.000000     1.000000     1.000000"
      ]
     },
     "execution_count": 9,
     "metadata": {},
     "output_type": "execute_result"
    }
   ],
   "source": [
    "train_csv.describe()"
   ]
  },
  {
   "cell_type": "code",
   "execution_count": 10,
   "metadata": {},
   "outputs": [
    {
     "data": {
      "text/plain": [
       "array([[<AxesSubplot:title={'center':'diabetic retinopathy'}>,\n",
       "        <AxesSubplot:title={'center':'glaucoma'}>],\n",
       "       [<AxesSubplot:title={'center':'normal'}>,\n",
       "        <AxesSubplot:title={'center':'other'}>]], dtype=object)"
      ]
     },
     "execution_count": 10,
     "metadata": {},
     "output_type": "execute_result"
    },
    {
     "data": {
      "image/png": "[encoded data removed]",
      "text/plain": [
       "<Figure size 432x288 with 4 Axes>"
      ]
     },
     "metadata": {
      "needs_background": "light"
     },
     "output_type": "display_data"
    }
   ],
   "source": [
    "train_csv.hist()"
   ]
  },
  {
   "cell_type": "code",
   "execution_count": 11,
   "metadata": {},
   "outputs": [],
   "source": [
    "import math\n",
    "test_portion = math.floor(.3 * train_csv.shape[0])"
   ]
  },
  {
   "cell_type": "code",
   "execution_count": 12,
   "metadata": {},
   "outputs": [
    {
     "data": {
      "text/plain": [
       "(1030, 5)"
      ]
     },
     "execution_count": 12,
     "metadata": {},
     "output_type": "execute_result"
    }
   ],
   "source": [
    "test_csv = train_csv[0:test_portion]\n",
    "test_csv.shape"
   ]
  },
  {
   "cell_type": "code",
   "execution_count": 13,
   "metadata": {},
   "outputs": [
    {
     "data": {
      "text/html": [
       "<div>\n",
       "<style scoped>\n",
       "    .dataframe tbody tr th:only-of-type {\n",
       "        vertical-align: middle;\n",
       "    }\n",
       "\n",
       "    .dataframe tbody tr th {\n",
       "        vertical-align: top;\n",
       "    }\n",
       "\n",
       "    .dataframe thead th {\n",
       "        text-align: right;\n",
       "    }\n",
       "</style>\n",
       "<table border=\"1\" class=\"dataframe\">\n",
       "  <thead>\n",
       "    <tr style=\"text-align: right;\">\n",
       "      <th></th>\n",
       "      <th>filename</th>\n",
       "      <th>diabetic retinopathy</th>\n",
       "      <th>glaucoma</th>\n",
       "      <th>normal</th>\n",
       "      <th>other</th>\n",
       "    </tr>\n",
       "  </thead>\n",
       "  <tbody>\n",
       "    <tr>\n",
       "      <th>1031</th>\n",
       "      <td>c7f7985433a8.jpg</td>\n",
       "      <td>0</td>\n",
       "      <td>1</td>\n",
       "      <td>0</td>\n",
       "      <td>0</td>\n",
       "    </tr>\n",
       "    <tr>\n",
       "      <th>1509</th>\n",
       "      <td>5c79ad99f036.jpg</td>\n",
       "      <td>0</td>\n",
       "      <td>0</td>\n",
       "      <td>0</td>\n",
       "      <td>1</td>\n",
       "    </tr>\n",
       "    <tr>\n",
       "      <th>1603</th>\n",
       "      <td>3ebf8794ed00.jpg</td>\n",
       "      <td>0</td>\n",
       "      <td>1</td>\n",
       "      <td>0</td>\n",
       "      <td>0</td>\n",
       "    </tr>\n",
       "    <tr>\n",
       "      <th>355</th>\n",
       "      <td>7f50931443a3.jpg</td>\n",
       "      <td>1</td>\n",
       "      <td>0</td>\n",
       "      <td>0</td>\n",
       "      <td>0</td>\n",
       "    </tr>\n",
       "    <tr>\n",
       "      <th>2103</th>\n",
       "      <td>75454149be0b.jpg</td>\n",
       "      <td>0</td>\n",
       "      <td>0</td>\n",
       "      <td>0</td>\n",
       "      <td>1</td>\n",
       "    </tr>\n",
       "  </tbody>\n",
       "</table>\n",
       "</div>"
      ],
      "text/plain": [
       "              filename  diabetic retinopathy  glaucoma  normal  other\n",
       "1031  c7f7985433a8.jpg                     0         1       0      0\n",
       "1509  5c79ad99f036.jpg                     0         0       0      1\n",
       "1603  3ebf8794ed00.jpg                     0         1       0      0\n",
       "355   7f50931443a3.jpg                     1         0       0      0\n",
       "2103  75454149be0b.jpg                     0         0       0      1"
      ]
     },
     "execution_count": 13,
     "metadata": {},
     "output_type": "execute_result"
    }
   ],
   "source": [
    "test_csv.head()"
   ]
  },
  {
   "cell_type": "code",
   "execution_count": 14,
   "metadata": {},
   "outputs": [
    {
     "data": {
      "text/plain": [
       "(2405, 5)"
      ]
     },
     "execution_count": 14,
     "metadata": {},
     "output_type": "execute_result"
    }
   ],
   "source": [
    "train_csv = train_csv[test_portion:]\n",
    "train_csv.shape"
   ]
  },
  {
   "cell_type": "code",
   "execution_count": 15,
   "metadata": {},
   "outputs": [
    {
     "name": "stdout",
     "output_type": "stream",
     "text": [
      "3437\n"
     ]
    }
   ],
   "source": [
    "import os\n",
    "files = os.listdir('./Data/train/train/')\n",
    "print(len(files))"
   ]
  },
  {
   "cell_type": "code",
   "execution_count": 16,
   "metadata": {},
   "outputs": [],
   "source": [
    "validation_images = test_csv['filename']\n",
    "for file in validation_images:\n",
    "    file = os.path.join('./Data/train/train', file)\n",
    "    #print(file)\n",
    "    shutil.move(file, '/home/sarah/FourthBrain/Midterm/Data/train/validation')"
   ]
  },
  {
   "cell_type": "code",
   "execution_count": 17,
   "metadata": {},
   "outputs": [],
   "source": [
    "from tensorflow.keras.models import *\n",
    "from tensorflow.keras.layers import *\n",
    "from tensorflow.keras.optimizers import *\n",
    "from tensorflow.keras.callbacks import ModelCheckpoint, LearningRateScheduler, EarlyStopping\n",
    "from tensorflow.keras import backend as keras\n",
    "import tensorflow as tf\n",
    "from tensorflow.keras.preprocessing.image import ImageDataGenerator\n",
    "import matplotlib.pyplot as plt\n",
    "import scipy.misc as sc"
   ]
  },
  {
   "cell_type": "code",
   "execution_count": 18,
   "metadata": {},
   "outputs": [],
   "source": [
    "datagen = tf.keras.preprocessing.image.ImageDataGenerator(rotation_range=0.2,\n",
    "                                                 width_shift_range=0.05,\n",
    "                                                 height_shift_range=0.05,\n",
    "                                                 zoom_range=[0.7,1],\n",
    "                                                 horizontal_flip=True,\n",
    "                                                 vertical_flip=True)"
   ]
  },
  {
   "cell_type": "code",
   "execution_count": 19,
   "metadata": {},
   "outputs": [],
   "source": [
    "def sad_model(pretrained_weights=None, input_size=(224, 224, 3)):\n",
    "    inputs = tf.keras.Input(shape=input_size)\n",
    "    x = Conv2D(64, 3, activation='relu', padding='same')(inputs)\n",
    "    x = Conv2D(64, 3, activation='relu', padding='same')(x)\n",
    "    x = MaxPool2D()(x)\n",
    "    \n",
    "    flat = Flatten()(x)\n",
    "    dense = Dense(1*1*512, activation='relu')(flat)\n",
    "    dropout = Dropout(0.5)(dense)\n",
    "    \n",
    "    dense = Dense(4096, activation='relu')(dense)\n",
    "    dropout = Dropout(0.5)(dense)\n",
    "    \n",
    "    dense_last = Dense(4, activation='relu')(dropout)\n",
    "    \n",
    "    soft = Softmax()(dense_last)\n",
    "    \n",
    "    model = tf.keras.Model(inputs=inputs, outputs=soft)\n",
    "    \n",
    "    model.compile(optimizer=Adam(lr=1e-5), loss='categorical_crossentropy', metrics='accuracy')\n",
    "    \n",
    "    if (pretrained_weights):\n",
    "        model=keras.models.load_model(pretrained_weights)\n",
    "    \n",
    "    return model"
   ]
  },
  {
   "cell_type": "code",
   "execution_count": 20,
   "metadata": {},
   "outputs": [
    {
     "name": "stdout",
     "output_type": "stream",
     "text": [
      "Model: \"model\"\n",
      "_________________________________________________________________\n",
      "Layer (type)                 Output Shape              Param #   \n",
      "=================================================================\n",
      "input_1 (InputLayer)         [(None, 224, 224, 3)]     0         \n",
      "_________________________________________________________________\n",
      "conv2d (Conv2D)              (None, 224, 224, 64)      1792      \n",
      "_________________________________________________________________\n",
      "conv2d_1 (Conv2D)            (None, 224, 224, 64)      36928     \n",
      "_________________________________________________________________\n",
      "max_pooling2d (MaxPooling2D) (None, 112, 112, 64)      0         \n",
      "_________________________________________________________________\n",
      "flatten (Flatten)            (None, 802816)            0         \n",
      "_________________________________________________________________\n",
      "dense (Dense)                (None, 512)               411042304 \n",
      "_________________________________________________________________\n",
      "dense_1 (Dense)              (None, 4096)              2101248   \n",
      "_________________________________________________________________\n",
      "dropout_1 (Dropout)          (None, 4096)              0         \n",
      "_________________________________________________________________\n",
      "dense_2 (Dense)              (None, 4)                 16388     \n",
      "_________________________________________________________________\n",
      "softmax (Softmax)            (None, 4)                 0         \n",
      "=================================================================\n",
      "Total params: 413,198,660\n",
      "Trainable params: 413,198,660\n",
      "Non-trainable params: 0\n",
      "_________________________________________________________________\n"
     ]
    }
   ],
   "source": [
    "model = sad_model()\n",
    "model.summary()"
   ]
  },
  {
   "cell_type": "code",
   "execution_count": 21,
   "metadata": {},
   "outputs": [],
   "source": [
    "import datetime\n",
    "%load_ext tensorboard\n",
    "log_dir = \"logs/fit/\" + datetime.datetime.now().strftime(\"%Y%m%d-%H%M%S\")\n",
    "tensorboard_callback = tf.keras.callbacks.TensorBoard(log_dir=log_dir, histogram_freq=1)"
   ]
  },
  {
   "cell_type": "code",
   "execution_count": 22,
   "metadata": {},
   "outputs": [
    {
     "name": "stdout",
     "output_type": "stream",
     "text": [
      "Found 2405 validated image filenames.\n"
     ]
    },
    {
     "name": "stderr",
     "output_type": "stream",
     "text": [
      "--- Logging error ---\n",
      "Traceback (most recent call last):\n",
      "  File \"/usr/lib/python3.9/logging/__init__.py\", line 1079, in emit\n",
      "    msg = self.format(record)\n",
      "  File \"/usr/lib/python3.9/logging/__init__.py\", line 923, in format\n",
      "    return fmt.format(record)\n",
      "  File \"/usr/lib/python3.9/logging/__init__.py\", line 659, in format\n",
      "    record.message = record.getMessage()\n",
      "  File \"/usr/lib/python3.9/logging/__init__.py\", line 363, in getMessage\n",
      "    msg = msg % self.args\n",
      "TypeError: not all arguments converted during string formatting\n",
      "Call stack:\n",
      "  File \"/usr/lib/python3.9/runpy.py\", line 197, in _run_module_as_main\n",
      "    return _run_code(code, main_globals, None,\n",
      "  File \"/usr/lib/python3.9/runpy.py\", line 87, in _run_code\n",
      "    exec(code, run_globals)\n",
      "  File \"/usr/lib/python3.9/site-packages/ipykernel_launcher.py\", line 16, in <module>\n",
      "    app.launch_new_instance()\n",
      "  File \"/usr/lib/python3.9/site-packages/traitlets/config/application.py\", line 845, in launch_instance\n",
      "    app.start()\n",
      "  File \"/usr/lib/python3.9/site-packages/ipykernel/kernelapp.py\", line 612, in start\n",
      "    self.io_loop.start()\n",
      "  File \"/usr/lib/python3.9/site-packages/tornado/platform/asyncio.py\", line 199, in start\n",
      "    self.asyncio_loop.run_forever()\n",
      "  File \"/usr/lib/python3.9/asyncio/base_events.py\", line 596, in run_forever\n",
      "    self._run_once()\n",
      "  File \"/usr/lib/python3.9/asyncio/base_events.py\", line 1890, in _run_once\n",
      "    handle._run()\n",
      "  File \"/usr/lib/python3.9/asyncio/events.py\", line 80, in _run\n",
      "    self._context.run(self._callback, *self._args)\n",
      "  File \"/usr/lib/python3.9/site-packages/tornado/ioloop.py\", line 688, in <lambda>\n",
      "    lambda f: self._run_callback(functools.partial(callback, future))\n",
      "  File \"/usr/lib/python3.9/site-packages/tornado/ioloop.py\", line 741, in _run_callback\n",
      "    ret = callback()\n",
      "  File \"/usr/lib/python3.9/site-packages/tornado/gen.py\", line 814, in inner\n",
      "    self.ctx_run(self.run)\n",
      "  File \"/usr/lib/python3.9/site-packages/tornado/gen.py\", line 775, in run\n",
      "    yielded = self.gen.send(value)\n",
      "  File \"/usr/lib/python3.9/site-packages/ipykernel/kernelbase.py\", line 381, in dispatch_queue\n",
      "    yield self.process_one()\n",
      "  File \"/usr/lib/python3.9/site-packages/tornado/gen.py\", line 250, in wrapper\n",
      "    runner = Runner(ctx_run, result, future, yielded)\n",
      "  File \"/usr/lib/python3.9/site-packages/tornado/gen.py\", line 741, in __init__\n",
      "    self.ctx_run(self.run)\n",
      "  File \"/usr/lib/python3.9/site-packages/tornado/gen.py\", line 775, in run\n",
      "    yielded = self.gen.send(value)\n",
      "  File \"/usr/lib/python3.9/site-packages/ipykernel/kernelbase.py\", line 365, in process_one\n",
      "    yield gen.maybe_future(dispatch(*args))\n",
      "  File \"/usr/lib/python3.9/site-packages/tornado/gen.py\", line 234, in wrapper\n",
      "    yielded = ctx_run(next, result)\n",
      "  File \"/usr/lib/python3.9/site-packages/ipykernel/kernelbase.py\", line 268, in dispatch_shell\n",
      "    yield gen.maybe_future(handler(stream, idents, msg))\n",
      "  File \"/usr/lib/python3.9/site-packages/tornado/gen.py\", line 234, in wrapper\n",
      "    yielded = ctx_run(next, result)\n",
      "  File \"/usr/lib/python3.9/site-packages/ipykernel/kernelbase.py\", line 543, in execute_request\n",
      "    self.do_execute(\n",
      "  File \"/usr/lib/python3.9/site-packages/tornado/gen.py\", line 234, in wrapper\n",
      "    yielded = ctx_run(next, result)\n",
      "  File \"/usr/lib/python3.9/site-packages/ipykernel/ipkernel.py\", line 306, in do_execute\n",
      "    res = shell.run_cell(code, store_history=store_history, silent=silent)\n",
      "  File \"/usr/lib/python3.9/site-packages/ipykernel/zmqshell.py\", line 536, in run_cell\n",
      "    return super(ZMQInteractiveShell, self).run_cell(*args, **kwargs)\n",
      "  File \"/usr/lib/python3.9/site-packages/IPython/core/interactiveshell.py\", line 2877, in run_cell\n",
      "    result = self._run_cell(\n",
      "  File \"/usr/lib/python3.9/site-packages/IPython/core/interactiveshell.py\", line 2923, in _run_cell\n",
      "    return runner(coro)\n",
      "  File \"/usr/lib/python3.9/site-packages/IPython/core/async_helpers.py\", line 68, in _pseudo_sync_runner\n",
      "    coro.send(None)\n",
      "  File \"/usr/lib/python3.9/site-packages/IPython/core/interactiveshell.py\", line 3146, in run_cell_async\n",
      "    has_raised = await self.run_ast_nodes(code_ast.body, cell_name,\n",
      "  File \"/usr/lib/python3.9/site-packages/IPython/core/interactiveshell.py\", line 3338, in run_ast_nodes\n",
      "    if (await self.run_code(code, result,  async_=asy)):\n",
      "  File \"/usr/lib/python3.9/site-packages/IPython/core/interactiveshell.py\", line 3418, in run_code\n",
      "    exec(code_obj, self.user_global_ns, self.user_ns)\n",
      "  File \"<ipython-input-22-0adacc97bb5d>\", line 2, in <module>\n",
      "    train_gen = datagen.flow_from_dataframe(directory = './Data/train/train',\n",
      "  File \"/usr/lib/python3.9/site-packages/tensorflow/python/keras/preprocessing/image.py\", line 1070, in flow_from_dataframe\n",
      "    tf_logging.warn(\n",
      "  File \"/usr/lib/python3.9/site-packages/tensorflow/python/platform/tf_logging.py\", line 173, in warn\n",
      "    get_logger().warning(msg, *args, **kwargs)\n",
      "Message: '`class_mode` \"other\" is deprecated, please use `class_mode` \"raw\".'\n",
      "Arguments: (<class 'DeprecationWarning'>,)\n"
     ]
    }
   ],
   "source": [
    "columns = ['diabetic retinopathy', 'glaucoma', 'normal', 'other']\n",
    "train_gen = datagen.flow_from_dataframe(directory = './Data/train/train',\n",
    "                                        dataframe = train_csv,\n",
    "                                        x_col = 'filename',\n",
    "                                        y_col = columns,\n",
    "                                        target_size=(224,224),\n",
    "                                        batch_size=5,\n",
    "                                        rescale=1./255,\n",
    "                                        class_mode='other',\n",
    "                                       )"
   ]
  },
  {
   "cell_type": "code",
   "execution_count": 23,
   "metadata": {},
   "outputs": [
    {
     "name": "stdout",
     "output_type": "stream",
     "text": [
      "Found 1030 validated image filenames.\n"
     ]
    },
    {
     "name": "stderr",
     "output_type": "stream",
     "text": [
      "--- Logging error ---\n",
      "Traceback (most recent call last):\n",
      "  File \"/usr/lib/python3.9/logging/__init__.py\", line 1079, in emit\n",
      "    msg = self.format(record)\n",
      "  File \"/usr/lib/python3.9/logging/__init__.py\", line 923, in format\n",
      "    return fmt.format(record)\n",
      "  File \"/usr/lib/python3.9/logging/__init__.py\", line 659, in format\n",
      "    record.message = record.getMessage()\n",
      "  File \"/usr/lib/python3.9/logging/__init__.py\", line 363, in getMessage\n",
      "    msg = msg % self.args\n",
      "TypeError: not all arguments converted during string formatting\n",
      "Call stack:\n",
      "  File \"/usr/lib/python3.9/runpy.py\", line 197, in _run_module_as_main\n",
      "    return _run_code(code, main_globals, None,\n",
      "  File \"/usr/lib/python3.9/runpy.py\", line 87, in _run_code\n",
      "    exec(code, run_globals)\n",
      "  File \"/usr/lib/python3.9/site-packages/ipykernel_launcher.py\", line 16, in <module>\n",
      "    app.launch_new_instance()\n",
      "  File \"/usr/lib/python3.9/site-packages/traitlets/config/application.py\", line 845, in launch_instance\n",
      "    app.start()\n",
      "  File \"/usr/lib/python3.9/site-packages/ipykernel/kernelapp.py\", line 612, in start\n",
      "    self.io_loop.start()\n",
      "  File \"/usr/lib/python3.9/site-packages/tornado/platform/asyncio.py\", line 199, in start\n",
      "    self.asyncio_loop.run_forever()\n",
      "  File \"/usr/lib/python3.9/asyncio/base_events.py\", line 596, in run_forever\n",
      "    self._run_once()\n",
      "  File \"/usr/lib/python3.9/asyncio/base_events.py\", line 1890, in _run_once\n",
      "    handle._run()\n",
      "  File \"/usr/lib/python3.9/asyncio/events.py\", line 80, in _run\n",
      "    self._context.run(self._callback, *self._args)\n",
      "  File \"/usr/lib/python3.9/site-packages/tornado/ioloop.py\", line 688, in <lambda>\n",
      "    lambda f: self._run_callback(functools.partial(callback, future))\n",
      "  File \"/usr/lib/python3.9/site-packages/tornado/ioloop.py\", line 741, in _run_callback\n",
      "    ret = callback()\n",
      "  File \"/usr/lib/python3.9/site-packages/tornado/gen.py\", line 814, in inner\n",
      "    self.ctx_run(self.run)\n",
      "  File \"/usr/lib/python3.9/site-packages/tornado/gen.py\", line 775, in run\n",
      "    yielded = self.gen.send(value)\n",
      "  File \"/usr/lib/python3.9/site-packages/ipykernel/kernelbase.py\", line 381, in dispatch_queue\n",
      "    yield self.process_one()\n",
      "  File \"/usr/lib/python3.9/site-packages/tornado/gen.py\", line 250, in wrapper\n",
      "    runner = Runner(ctx_run, result, future, yielded)\n",
      "  File \"/usr/lib/python3.9/site-packages/tornado/gen.py\", line 741, in __init__\n",
      "    self.ctx_run(self.run)\n",
      "  File \"/usr/lib/python3.9/site-packages/tornado/gen.py\", line 775, in run\n",
      "    yielded = self.gen.send(value)\n",
      "  File \"/usr/lib/python3.9/site-packages/ipykernel/kernelbase.py\", line 365, in process_one\n",
      "    yield gen.maybe_future(dispatch(*args))\n",
      "  File \"/usr/lib/python3.9/site-packages/tornado/gen.py\", line 234, in wrapper\n",
      "    yielded = ctx_run(next, result)\n",
      "  File \"/usr/lib/python3.9/site-packages/ipykernel/kernelbase.py\", line 268, in dispatch_shell\n",
      "    yield gen.maybe_future(handler(stream, idents, msg))\n",
      "  File \"/usr/lib/python3.9/site-packages/tornado/gen.py\", line 234, in wrapper\n",
      "    yielded = ctx_run(next, result)\n",
      "  File \"/usr/lib/python3.9/site-packages/ipykernel/kernelbase.py\", line 543, in execute_request\n",
      "    self.do_execute(\n",
      "  File \"/usr/lib/python3.9/site-packages/tornado/gen.py\", line 234, in wrapper\n",
      "    yielded = ctx_run(next, result)\n",
      "  File \"/usr/lib/python3.9/site-packages/ipykernel/ipkernel.py\", line 306, in do_execute\n",
      "    res = shell.run_cell(code, store_history=store_history, silent=silent)\n",
      "  File \"/usr/lib/python3.9/site-packages/ipykernel/zmqshell.py\", line 536, in run_cell\n",
      "    return super(ZMQInteractiveShell, self).run_cell(*args, **kwargs)\n",
      "  File \"/usr/lib/python3.9/site-packages/IPython/core/interactiveshell.py\", line 2877, in run_cell\n",
      "    result = self._run_cell(\n",
      "  File \"/usr/lib/python3.9/site-packages/IPython/core/interactiveshell.py\", line 2923, in _run_cell\n",
      "    return runner(coro)\n",
      "  File \"/usr/lib/python3.9/site-packages/IPython/core/async_helpers.py\", line 68, in _pseudo_sync_runner\n",
      "    coro.send(None)\n",
      "  File \"/usr/lib/python3.9/site-packages/IPython/core/interactiveshell.py\", line 3146, in run_cell_async\n",
      "    has_raised = await self.run_ast_nodes(code_ast.body, cell_name,\n",
      "  File \"/usr/lib/python3.9/site-packages/IPython/core/interactiveshell.py\", line 3338, in run_ast_nodes\n",
      "    if (await self.run_code(code, result,  async_=asy)):\n",
      "  File \"/usr/lib/python3.9/site-packages/IPython/core/interactiveshell.py\", line 3418, in run_code\n",
      "    exec(code_obj, self.user_global_ns, self.user_ns)\n",
      "  File \"<ipython-input-23-1e265998d8d4>\", line 7, in <module>\n",
      "    test_gen = datagen.flow_from_dataframe(directory = './Data/train/validation/',\n",
      "  File \"/usr/lib/python3.9/site-packages/tensorflow/python/keras/preprocessing/image.py\", line 1070, in flow_from_dataframe\n",
      "    tf_logging.warn(\n",
      "  File \"/usr/lib/python3.9/site-packages/tensorflow/python/platform/tf_logging.py\", line 173, in warn\n",
      "    get_logger().warning(msg, *args, **kwargs)\n",
      "Message: '`class_mode` \"other\" is deprecated, please use `class_mode` \"raw\".'\n",
      "Arguments: (<class 'DeprecationWarning'>,)\n"
     ]
    }
   ],
   "source": [
    "datagen = tf.keras.preprocessing.image.ImageDataGenerator(rotation_range=0,\n",
    "                                                 width_shift_range=0.0,\n",
    "                                                 height_shift_range=0.0,\n",
    "                                                 horizontal_flip=False,\n",
    "                                                 vertical_flip=False)\n",
    "columns = ['diabetic retinopathy', 'glaucoma', 'normal', 'other']\n",
    "test_gen = datagen.flow_from_dataframe(directory = './Data/train/validation/',\n",
    "                                        dataframe = test_csv,\n",
    "                                        x_col = 'filename',\n",
    "                                        y_col = columns,\n",
    "                                        target_size=(224,224),\n",
    "                                        batch_size=5,\n",
    "                                        rescale=1./255,\n",
    "                                        class_mode='other',\n",
    "                                       )"
   ]
  },
  {
   "cell_type": "code",
   "execution_count": 24,
   "metadata": {},
   "outputs": [
    {
     "name": "stderr",
     "output_type": "stream",
     "text": [
      "/usr/lib/python3.9/site-packages/tensorflow/python/keras/engine/training.py:1844: UserWarning: `Model.fit_generator` is deprecated and will be removed in a future version. Please use `Model.fit`, which supports generators.\n",
      "  warnings.warn('`Model.fit_generator` is deprecated and '\n"
     ]
    },
    {
     "name": "stdout",
     "output_type": "stream",
     "text": [
      "Epoch 1/100\n",
      "10/10 [==============================] - 20s 2s/step - loss: 5.1018 - accuracy: 0.2772 - val_loss: 1.4140 - val_accuracy: 0.2600\n",
      "\n",
      "Epoch 00001: loss improved from inf to 4.96571, saving model to 1608429073.0689325vgg16.hdf5\n",
      "Epoch 2/100\n",
      "10/10 [==============================] - 18s 2s/step - loss: 1.3352 - accuracy: 0.2314 - val_loss: 1.4140 - val_accuracy: 0.1600\n",
      "\n",
      "Epoch 00002: loss improved from 4.96571 to 1.35862, saving model to 1608429073.0689325vgg16.hdf5\n",
      "Epoch 3/100\n",
      "10/10 [==============================] - 19s 2s/step - loss: 1.3913 - accuracy: 0.2472 - val_loss: 1.3863 - val_accuracy: 0.2400\n",
      "\n",
      "Epoch 00003: loss did not improve from 1.35862\n",
      "Epoch 4/100\n",
      "10/10 [==============================] - 18s 2s/step - loss: 1.7433 - accuracy: 0.2041 - val_loss: 1.3863 - val_accuracy: 0.1200\n",
      "\n",
      "Epoch 00004: loss did not improve from 1.35862\n",
      "Epoch 5/100\n",
      "10/10 [==============================] - 17s 2s/step - loss: 1.5768 - accuracy: 0.1381 - val_loss: 1.3863 - val_accuracy: 0.1600\n",
      "\n",
      "Epoch 00005: loss did not improve from 1.35862\n",
      "Epoch 6/100\n",
      "10/10 [==============================] - 17s 2s/step - loss: 1.3863 - accuracy: 0.3650 - val_loss: 1.3863 - val_accuracy: 0.2400\n",
      "\n",
      "Epoch 00006: loss did not improve from 1.35862\n",
      "Epoch 7/100\n",
      "10/10 [==============================] - 18s 2s/step - loss: 1.3753 - accuracy: 0.2661 - val_loss: 1.3863 - val_accuracy: 0.2400\n",
      "\n",
      "Epoch 00007: loss improved from 1.35862 to 1.35857, saving model to 1608429073.0689325vgg16.hdf5\n",
      "Epoch 8/100\n",
      "10/10 [==============================] - 19s 2s/step - loss: 1.4626 - accuracy: 0.3218 - val_loss: 1.4140 - val_accuracy: 0.2600\n",
      "\n",
      "Epoch 00008: loss did not improve from 1.35857\n",
      "Epoch 9/100\n",
      "10/10 [==============================] - 18s 2s/step - loss: 1.3863 - accuracy: 0.2918 - val_loss: 1.4140 - val_accuracy: 0.3600\n",
      "\n",
      "Epoch 00009: loss did not improve from 1.35857\n",
      "Epoch 10/100\n",
      "10/10 [==============================] - 18s 2s/step - loss: 1.3863 - accuracy: 0.2907 - val_loss: 1.3863 - val_accuracy: 0.1600\n",
      "\n",
      "Epoch 00010: loss did not improve from 1.35857\n",
      "Epoch 11/100\n",
      "10/10 [==============================] - 18s 2s/step - loss: 1.3863 - accuracy: 0.1101 - val_loss: 1.3863 - val_accuracy: 0.2000\n",
      "\n",
      "Epoch 00011: loss did not improve from 1.35857\n",
      "Epoch 12/100\n",
      "10/10 [==============================] - 17s 2s/step - loss: 1.3863 - accuracy: 0.3589 - val_loss: 1.3863 - val_accuracy: 0.1200\n",
      "\n",
      "Epoch 00012: loss did not improve from 1.35857\n",
      "Epoch 13/100\n",
      "10/10 [==============================] - 18s 2s/step - loss: 1.3913 - accuracy: 0.1714 - val_loss: 1.3863 - val_accuracy: 0.1600\n",
      "\n",
      "Epoch 00013: loss did not improve from 1.35857\n",
      "Epoch 14/100\n",
      "10/10 [==============================] - 17s 2s/step - loss: 1.3863 - accuracy: 0.1668 - val_loss: 1.3863 - val_accuracy: 0.2400\n",
      "\n",
      "Epoch 00014: loss did not improve from 1.35857\n",
      "Epoch 15/100\n",
      "10/10 [==============================] - 17s 2s/step - loss: 1.3863 - accuracy: 0.3216 - val_loss: 1.3863 - val_accuracy: 0.3000\n",
      "\n",
      "Epoch 00015: loss did not improve from 1.35857\n",
      "Epoch 16/100\n",
      "10/10 [==============================] - 17s 2s/step - loss: 1.3863 - accuracy: 0.1567 - val_loss: 1.3863 - val_accuracy: 0.1800\n",
      "\n",
      "Epoch 00016: loss did not improve from 1.35857\n",
      "Epoch 17/100\n",
      "10/10 [==============================] - 17s 2s/step - loss: 1.4247 - accuracy: 0.2645 - val_loss: 1.3863 - val_accuracy: 0.1600\n",
      "\n",
      "Epoch 00017: loss did not improve from 1.35857\n",
      "Epoch 18/100\n",
      "10/10 [==============================] - 17s 2s/step - loss: 1.4248 - accuracy: 0.1369 - val_loss: 1.3863 - val_accuracy: 0.2800\n",
      "\n",
      "Epoch 00018: loss did not improve from 1.35857\n",
      "Epoch 19/100\n",
      "10/10 [==============================] - 17s 2s/step - loss: 1.3863 - accuracy: 0.3512 - val_loss: 1.4140 - val_accuracy: 0.2000\n",
      "\n",
      "Epoch 00019: loss did not improve from 1.35857\n",
      "Epoch 20/100\n",
      "10/10 [==============================] - 17s 2s/step - loss: 1.3863 - accuracy: 0.2031 - val_loss: 1.3863 - val_accuracy: 0.2000\n",
      "\n",
      "Epoch 00020: loss did not improve from 1.35857\n",
      "Epoch 21/100\n",
      "10/10 [==============================] - 18s 2s/step - loss: 1.3863 - accuracy: 0.4652 - val_loss: 1.3863 - val_accuracy: 0.1200\n",
      "\n",
      "Epoch 00021: loss did not improve from 1.35857\n",
      "Epoch 22/100\n",
      "10/10 [==============================] - 18s 2s/step - loss: 1.3863 - accuracy: 0.2166 - val_loss: 1.3863 - val_accuracy: 0.1800\n",
      "\n",
      "Epoch 00022: loss did not improve from 1.35857\n",
      "Epoch 23/100\n",
      "10/10 [==============================] - 18s 2s/step - loss: 1.3863 - accuracy: 0.2036 - val_loss: 1.4140 - val_accuracy: 0.2200\n",
      "\n",
      "Epoch 00023: loss did not improve from 1.35857\n",
      "Epoch 24/100\n",
      "10/10 [==============================] - 18s 2s/step - loss: 1.4009 - accuracy: 0.1487 - val_loss: 1.3863 - val_accuracy: 0.1600\n",
      "\n",
      "Epoch 00024: loss did not improve from 1.35857\n",
      "Epoch 25/100\n",
      "10/10 [==============================] - 18s 2s/step - loss: 1.4051 - accuracy: 0.2766 - val_loss: 1.3863 - val_accuracy: 0.1400\n",
      "\n",
      "Epoch 00025: loss did not improve from 1.35857\n",
      "Epoch 26/100\n",
      "10/10 [==============================] - 18s 2s/step - loss: 1.4101 - accuracy: 0.2585 - val_loss: 1.3863 - val_accuracy: 0.2400\n",
      "\n",
      "Epoch 00026: loss did not improve from 1.35857\n",
      "Epoch 27/100\n",
      "10/10 [==============================] - 18s 2s/step - loss: 1.3863 - accuracy: 0.2254 - val_loss: 1.4140 - val_accuracy: 0.3200\n",
      "\n",
      "Epoch 00027: loss did not improve from 1.35857\n",
      "Epoch 28/100\n",
      "10/10 [==============================] - 17s 2s/step - loss: 1.3863 - accuracy: 0.1245 - val_loss: 1.3863 - val_accuracy: 0.1800\n",
      "\n",
      "Epoch 00028: loss did not improve from 1.35857\n",
      "Epoch 29/100\n",
      "10/10 [==============================] - 18s 2s/step - loss: 1.3863 - accuracy: 0.1685 - val_loss: 1.3863 - val_accuracy: 0.2600\n",
      "\n",
      "Epoch 00029: loss did not improve from 1.35857\n",
      "Epoch 00029: early stopping\n"
     ]
    }
   ],
   "source": [
    "import time\n",
    "now = str(time.time())\n",
    "checkpoint = now + 'vgg16.hdf5'\n",
    "model_checkpoint = tf.keras.callbacks.ModelCheckpoint(checkpoint, monitor='loss',verbose=1, save_best_only=True)\n",
    "early_stopping = EarlyStopping(monitor='val_accuracy', min_delta=0, patience=20, verbose=1, mode='auto')\n",
    "fitting = model.fit_generator(train_gen,\n",
    "                    steps_per_epoch=10,\n",
    "                    epochs=100,\n",
    "                    verbose=1, \n",
    "                    validation_data=test_gen,\n",
    "                    validation_steps = 10,\n",
    "                    callbacks=[tensorboard_callback, model_checkpoint, early_stopping])"
   ]
  },
  {
   "cell_type": "code",
   "execution_count": 25,
   "metadata": {},
   "outputs": [
    {
     "data": {
      "image/png": "[encoded data removed]",
      "text/plain": [
       "<Figure size 432x288 with 1 Axes>"
      ]
     },
     "metadata": {
      "needs_background": "light"
     },
     "output_type": "display_data"
    }
   ],
   "source": [
    "import matplotlib.pyplot as plt\n",
    "\n",
    "plt.plot(fitting.history['accuracy'])\n",
    "plt.plot(fitting.history['val_accuracy'])\n",
    "plt.plot(fitting.history['loss'])\n",
    "plt.plot(fitting.history['val_loss'])\n",
    "plt.title('Model Accuracy')\n",
    "plt.ylabel('Accuracy')\n",
    "plt.xlabel('Epoch')\n",
    "plt.legend(['Accuracy', 'Validation Accuracy', 'Loss', 'Validation Loss'])\n",
    "plt.show()"
   ]
  },
  {
   "cell_type": "code",
   "execution_count": 27,
   "metadata": {},
   "outputs": [],
   "source": [
    "Y_pred = model.predict(test_gen)"
   ]
  },
  {
   "cell_type": "code",
   "execution_count": null,
   "metadata": {},
   "outputs": [],
   "source": [
    "from sklearn.metrics import confusion_matrix\n",
    "\n",
    "y_pred = np.argmax(Y_pred, axis=1)\n",
    "print('Confusion Matrix')\n",
    "target_names = ['diabetic retinopathy', 'glaucoma', 'normal', 'other']\n",
    "print(confusion_matrix(test_gen.classes, y_pred, target_name=target_names))"
   ]
  },
  {
   "cell_type": "code",
   "execution_count": 28,
   "metadata": {},
   "outputs": [
    {
     "name": "stdout",
     "output_type": "stream",
     "text": [
      "[[0.25 0.25 0.25 0.25]\n",
      " [0.25 0.25 0.25 0.25]\n",
      " [0.25 0.25 0.25 0.25]\n",
      " ...\n",
      " [0.25 0.25 0.25 0.25]\n",
      " [0.25 0.25 0.25 0.25]\n",
      " [0.25 0.25 0.25 0.25]]\n"
     ]
    }
   ],
   "source": [
    "print(Y_pred)"
   ]
  },
  {
   "cell_type": "code",
   "execution_count": null,
   "metadata": {},
   "outputs": [],
   "source": []
  }
 ],
 "metadata": {
  "kernelspec": {
   "display_name": "Python 3",
   "language": "python",
   "name": "python3"
  },
  "language_info": {
   "codemirror_mode": {
    "name": "ipython",
    "version": 3
   },
   "file_extension": ".py",
   "mimetype": "text/x-python",
   "name": "python",
   "nbconvert_exporter": "python",
   "pygments_lexer": "ipython3",
   "version": "3.9.1"
  }
 },
 "nbformat": 4,
 "nbformat_minor": 4
}
