{
 "cells": [
  {
   "cell_type": "markdown",
   "metadata": {
    "id": "lNnTTMT9dnM4"
   },
   "source": [
    "# Today you are a Data Scientist at Tesla! \n",
    "## You have assigned a new project to look at car sales from Quarters 1-2 in California for 2019 to make predictions as to which cars will be sold more than the others in Q3 and Q4, to ensure enough inventory to meet demands!"
   ]
  },
  {
   "cell_type": "markdown",
   "metadata": {
    "id": "AQqh5DMaq9QW"
   },
   "source": [
    "### If running this notebook in Google Colab, run the following cells first. Make sure you've placed the Q12 and Q34 sales data in the same Google Drive folder as this notebook."
   ]
  },
  {
   "cell_type": "code",
   "execution_count": null,
   "metadata": {
    "id": "8n75mujnrqU4"
   },
   "outputs": [],
   "source": []
  },
  {
   "cell_type": "code",
   "execution_count": null,
   "metadata": {
    "id": "HT1yuyN5zJ19"
   },
   "outputs": [],
   "source": []
  },
  {
   "cell_type": "markdown",
   "metadata": {
    "id": "q6AR4c7ivMtD"
   },
   "source": [
    "Replace the ID with ID of file you want to access. To get this ID: \n",
    "\n",
    "1.   Right-click on the name of the appropriate file in your Google Drive\n",
    "2.   Click \"Get link\"\n",
    "3.   Copy the characters between `d/` and the following slash\n",
    "4.   Paste them into the dictionary argument of the call to `drive.CreateFile()` as the value associated with the 'id' key. Make sure that this value is a string.\n",
    "\n"
   ]
  },
  {
   "cell_type": "code",
   "execution_count": null,
   "metadata": {
    "id": "mb5xkL1QzPYg"
   },
   "outputs": [],
   "source": []
  },
  {
   "cell_type": "markdown",
   "metadata": {
    "id": "OI6NP0JBdnM5"
   },
   "source": [
    "### Import the necessary modules"
   ]
  },
  {
   "cell_type": "code",
   "execution_count": 1,
   "metadata": {
    "id": "WdNx3CHEdnM5"
   },
   "outputs": [],
   "source": [
    "import os\n",
    "import tensorflow as tf\n",
    "from tensorboard.plugins import projector\n",
    "import numpy as np\n",
    "import pandas as pd\n",
    "import matplotlib.pyplot as plt"
   ]
  },
  {
   "cell_type": "markdown",
   "metadata": {
    "id": "dM4fGT-ldnM8"
   },
   "source": [
    "### Read in the CSV file containing the California sales data for Quarters 1 and 2\n",
    "\n",
    "Then examine the data's shape and first few rows"
   ]
  },
  {
   "cell_type": "code",
   "execution_count": 2,
   "metadata": {
    "id": "jj2l01M8dnM9"
   },
   "outputs": [
    {
     "name": "stdout",
     "output_type": "stream",
     "text": [
      "(5837, 76)\n"
     ]
    },
    {
     "data": {
      "text/html": [
       "<div>\n",
       "<style scoped>\n",
       "    .dataframe tbody tr th:only-of-type {\n",
       "        vertical-align: middle;\n",
       "    }\n",
       "\n",
       "    .dataframe tbody tr th {\n",
       "        vertical-align: top;\n",
       "    }\n",
       "\n",
       "    .dataframe thead th {\n",
       "        text-align: right;\n",
       "    }\n",
       "</style>\n",
       "<table border=\"1\" class=\"dataframe\">\n",
       "  <thead>\n",
       "    <tr style=\"text-align: right;\">\n",
       "      <th></th>\n",
       "      <th>main_S60_1</th>\n",
       "      <th>main_S60_2</th>\n",
       "      <th>main_type_SP100D</th>\n",
       "      <th>main_type_S60D_1</th>\n",
       "      <th>main_type_S60D_2</th>\n",
       "      <th>main_type_S70</th>\n",
       "      <th>main_type_S70D</th>\n",
       "      <th>main_type_S75</th>\n",
       "      <th>main_type_S75D</th>\n",
       "      <th>main_type_S80</th>\n",
       "      <th>...</th>\n",
       "      <th>sales_24</th>\n",
       "      <th>sales_25</th>\n",
       "      <th>sales_26</th>\n",
       "      <th>sales_27</th>\n",
       "      <th>sales_28</th>\n",
       "      <th>sales_29</th>\n",
       "      <th>sales_30</th>\n",
       "      <th>MSRP</th>\n",
       "      <th>dealer_state</th>\n",
       "      <th>date</th>\n",
       "    </tr>\n",
       "  </thead>\n",
       "  <tbody>\n",
       "    <tr>\n",
       "      <th>0</th>\n",
       "      <td>0</td>\n",
       "      <td>0</td>\n",
       "      <td>0</td>\n",
       "      <td>0</td>\n",
       "      <td>0</td>\n",
       "      <td>1</td>\n",
       "      <td>0</td>\n",
       "      <td>0</td>\n",
       "      <td>0</td>\n",
       "      <td>0</td>\n",
       "      <td>...</td>\n",
       "      <td>0</td>\n",
       "      <td>0</td>\n",
       "      <td>0</td>\n",
       "      <td>0</td>\n",
       "      <td>0</td>\n",
       "      <td>0</td>\n",
       "      <td>0</td>\n",
       "      <td>44610</td>\n",
       "      <td>California</td>\n",
       "      <td>2019-04-28</td>\n",
       "    </tr>\n",
       "    <tr>\n",
       "      <th>1</th>\n",
       "      <td>0</td>\n",
       "      <td>0</td>\n",
       "      <td>0</td>\n",
       "      <td>0</td>\n",
       "      <td>0</td>\n",
       "      <td>0</td>\n",
       "      <td>0</td>\n",
       "      <td>0</td>\n",
       "      <td>0</td>\n",
       "      <td>0</td>\n",
       "      <td>...</td>\n",
       "      <td>0</td>\n",
       "      <td>0</td>\n",
       "      <td>0</td>\n",
       "      <td>0</td>\n",
       "      <td>0</td>\n",
       "      <td>0</td>\n",
       "      <td>0</td>\n",
       "      <td>41505</td>\n",
       "      <td>California</td>\n",
       "      <td>2019-03-14</td>\n",
       "    </tr>\n",
       "    <tr>\n",
       "      <th>2</th>\n",
       "      <td>0</td>\n",
       "      <td>0</td>\n",
       "      <td>0</td>\n",
       "      <td>0</td>\n",
       "      <td>0</td>\n",
       "      <td>0</td>\n",
       "      <td>0</td>\n",
       "      <td>0</td>\n",
       "      <td>0</td>\n",
       "      <td>0</td>\n",
       "      <td>...</td>\n",
       "      <td>0</td>\n",
       "      <td>0</td>\n",
       "      <td>0</td>\n",
       "      <td>0</td>\n",
       "      <td>0</td>\n",
       "      <td>0</td>\n",
       "      <td>0</td>\n",
       "      <td>58890</td>\n",
       "      <td>California</td>\n",
       "      <td>2019-06-12</td>\n",
       "    </tr>\n",
       "    <tr>\n",
       "      <th>3</th>\n",
       "      <td>0</td>\n",
       "      <td>0</td>\n",
       "      <td>0</td>\n",
       "      <td>0</td>\n",
       "      <td>0</td>\n",
       "      <td>0</td>\n",
       "      <td>0</td>\n",
       "      <td>0</td>\n",
       "      <td>0</td>\n",
       "      <td>0</td>\n",
       "      <td>...</td>\n",
       "      <td>0</td>\n",
       "      <td>0</td>\n",
       "      <td>0</td>\n",
       "      <td>0</td>\n",
       "      <td>0</td>\n",
       "      <td>0</td>\n",
       "      <td>0</td>\n",
       "      <td>51055</td>\n",
       "      <td>California</td>\n",
       "      <td>2019-03-04</td>\n",
       "    </tr>\n",
       "    <tr>\n",
       "      <th>4</th>\n",
       "      <td>0</td>\n",
       "      <td>0</td>\n",
       "      <td>0</td>\n",
       "      <td>0</td>\n",
       "      <td>0</td>\n",
       "      <td>0</td>\n",
       "      <td>0</td>\n",
       "      <td>0</td>\n",
       "      <td>0</td>\n",
       "      <td>0</td>\n",
       "      <td>...</td>\n",
       "      <td>0</td>\n",
       "      <td>0</td>\n",
       "      <td>0</td>\n",
       "      <td>0</td>\n",
       "      <td>0</td>\n",
       "      <td>0</td>\n",
       "      <td>0</td>\n",
       "      <td>70830</td>\n",
       "      <td>California</td>\n",
       "      <td>2019-01-23</td>\n",
       "    </tr>\n",
       "  </tbody>\n",
       "</table>\n",
       "<p>5 rows × 76 columns</p>\n",
       "</div>"
      ],
      "text/plain": [
       "   main_S60_1  main_S60_2  main_type_SP100D  main_type_S60D_1  \\\n",
       "0           0           0                 0                 0   \n",
       "1           0           0                 0                 0   \n",
       "2           0           0                 0                 0   \n",
       "3           0           0                 0                 0   \n",
       "4           0           0                 0                 0   \n",
       "\n",
       "   main_type_S60D_2  main_type_S70  main_type_S70D  main_type_S75  \\\n",
       "0                 0              1               0              0   \n",
       "1                 0              0               0              0   \n",
       "2                 0              0               0              0   \n",
       "3                 0              0               0              0   \n",
       "4                 0              0               0              0   \n",
       "\n",
       "   main_type_S75D  main_type_S80  ...  sales_24  sales_25  sales_26  sales_27  \\\n",
       "0               0              0  ...         0         0         0         0   \n",
       "1               0              0  ...         0         0         0         0   \n",
       "2               0              0  ...         0         0         0         0   \n",
       "3               0              0  ...         0         0         0         0   \n",
       "4               0              0  ...         0         0         0         0   \n",
       "\n",
       "   sales_28  sales_29  sales_30   MSRP  dealer_state        date  \n",
       "0         0         0         0  44610    California  2019-04-28  \n",
       "1         0         0         0  41505    California  2019-03-14  \n",
       "2         0         0         0  58890    California  2019-06-12  \n",
       "3         0         0         0  51055    California  2019-03-04  \n",
       "4         0         0         0  70830    California  2019-01-23  \n",
       "\n",
       "[5 rows x 76 columns]"
      ]
     },
     "execution_count": 2,
     "metadata": {},
     "output_type": "execute_result"
    }
   ],
   "source": [
    "df_sales = pd.read_csv(\"sales_Q12_2019.csv\")\n",
    "print(df_sales.shape)\n",
    "df_sales.head()"
   ]
  },
  {
   "cell_type": "markdown",
   "metadata": {
    "id": "dF7w0UQndnM_"
   },
   "source": [
    "### Begin cleaning the data\n",
    "\n",
    "Eliminate the `'dealer_state'` and `'date'` columns. The former is useless to our model, since we already know that our dataset is restricted to California sales. While we could possibly extract useful information from the `'date'` column (for example, to determine whether more cars are sold on weekends than weekdays), we'll be focusing on car configurations in this exercise."
   ]
  },
  {
   "cell_type": "code",
   "execution_count": 3,
   "metadata": {
    "id": "i-DThsrHdnNA"
   },
   "outputs": [
    {
     "data": {
      "text/html": [
       "<div>\n",
       "<style scoped>\n",
       "    .dataframe tbody tr th:only-of-type {\n",
       "        vertical-align: middle;\n",
       "    }\n",
       "\n",
       "    .dataframe tbody tr th {\n",
       "        vertical-align: top;\n",
       "    }\n",
       "\n",
       "    .dataframe thead th {\n",
       "        text-align: right;\n",
       "    }\n",
       "</style>\n",
       "<table border=\"1\" class=\"dataframe\">\n",
       "  <thead>\n",
       "    <tr style=\"text-align: right;\">\n",
       "      <th></th>\n",
       "      <th>main_S60_1</th>\n",
       "      <th>main_S60_2</th>\n",
       "      <th>main_type_SP100D</th>\n",
       "      <th>main_type_S60D_1</th>\n",
       "      <th>main_type_S60D_2</th>\n",
       "      <th>main_type_S70</th>\n",
       "      <th>main_type_S70D</th>\n",
       "      <th>main_type_S75</th>\n",
       "      <th>main_type_S75D</th>\n",
       "      <th>main_type_S80</th>\n",
       "      <th>...</th>\n",
       "      <th>sales_22</th>\n",
       "      <th>sales_23</th>\n",
       "      <th>sales_24</th>\n",
       "      <th>sales_25</th>\n",
       "      <th>sales_26</th>\n",
       "      <th>sales_27</th>\n",
       "      <th>sales_28</th>\n",
       "      <th>sales_29</th>\n",
       "      <th>sales_30</th>\n",
       "      <th>MSRP</th>\n",
       "    </tr>\n",
       "  </thead>\n",
       "  <tbody>\n",
       "    <tr>\n",
       "      <th>0</th>\n",
       "      <td>0</td>\n",
       "      <td>0</td>\n",
       "      <td>0</td>\n",
       "      <td>0</td>\n",
       "      <td>0</td>\n",
       "      <td>1</td>\n",
       "      <td>0</td>\n",
       "      <td>0</td>\n",
       "      <td>0</td>\n",
       "      <td>0</td>\n",
       "      <td>...</td>\n",
       "      <td>0</td>\n",
       "      <td>0</td>\n",
       "      <td>0</td>\n",
       "      <td>0</td>\n",
       "      <td>0</td>\n",
       "      <td>0</td>\n",
       "      <td>0</td>\n",
       "      <td>0</td>\n",
       "      <td>0</td>\n",
       "      <td>44610</td>\n",
       "    </tr>\n",
       "    <tr>\n",
       "      <th>1</th>\n",
       "      <td>0</td>\n",
       "      <td>0</td>\n",
       "      <td>0</td>\n",
       "      <td>0</td>\n",
       "      <td>0</td>\n",
       "      <td>0</td>\n",
       "      <td>0</td>\n",
       "      <td>0</td>\n",
       "      <td>0</td>\n",
       "      <td>0</td>\n",
       "      <td>...</td>\n",
       "      <td>0</td>\n",
       "      <td>0</td>\n",
       "      <td>0</td>\n",
       "      <td>0</td>\n",
       "      <td>0</td>\n",
       "      <td>0</td>\n",
       "      <td>0</td>\n",
       "      <td>0</td>\n",
       "      <td>0</td>\n",
       "      <td>41505</td>\n",
       "    </tr>\n",
       "    <tr>\n",
       "      <th>2</th>\n",
       "      <td>0</td>\n",
       "      <td>0</td>\n",
       "      <td>0</td>\n",
       "      <td>0</td>\n",
       "      <td>0</td>\n",
       "      <td>0</td>\n",
       "      <td>0</td>\n",
       "      <td>0</td>\n",
       "      <td>0</td>\n",
       "      <td>0</td>\n",
       "      <td>...</td>\n",
       "      <td>0</td>\n",
       "      <td>0</td>\n",
       "      <td>0</td>\n",
       "      <td>0</td>\n",
       "      <td>0</td>\n",
       "      <td>0</td>\n",
       "      <td>0</td>\n",
       "      <td>0</td>\n",
       "      <td>0</td>\n",
       "      <td>58890</td>\n",
       "    </tr>\n",
       "    <tr>\n",
       "      <th>3</th>\n",
       "      <td>0</td>\n",
       "      <td>0</td>\n",
       "      <td>0</td>\n",
       "      <td>0</td>\n",
       "      <td>0</td>\n",
       "      <td>0</td>\n",
       "      <td>0</td>\n",
       "      <td>0</td>\n",
       "      <td>0</td>\n",
       "      <td>0</td>\n",
       "      <td>...</td>\n",
       "      <td>0</td>\n",
       "      <td>0</td>\n",
       "      <td>0</td>\n",
       "      <td>0</td>\n",
       "      <td>0</td>\n",
       "      <td>0</td>\n",
       "      <td>0</td>\n",
       "      <td>0</td>\n",
       "      <td>0</td>\n",
       "      <td>51055</td>\n",
       "    </tr>\n",
       "    <tr>\n",
       "      <th>4</th>\n",
       "      <td>0</td>\n",
       "      <td>0</td>\n",
       "      <td>0</td>\n",
       "      <td>0</td>\n",
       "      <td>0</td>\n",
       "      <td>0</td>\n",
       "      <td>0</td>\n",
       "      <td>0</td>\n",
       "      <td>0</td>\n",
       "      <td>0</td>\n",
       "      <td>...</td>\n",
       "      <td>0</td>\n",
       "      <td>0</td>\n",
       "      <td>0</td>\n",
       "      <td>0</td>\n",
       "      <td>0</td>\n",
       "      <td>0</td>\n",
       "      <td>0</td>\n",
       "      <td>0</td>\n",
       "      <td>0</td>\n",
       "      <td>70830</td>\n",
       "    </tr>\n",
       "  </tbody>\n",
       "</table>\n",
       "<p>5 rows × 74 columns</p>\n",
       "</div>"
      ],
      "text/plain": [
       "   main_S60_1  main_S60_2  main_type_SP100D  main_type_S60D_1  \\\n",
       "0           0           0                 0                 0   \n",
       "1           0           0                 0                 0   \n",
       "2           0           0                 0                 0   \n",
       "3           0           0                 0                 0   \n",
       "4           0           0                 0                 0   \n",
       "\n",
       "   main_type_S60D_2  main_type_S70  main_type_S70D  main_type_S75  \\\n",
       "0                 0              1               0              0   \n",
       "1                 0              0               0              0   \n",
       "2                 0              0               0              0   \n",
       "3                 0              0               0              0   \n",
       "4                 0              0               0              0   \n",
       "\n",
       "   main_type_S75D  main_type_S80  ...  sales_22  sales_23  sales_24  sales_25  \\\n",
       "0               0              0  ...         0         0         0         0   \n",
       "1               0              0  ...         0         0         0         0   \n",
       "2               0              0  ...         0         0         0         0   \n",
       "3               0              0  ...         0         0         0         0   \n",
       "4               0              0  ...         0         0         0         0   \n",
       "\n",
       "   sales_26  sales_27  sales_28  sales_29  sales_30   MSRP  \n",
       "0         0         0         0         0         0  44610  \n",
       "1         0         0         0         0         0  41505  \n",
       "2         0         0         0         0         0  58890  \n",
       "3         0         0         0         0         0  51055  \n",
       "4         0         0         0         0         0  70830  \n",
       "\n",
       "[5 rows x 74 columns]"
      ]
     },
     "execution_count": 3,
     "metadata": {},
     "output_type": "execute_result"
    }
   ],
   "source": [
    "df_sales = df_sales.drop(columns=['dealer_state','date'])\n",
    "df_sales.head()"
   ]
  },
  {
   "cell_type": "markdown",
   "metadata": {
    "id": "qqdkmnCodnNC"
   },
   "source": [
    "### Read in the CSV file containing the California sales data for Quarters 3 and 4\n",
    "\n",
    "The `'dealer_state'` and `'date'` columns have already been eliminated in this dataset, so you don't need to worry about them here. Examine the data's shape and first few rows."
   ]
  },
  {
   "cell_type": "code",
   "execution_count": 4,
   "metadata": {
    "id": "bJpTgHxAdnND"
   },
   "outputs": [
    {
     "name": "stdout",
     "output_type": "stream",
     "text": [
      "(6666, 74)\n"
     ]
    },
    {
     "data": {
      "text/html": [
       "<div>\n",
       "<style scoped>\n",
       "    .dataframe tbody tr th:only-of-type {\n",
       "        vertical-align: middle;\n",
       "    }\n",
       "\n",
       "    .dataframe tbody tr th {\n",
       "        vertical-align: top;\n",
       "    }\n",
       "\n",
       "    .dataframe thead th {\n",
       "        text-align: right;\n",
       "    }\n",
       "</style>\n",
       "<table border=\"1\" class=\"dataframe\">\n",
       "  <thead>\n",
       "    <tr style=\"text-align: right;\">\n",
       "      <th></th>\n",
       "      <th>main_S60_1</th>\n",
       "      <th>main_S60_2</th>\n",
       "      <th>main_type_SP100D</th>\n",
       "      <th>main_type_S60D_1</th>\n",
       "      <th>main_type_S60D_2</th>\n",
       "      <th>main_type_S70</th>\n",
       "      <th>main_type_S70D</th>\n",
       "      <th>main_type_S75</th>\n",
       "      <th>main_type_S75D</th>\n",
       "      <th>main_type_S80</th>\n",
       "      <th>...</th>\n",
       "      <th>sales_22</th>\n",
       "      <th>sales_23</th>\n",
       "      <th>sales_24</th>\n",
       "      <th>sales_25</th>\n",
       "      <th>sales_26</th>\n",
       "      <th>sales_27</th>\n",
       "      <th>sales_28</th>\n",
       "      <th>sales_29</th>\n",
       "      <th>sales_30</th>\n",
       "      <th>MSRP</th>\n",
       "    </tr>\n",
       "  </thead>\n",
       "  <tbody>\n",
       "    <tr>\n",
       "      <th>0</th>\n",
       "      <td>0</td>\n",
       "      <td>0</td>\n",
       "      <td>0</td>\n",
       "      <td>0</td>\n",
       "      <td>0</td>\n",
       "      <td>1</td>\n",
       "      <td>0</td>\n",
       "      <td>0</td>\n",
       "      <td>0</td>\n",
       "      <td>0</td>\n",
       "      <td>...</td>\n",
       "      <td>0</td>\n",
       "      <td>0</td>\n",
       "      <td>1</td>\n",
       "      <td>0</td>\n",
       "      <td>0</td>\n",
       "      <td>0</td>\n",
       "      <td>0</td>\n",
       "      <td>0</td>\n",
       "      <td>0</td>\n",
       "      <td>51355</td>\n",
       "    </tr>\n",
       "    <tr>\n",
       "      <th>1</th>\n",
       "      <td>0</td>\n",
       "      <td>0</td>\n",
       "      <td>0</td>\n",
       "      <td>0</td>\n",
       "      <td>0</td>\n",
       "      <td>0</td>\n",
       "      <td>0</td>\n",
       "      <td>0</td>\n",
       "      <td>0</td>\n",
       "      <td>0</td>\n",
       "      <td>...</td>\n",
       "      <td>0</td>\n",
       "      <td>0</td>\n",
       "      <td>0</td>\n",
       "      <td>0</td>\n",
       "      <td>0</td>\n",
       "      <td>0</td>\n",
       "      <td>0</td>\n",
       "      <td>0</td>\n",
       "      <td>0</td>\n",
       "      <td>71580</td>\n",
       "    </tr>\n",
       "    <tr>\n",
       "      <th>2</th>\n",
       "      <td>0</td>\n",
       "      <td>0</td>\n",
       "      <td>0</td>\n",
       "      <td>0</td>\n",
       "      <td>0</td>\n",
       "      <td>0</td>\n",
       "      <td>0</td>\n",
       "      <td>0</td>\n",
       "      <td>0</td>\n",
       "      <td>0</td>\n",
       "      <td>...</td>\n",
       "      <td>0</td>\n",
       "      <td>0</td>\n",
       "      <td>0</td>\n",
       "      <td>0</td>\n",
       "      <td>0</td>\n",
       "      <td>0</td>\n",
       "      <td>0</td>\n",
       "      <td>0</td>\n",
       "      <td>0</td>\n",
       "      <td>66790</td>\n",
       "    </tr>\n",
       "    <tr>\n",
       "      <th>3</th>\n",
       "      <td>0</td>\n",
       "      <td>0</td>\n",
       "      <td>0</td>\n",
       "      <td>0</td>\n",
       "      <td>0</td>\n",
       "      <td>0</td>\n",
       "      <td>0</td>\n",
       "      <td>0</td>\n",
       "      <td>0</td>\n",
       "      <td>0</td>\n",
       "      <td>...</td>\n",
       "      <td>0</td>\n",
       "      <td>0</td>\n",
       "      <td>0</td>\n",
       "      <td>0</td>\n",
       "      <td>0</td>\n",
       "      <td>0</td>\n",
       "      <td>0</td>\n",
       "      <td>0</td>\n",
       "      <td>0</td>\n",
       "      <td>72330</td>\n",
       "    </tr>\n",
       "    <tr>\n",
       "      <th>4</th>\n",
       "      <td>0</td>\n",
       "      <td>0</td>\n",
       "      <td>0</td>\n",
       "      <td>0</td>\n",
       "      <td>0</td>\n",
       "      <td>0</td>\n",
       "      <td>0</td>\n",
       "      <td>0</td>\n",
       "      <td>0</td>\n",
       "      <td>0</td>\n",
       "      <td>...</td>\n",
       "      <td>0</td>\n",
       "      <td>0</td>\n",
       "      <td>0</td>\n",
       "      <td>0</td>\n",
       "      <td>0</td>\n",
       "      <td>0</td>\n",
       "      <td>0</td>\n",
       "      <td>0</td>\n",
       "      <td>0</td>\n",
       "      <td>55370</td>\n",
       "    </tr>\n",
       "  </tbody>\n",
       "</table>\n",
       "<p>5 rows × 74 columns</p>\n",
       "</div>"
      ],
      "text/plain": [
       "   main_S60_1  main_S60_2  main_type_SP100D  main_type_S60D_1  \\\n",
       "0           0           0                 0                 0   \n",
       "1           0           0                 0                 0   \n",
       "2           0           0                 0                 0   \n",
       "3           0           0                 0                 0   \n",
       "4           0           0                 0                 0   \n",
       "\n",
       "   main_type_S60D_2  main_type_S70  main_type_S70D  main_type_S75  \\\n",
       "0                 0              1               0              0   \n",
       "1                 0              0               0              0   \n",
       "2                 0              0               0              0   \n",
       "3                 0              0               0              0   \n",
       "4                 0              0               0              0   \n",
       "\n",
       "   main_type_S75D  main_type_S80  ...  sales_22  sales_23  sales_24  sales_25  \\\n",
       "0               0              0  ...         0         0         1         0   \n",
       "1               0              0  ...         0         0         0         0   \n",
       "2               0              0  ...         0         0         0         0   \n",
       "3               0              0  ...         0         0         0         0   \n",
       "4               0              0  ...         0         0         0         0   \n",
       "\n",
       "   sales_26  sales_27  sales_28  sales_29  sales_30   MSRP  \n",
       "0         0         0         0         0         0  51355  \n",
       "1         0         0         0         0         0  71580  \n",
       "2         0         0         0         0         0  66790  \n",
       "3         0         0         0         0         0  72330  \n",
       "4         0         0         0         0         0  55370  \n",
       "\n",
       "[5 rows x 74 columns]"
      ]
     },
     "execution_count": 4,
     "metadata": {},
     "output_type": "execute_result"
    }
   ],
   "source": [
    "### START CODE HERE ###\n",
    "# Read in the Q34 data\n",
    "df_pred = pd.read_csv(\"sales_Q34_2019.csv\")\n",
    "# Print the shape of the data\n",
    "print(np.shape(df_pred))\n",
    "# Examine the first few rows of the data\n",
    "df_pred.head()\n",
    "### END CODE HERE ###"
   ]
  },
  {
   "cell_type": "markdown",
   "metadata": {
    "id": "kcmsU-T1dnNF"
   },
   "source": [
    "# Task I. Consolidate data by finding numbers of unique car combinations sold for training and test data sets\n",
    "\n",
    "You've probably noticed that 73 of the 74 columns in our Q12 and Q34 datasets are one-hot-encoded representations of the car's `'main_type'`, `'engine'`, and `'sales_version'` values. You've probably also noticed that the final column is the car's `'MSRP'`, or manufacturer's (Tesla's, in this case) suggested retail price. In its current form, the sales data doesn't contain a target. The car's `'main_type'`, `'engine'`, `'sales_version'`, and `'MSRP'` values are all known to us before the time of the sale and do not, by themselves, offer us anything which we can predict. \n",
    "\n",
    "However, each row represents the sale of a single car. If we define a unique car type by its combination of `'main_type'`, `'engine'`, and `'sales_version'` values, the number of rows displaying that combination corresponds to the number of times during that half of the year that that distinct type of car was sold in California. Therefore, we can make training and test datasets where each row now corresponds to a unique car type, and the target value is how many times that car type was sold in California during a given half of the year.\n",
    "\n",
    "## This task requires data wrangling!\n",
    "## Create functions that read the Q12 (df_sales) and Q34 (df_pred) data sets and create train_X, train_Y, test_X and test_Y, respectively. Use pandas and NumPy as needed.\n",
    "\n",
    "train_X, test_X = unique row combinations without MSRP column\n",
    "\n",
    "train_Y, test_Y = number of unique cars sold"
   ]
  },
  {
   "cell_type": "code",
   "execution_count": 5,
   "metadata": {
    "id": "qRlSIcDGhJ74"
   },
   "outputs": [],
   "source": [
    "def get_features_and_targets(df):\n",
    "    ### START CODE HERE ###\n",
    "    # Create the local data DataFrame as a copy of the input df DataFrame, minus the 'MSRP' column\n",
    "    data = df.drop(columns=['MSRP'])\n",
    "    # Use the value_counts() method for DataFrames to store the targets as a NumPy array of the \n",
    "    # normalized sales counts associated with each unique combination of 'main_type', 'engine', \n",
    "    # and 'sales_version' values in the data DataFrame\n",
    "    # Make sure the counts are unsorted, so they're listed in order of the combination's first appearance\n",
    "    # in the data DataFrame, and that the array is 2D, with 1 entry per row\n",
    "    Y = np.array(data.value_counts(sort=False, normalize=True))[:, np.newaxis] \n",
    "    # Get a list of the column names of the data DataFrame\n",
    "    subset_names = data.columns.values.tolist()\n",
    "    # Use the drop_duplicates() method on the df DataFrame to store the features data as a NumPy array where\n",
    "    # each row corresponds to a unique combination of 'main_type', 'engine', and 'sales_version' values\n",
    "    # Make sure to set the subset parameter to subset_names, so the 'MSRP' column isn't included in the \n",
    "    # uniqueness calculations\n",
    "    X = np.array(df.drop_duplicates(subset=subset_names))\n",
    "    # Scale and shift the 'MSRP' column so its values fall in the range [0,1]\n",
    "    # You might find NumPy's ptp() function useful\n",
    "    X[:,-1] = ( X[:,-1] - min(X[:,-1]) ) / np.ptp(X[:,-1])\n",
    "    # Return features and targets\n",
    "    return X, Y\n",
    "    ### END CODE HERE ###"
   ]
  },
  {
   "cell_type": "markdown",
   "metadata": {
    "id": "toTX3W89fX2P"
   },
   "source": [
    "### Extract features and targets as defined above from both the Q12 and Q34 datasets"
   ]
  },
  {
   "cell_type": "code",
   "execution_count": 6,
   "metadata": {
    "id": "Rf6Vj0ujhJ77"
   },
   "outputs": [
    {
     "name": "stdout",
     "output_type": "stream",
     "text": [
      "Number of unique cars in Q12 = 66\n",
      "Number of unique cars in Q34 = 71\n"
     ]
    }
   ],
   "source": [
    "### START CODE HERE ###\n",
    "# Extract training features and targets from the Q12 data\n",
    "train_X, train_Y = get_features_and_targets(df_sales)\n",
    "# Extract test features and targets from the Q34 data\n",
    "test_X, test_Y = get_features_and_targets(df_pred)\n",
    "### END CODE HERE ###\n",
    "print(f\"Number of unique cars in Q12 = {len(train_Y)}\")\n",
    "print(f\"Number of unique cars in Q34 = {len(test_Y)}\")"
   ]
  },
  {
   "cell_type": "markdown",
   "metadata": {
    "id": "8d7BSjsQdnNV"
   },
   "source": [
    "You probably noticed that the Q12 and Q34 datasets contained differing numbers of distinct cars. Clearly, some new models were introduced by Q3, but were any discontinued by the end of Q2? Let's find out."
   ]
  },
  {
   "cell_type": "code",
   "execution_count": 7,
   "metadata": {
    "id": "luGBEZB5hJ8A"
   },
   "outputs": [
    {
     "name": "stdout",
     "output_type": "stream",
     "text": [
      "Number of unique cars in Q12 and Q34 = 80\n"
     ]
    }
   ],
   "source": [
    "# How many unique cars in 2012 (Q1:Q4)?\n",
    "### START CODE HERE ### \n",
    "# Concatenate the Q12 and Q34 DataFrames into a single DataFrame\n",
    "df_full = pd.concat([df_sales, df_pred])\n",
    "# Extract features and targets from the concatenated Q14 data\n",
    "data_X, data_Y = get_features_and_targets(df_full)\n",
    "### END CODE HERE ###\n",
    "print(f\"Number of unique cars in Q12 and Q34 = {len(data_Y)}\")"
   ]
  },
  {
   "cell_type": "markdown",
   "metadata": {
    "id": "AGEXB0mCdnNb"
   },
   "source": [
    "The following probability equations are true for any two events $A$ and $B$:\n",
    "\n",
    "$$P (A \\cup B) = P(A) + P(B) - P (A \\cap B)$$\n",
    "$$P(A) = P (A \\cap B) + P (A \\cap B^c)$$\n",
    "\n",
    "Use them to determine how many car models were sold in both halves of 2019, how many were discontinued by the second half of the year, and how many were launched in the second half of the year."
   ]
  },
  {
   "cell_type": "code",
   "execution_count": 8,
   "metadata": {
    "id": "Hewxl1lMf-VF"
   },
   "outputs": [],
   "source": [
    "### START CODE HERE ###\n",
    "models_q12_or_q34 = len(data_Y)\n",
    "models_q12 = len(train_Y)\n",
    "models_q34 = len(test_Y)\n",
    "models_q14 = models_q12 + models_q34 - models_q12_or_q34\n",
    "discontinued = models_q12 - models_q14\n",
    "launched = models_q34 - models_q14\n",
    "#print(f\"{models_q14} models were sold throughout 2019\")\n",
    "#print(f\"{discontinued} models were discontinued by the second half of 2019\")\n",
    "#print(f\"{launched} models were launched in the second half of 2019\")\n",
    "### END CODE HERE ###"
   ]
  },
  {
   "cell_type": "markdown",
   "metadata": {
    "id": "3qn6SNBNdnNb"
   },
   "source": [
    "# Task II: Visualize the training and test targets any way you see fit"
   ]
  },
  {
   "cell_type": "code",
   "execution_count": 9,
   "metadata": {
    "id": "RsuuxEqhjD6q"
   },
   "outputs": [
    {
     "data": {
      "image/png": "[encoded data removed]",
      "text/plain": [
       "<Figure size 432x288 with 1 Axes>"
      ]
     },
     "metadata": {
      "needs_background": "light"
     },
     "output_type": "display_data"
    }
   ],
   "source": [
    "# Visualize the training targets\n",
    "### START CODE HERE ###\n",
    "plt.scatter(range(len(train_Y)), train_Y)\n",
    "plt.show()\n",
    "### END CODE HERE ###"
   ]
  },
  {
   "cell_type": "code",
   "execution_count": 10,
   "metadata": {
    "id": "gyGN9vqLdnNe"
   },
   "outputs": [
    {
     "data": {
      "image/png": "[encoded data removed]",
      "text/plain": [
       "<Figure size 432x288 with 1 Axes>"
      ]
     },
     "metadata": {
      "needs_background": "light"
     },
     "output_type": "display_data"
    }
   ],
   "source": [
    "# Visualize the test targets\n",
    "### START CODE HERE ###\n",
    "plt.scatter(range(len(test_Y)), test_Y)\n",
    "plt.show()\n",
    "### END CODE HERE ###"
   ]
  },
  {
   "cell_type": "markdown",
   "metadata": {
    "id": "9g-2fwgydnNh"
   },
   "source": [
    "# Task III: Apply Gradient Descent (Linear, Polynomial)"
   ]
  },
  {
   "cell_type": "markdown",
   "metadata": {
    "id": "fXjeuMN3dnNh"
   },
   "source": [
    "Initialize the $\\theta$ parameters as a column vector of zeros, one for every feature in the training data plus one for bias. \n",
    "\n",
    "Also set hyperparameters for learning rate and maximum number of iterations through the training data."
   ]
  },
  {
   "cell_type": "code",
   "execution_count": 11,
   "metadata": {
    "id": "bq--V5vSdnNi"
   },
   "outputs": [],
   "source": [
    "# Initialize learned parameters theta and hyperparameters\n",
    "s_theta = np.zeros((train_X.shape[1]+1, 1))\n",
    "s_learning_rate = 0.001\n",
    "s_max_iteration = 1000"
   ]
  },
  {
   "cell_type": "markdown",
   "metadata": {
    "id": "Lx-wS125dnNk"
   },
   "source": [
    "### Hypothesis Function\n",
    "\n",
    "Define your hypothesis function $h$ (which you use to make predictions $\\hat{Y}$ as the matrix product of your features data X and parameters theta, in that order. \n",
    "\n",
    "Don't forget to add a 0th column of ones to X to account for the bias/offset parameter."
   ]
  },
  {
   "cell_type": "code",
   "execution_count": 12,
   "metadata": {
    "id": "SI8oTUQsdnNk"
   },
   "outputs": [],
   "source": [
    "# Define your hypothesis function according to the instructions above\n",
    "def h (theta, X) :\n",
    "    ### START CODE HERE ###\n",
    "    tempX = np.ones((X.shape[0], X.shape[1] + 1))\n",
    "    tempX[:,1:] = X\n",
    "    #tempX = np.hstack([np.ones((len(X)))])\n",
    "    # Return a matrix multiplication of your augmented X and theta\n",
    "    #print('X: ', X.shape)\n",
    "    #print('TempX: ', tempX.shape)\n",
    "    #print('theta: ', theta.shape)\n",
    "    return np.matmul(tempX, theta)\n",
    "    ### END CODE HERE ###"
   ]
  },
  {
   "cell_type": "markdown",
   "metadata": {
    "id": "7LW5F5uhdnNm"
   },
   "source": [
    "Define your loss function as **half** the MSE (mean squared error) between your actual and predicted Y values. \n",
    "\n",
    "Recall that the predicted Y values are a function of theta and X.\n"
   ]
  },
  {
   "cell_type": "code",
   "execution_count": 13,
   "metadata": {
    "id": "KzRpZec4dnNm"
   },
   "outputs": [],
   "source": [
    "# Loss Function\n",
    "def loss (theta, X, Y) :\n",
    "    ### START CODE HERE ###\n",
    "    return np.average(np.square(Y-h(theta, X))) / 2\n",
    "    ### END CODE HERE ###"
   ]
  },
  {
   "cell_type": "markdown",
   "metadata": {
    "id": "PCLgRXivdnNp"
   },
   "source": [
    "### Gradient of Hypothesis Function\n",
    "\n",
    "One can verify through straightforward (if somewhat tedious) multivariable calculus that the gradient of the loss function $J$ with respect to the parameters $\\theta$ is \n",
    "\n",
    "$$ \\frac{\\partial J}{\\partial \\theta} = - \\frac{1}{m} X^T \\cdot (Y - \\hat{Y})$$.\n",
    "\n",
    "Here, $X$ has been augmented with a bias column. \n",
    "\n",
    "Set up a function to compute this gradient."
   ]
  },
  {
   "cell_type": "code",
   "execution_count": 24,
   "metadata": {
    "id": "3zYnvBa1dnNp"
   },
   "outputs": [],
   "source": [
    "def gradient (theta, X, Y) :\n",
    "    ### START CODE HERE ###\n",
    "    # Create a temporary X array with an added 0th bias column\n",
    "    #tempX = np.hstack(np.ones((len(X)+1, 1)), X)\n",
    "    tempX = np.ones((X.shape[0], X.shape[1] + 1))\n",
    "    tempX[:,1:] = X\n",
    "    m = len(X)\n",
    "    X_transpose = tempX.transpose()\n",
    "    Y_Y_hat = h(theta, X)\n",
    "    # Compute the gradient according to the instructions above\n",
    "    #d_theta = -1/m * np.dot(X_transpose, Y_Y_hat)\n",
    "    d_theta = - np.dot(tempX.T, Y - h(theta, X)) / X.shape[0]\n",
    "    ### END CODE HERE ###\n",
    "    return d_theta"
   ]
  },
  {
   "cell_type": "markdown",
   "metadata": {
    "id": "fo-NxmSLdnNr"
   },
   "source": [
    "### Gradient Descent\n",
    "\n",
    "Set up a function to train your linear regression model with gradient descent, i.e. calculate $\\frac{\\partial J}{\\partial \\theta}$ and update $\\theta$. Recall that the general gradient descent update formula is $\\theta := \\theta - \\alpha \\frac{\\partial J}{\\partial \\theta}$. We've provided the skeleton of a stochastic gradient descent function, but you're welcome to experiment with batch and/or minibatch gradient descent. Also recall that the aforementioned gradient descent methods differ in how frequently they calculate $\\frac{\\partial J}{\\partial \\theta}$ and update $\\theta$. "
   ]
  },
  {
   "cell_type": "code",
   "execution_count": 72,
   "metadata": {
    "id": "g6hbmDgkdnNs"
   },
   "outputs": [],
   "source": [
    "def stochastic_gradient_descent (theta, X, Y, learning_rate, max_iteration, gap) :\n",
    "    ### START CODE HERE ###\n",
    "    # Initialize the cost as an array of zeros, one for each iteration through the dataset\n",
    "    cost = np.zeros(max_iteration)\n",
    "    # Loop over the dataset\n",
    "    for i in range(max_iteration):\n",
    "        # Loop over each row in the dataset\n",
    "        for j in range(X.shape[0]):\n",
    "            # Compute the gradient from the current row in X and the associated Y value\n",
    "            # Make sure that both X and Y are represented as 2D row vectors\n",
    "            #d_theta = gradient(theta, np.reshape(X[j], (1, X.shape[1])), np.reshape(Y[j], (1,1)))\n",
    "            d_theta = gradient (theta, X[np.newaxis, j, :], Y[np.newaxis, j, :])\n",
    "            # Update theta\n",
    "            theta = theta - learning_rate * d_theta\n",
    "        # Update the cost array for the current iteration\n",
    "        cost[i] = loss(theta, X, Y)\n",
    "    ### END CODE HERE ###\n",
    "        #if i % gap == 0 :\n",
    "            #print ('iteration : ', i, ' loss : ', loss(theta, X, Y)) \n",
    "    return theta, cost"
   ]
  },
  {
   "cell_type": "code",
   "execution_count": 26,
   "metadata": {
    "id": "O084UJ8UdnNt"
   },
   "outputs": [
    {
     "name": "stdout",
     "output_type": "stream",
     "text": [
      "iteration :  0  loss :  0.0004206533214992532\n",
      "iteration :  100  loss :  0.0002422983467552357\n",
      "iteration :  200  loss :  0.00021788868167880283\n",
      "iteration :  300  loss :  0.00020533288342740926\n",
      "iteration :  400  loss :  0.0001977965398586177\n",
      "iteration :  500  loss :  0.0001928641360536338\n",
      "iteration :  600  loss :  0.0001894284804626956\n",
      "iteration :  700  loss :  0.0001869169084424983\n",
      "iteration :  800  loss :  0.00018500756875786405\n",
      "iteration :  900  loss :  0.0001835079702943847\n"
     ]
    }
   ],
   "source": [
    "s_theta, s_cost = stochastic_gradient_descent(s_theta, train_X, train_Y, s_learning_rate, s_max_iteration, 100)"
   ]
  },
  {
   "cell_type": "markdown",
   "metadata": {
    "id": "B6D2kqejdnNv"
   },
   "source": [
    "### Generate Predictions from Test Data"
   ]
  },
  {
   "cell_type": "code",
   "execution_count": 27,
   "metadata": {
    "id": "m-u3iTbNdnNw"
   },
   "outputs": [],
   "source": [
    "### START CODE HERE ###\n",
    "GD_P = h(s_theta, test_X)\n",
    "### END CODE HERE ###\n",
    "# Set any negative predictions to 0\n",
    "GD_P[GD_P<0] = 0"
   ]
  },
  {
   "cell_type": "markdown",
   "metadata": {
    "id": "2ImYOho6dnNy"
   },
   "source": [
    "### Visualize the predicted and actual test labels"
   ]
  },
  {
   "cell_type": "code",
   "execution_count": 28,
   "metadata": {
    "id": "Ljk24gJ4dnNy"
   },
   "outputs": [
    {
     "name": "stdout",
     "output_type": "stream",
     "text": [
      "RMSE, R2 using SGD= 0.000518924229453394 0.6939013195958599\n"
     ]
    },
    {
     "data": {
      "image/png": "[encoded data removed]",
      "text/plain": [
       "<Figure size 432x288 with 1 Axes>"
      ]
     },
     "metadata": {
      "needs_background": "light"
     },
     "output_type": "display_data"
    }
   ],
   "source": [
    "plt.scatter(range(len(test_Y)), test_Y,  color='black')\n",
    "plt.scatter(range(len(GD_P)), GD_P, color='blue', linewidth=3)\n",
    "from sklearn.metrics import mean_squared_error as MSE\n",
    "\n",
    "# This function evaluates the R**2 statistic\n",
    "def r2(Yt,Yp):\n",
    "    yhat = Yp                         \n",
    "    ybar = np.sum(Yt)/len(Yt)          \n",
    "    ssreg = np.sum((yhat-ybar)**2)   \n",
    "    sstot = np.sum((Yt - ybar)**2)    \n",
    "    results = ssreg / sstot\n",
    "    return results\n",
    "\n",
    "\n",
    "print(\"RMSE, R2 using SGD=\", MSE(test_Y,GD_P), r2(test_Y,GD_P))"
   ]
  },
  {
   "cell_type": "markdown",
   "metadata": {
    "id": "QNFkAA7gdnN0"
   },
   "source": [
    "# Task IV: Normal Equations\n",
    "\n",
    "Since our training dataset isn't very large, let's generate predictions using the normal equations: \n",
    "\n",
    "$$W = (X^T \\cdot X)^{-1} \\cdot X^T \\cdot Y$$ \n",
    "$$\\hat{Y} = W^T \\cdot X$$\n",
    "\n",
    "and see how they compare to the predictions which we obtained from gradient descent."
   ]
  },
  {
   "cell_type": "code",
   "execution_count": 35,
   "metadata": {
    "id": "ez7XC2qQdnN1"
   },
   "outputs": [],
   "source": [
    "### START CODE HERE ###\n",
    "# Compute the inverse of the matrix product of the transpose of X and X\n",
    "inv1 = np.linalg.pinv(np.dot(train_X.transpose(), train_X))\n",
    "# Compute W using the first of the Normal Equations\n",
    "W1 = np.dot(np.dot(inv1, train_X.transpose()), train_Y)\n",
    "# Compute the predicted Y values using the second of the Normal Equations\n",
    "PN1 = np.dot(test_X, W1)\n",
    "### END CODE HERE ###\n",
    "\n",
    "# Set any negative predictions to 0\n",
    "PN1[np.where(PN1<0)]=0"
   ]
  },
  {
   "cell_type": "code",
   "execution_count": 36,
   "metadata": {
    "id": "lu9NjgsJdnN3",
    "scrolled": true
   },
   "outputs": [
    {
     "name": "stdout",
     "output_type": "stream",
     "text": [
      "RMSE, R2 for prediction all features = 0.0005596570062877871 0.8479142625775198\n"
     ]
    },
    {
     "data": {
      "image/png": "[encoded data removed]",
      "text/plain": [
       "<Figure size 432x288 with 1 Axes>"
      ]
     },
     "metadata": {
      "needs_background": "light"
     },
     "output_type": "display_data"
    }
   ],
   "source": [
    "# Plot outputs\n",
    "plt.scatter(range(len(test_Y)), test_Y,  color='black')\n",
    "plt.scatter(range(len(PN1)), PN1, color='blue', linewidth=3)\n",
    "print(\"RMSE, R2 for prediction all features =\", MSE(test_Y,PN1), r2(test_Y,PN1)) #[Low error high corr]"
   ]
  },
  {
   "cell_type": "markdown",
   "metadata": {
    "id": "i3ofJxdUdnN6"
   },
   "source": [
    "### Regularized Normal Equations"
   ]
  },
  {
   "cell_type": "code",
   "execution_count": 37,
   "metadata": {
    "id": "VyIX4LaAdnN6"
   },
   "outputs": [
    {
     "name": "stdout",
     "output_type": "stream",
     "text": [
      "Recall that our training features array train_X has\n",
      "m = 66 rows and n = 74 columns\n"
     ]
    }
   ],
   "source": [
    "print('Recall that our training features array train_X has')\n",
    "print(f'm = {train_X.shape[0]} rows and n = {train_X.shape[1]} columns')"
   ]
  },
  {
   "cell_type": "markdown",
   "metadata": {
    "id": "BSvkrQ6EdnN8"
   },
   "source": [
    "`train_X` is thus wider than it is tall, which suggests that the regularized normal equations might perform better in generating label predictions. In this case, we modify the first of the normal equations given above to \n",
    "\n",
    "$$W = (X^T \\cdot X + \\lambda m I)^{-1} \\cdot X^T \\cdot Y$$.\n",
    "\n",
    "Here, $\\lambda$ is the regularization parameter and $m$ is the number of rows in $X$."
   ]
  },
  {
   "cell_type": "markdown",
   "metadata": {
    "id": "7Mgd1zocdnN9"
   },
   "source": [
    "### Repeat the previous parts of Task IV, but this time incorporate regularization"
   ]
  },
  {
   "cell_type": "code",
   "execution_count": 39,
   "metadata": {
    "id": "bIrbJkOydnN9"
   },
   "outputs": [
    {
     "name": "stdout",
     "output_type": "stream",
     "text": [
      "RMSE, R2 for prediction all features = 0.00043227378115685356 0.2614195347874887\n"
     ]
    },
    {
     "data": {
      "image/png": "[encoded data removed]",
      "text/plain": [
       "<Figure size 432x288 with 1 Axes>"
      ]
     },
     "metadata": {
      "needs_background": "light"
     },
     "output_type": "display_data"
    }
   ],
   "source": [
    "### START CODE HERE ###\n",
    "l = 0.00005\n",
    "n = train_X.shape[1]\n",
    "m = len(train_X)\n",
    "identity = np.identity(n)\n",
    "invReg = np.linalg.pinv(np.dot(train_X.transpose(), train_X) + (1*m*identity))\n",
    "\n",
    "W2 = np.dot(np.dot(invReg, train_X.transpose()), train_Y)\n",
    "PN2 = np.dot(test_X, W2)\n",
    "PN2[np.where(PN2<0)]=0\n",
    "plt.scatter(range(len(test_Y)), test_Y,  color='black')\n",
    "plt.scatter(range(len(PN2)), PN2, color='blue', linewidth=3)\n",
    "print(\"RMSE, R2 for prediction all features =\", MSE(test_Y,PN2), r2(test_Y,PN2)) #[Low error high corr]\n",
    "### END CODE HERE ###"
   ]
  },
  {
   "cell_type": "markdown",
   "metadata": {
    "id": "o5uD0DVidnN_"
   },
   "source": [
    "# Task V: Non-linear Regression Models (GLM, DT) "
   ]
  },
  {
   "cell_type": "markdown",
   "metadata": {
    "id": "Yk0Be7SQdnN_"
   },
   "source": [
    "### Generalized Linear Models\n",
    "\n",
    "`sm` (our alias for `statsmodels.api`) contains a `GLM` class. Use it to instantiate a model. The relevant parameters are training labels, training features, and `ffamily`, i.e. the family of distributions to which we assume our prediction errors belong. Some potentially good choices for `ffamily` include Gaussian, Gamma, and Logit."
   ]
  },
  {
   "cell_type": "code",
   "execution_count": 56,
   "metadata": {
    "id": "cxUdD_LhdnN_"
   },
   "outputs": [
    {
     "name": "stdout",
     "output_type": "stream",
     "text": [
      "                 Generalized Linear Model Regression Results                  \n",
      "==============================================================================\n",
      "Dep. Variable:                      y   No. Observations:                   66\n",
      "Model:                            GLM   Df Residuals:                       34\n",
      "Model Family:                   Gamma   Df Model:                           31\n",
      "Link Function:          inverse_power   Scale:                          151.64\n",
      "Method:                          IRLS   Log-Likelihood:                 24.535\n",
      "Date:                Sat, 24 Oct 2020   Deviance:                       91.058\n",
      "Time:                        23:40:26   Pearson chi2:                 5.16e+03\n",
      "No. Iterations:                    13                                         \n",
      "Covariance Type:            nonrobust                                         \n",
      "==============================================================================\n",
      "                 coef    std err          z      P>|z|      [0.025      0.975]\n",
      "------------------------------------------------------------------------------\n",
      "const        858.9434   1.66e+04      0.052      0.959   -3.16e+04    3.33e+04\n",
      "x1         -2.088e-12   4.16e-11     -0.050      0.960   -8.36e-11    7.94e-11\n",
      "x2          -1.68e-11   2.91e-10     -0.058      0.954   -5.86e-10    5.53e-10\n",
      "x3         -5472.1875    7.2e+04     -0.076      0.939   -1.47e+05    1.36e+05\n",
      "x4           349.7687   1.02e+05      0.003      0.997   -1.99e+05       2e+05\n",
      "x5         -2707.6213   2.88e+04     -0.094      0.925   -5.92e+04    5.38e+04\n",
      "x6         -1926.9648   1.34e+04     -0.143      0.886   -2.83e+04    2.44e+04\n",
      "x7         -1737.1683   1.35e+04     -0.129      0.897   -2.82e+04    2.47e+04\n",
      "x8         -1.084e-11   1.87e-10     -0.058      0.954   -3.77e-10    3.56e-10\n",
      "x9           -38.6008   2.55e+04     -0.002      0.999   -4.99e+04    4.98e+04\n",
      "x10        -1797.5789   1.35e+04     -0.134      0.894   -2.82e+04    2.46e+04\n",
      "x11        -1351.2516   1.42e+04     -0.095      0.924   -2.93e+04    2.65e+04\n",
      "x12        -1724.9091   1.35e+04     -0.128      0.899   -2.82e+04    2.48e+04\n",
      "x13        -1924.7137   1.34e+04     -0.143      0.886   -2.83e+04    2.44e+04\n",
      "x14         3893.7021   6.15e+04      0.063      0.950   -1.17e+05    1.24e+05\n",
      "x15         1.786e-12   3.18e-11      0.056      0.955   -6.06e-11    6.42e-11\n",
      "x16        -1.479e-12   1.68e-11     -0.088      0.930   -3.44e-11    3.14e-11\n",
      "x17        -1208.0552   8969.004     -0.135      0.893   -1.88e+04    1.64e+04\n",
      "x18         -550.7866   4577.661     -0.120      0.904   -9522.838    8421.265\n",
      "x19        -1.696e-12   3.58e-11     -0.047      0.962   -7.18e-11    6.84e-11\n",
      "x20        -4.852e-13   2.68e-11     -0.018      0.986   -5.29e-11     5.2e-11\n",
      "x21         1.227e-12   1.45e-11      0.085      0.932   -2.71e-11    2.96e-11\n",
      "x22         3871.3114   3.13e+04      0.124      0.902   -5.75e+04    6.53e+04\n",
      "x23         1.846e-13   3.83e-11      0.005      0.996   -7.49e-11    7.53e-11\n",
      "x24         2314.1439   2.96e+04      0.078      0.938   -5.57e+04    6.03e+04\n",
      "x25         2.165e-13   6.91e-12      0.031      0.975   -1.33e-11    1.38e-11\n",
      "x26         7.341e-13   7.94e-12      0.092      0.926   -1.48e-11    1.63e-11\n",
      "x27         1.663e-12   2.83e-11      0.059      0.953   -5.39e-11    5.72e-11\n",
      "x28         1.739e-11   2.17e-10      0.080      0.936   -4.09e-10    4.44e-10\n",
      "x29         6.666e-13   1.33e-11      0.050      0.960   -2.54e-11    2.67e-11\n",
      "x30         2.863e-12   3.18e-11      0.090      0.928   -5.94e-11    6.51e-11\n",
      "x31          386.3886   8174.252      0.047      0.962   -1.56e+04    1.64e+04\n",
      "x32         1425.0728   1.46e+04      0.097      0.922   -2.72e+04    3.01e+04\n",
      "x33         2489.0283   2.95e+04      0.084      0.933   -5.54e+04    6.03e+04\n",
      "x34           -2.8085    151.521     -0.019      0.985    -299.784     294.167\n",
      "x35                 0          0        nan        nan           0           0\n",
      "x36                 0          0        nan        nan           0           0\n",
      "x37                 0          0        nan        nan           0           0\n",
      "x38         -657.2686   4523.347     -0.145      0.884   -9522.866    8208.329\n",
      "x39                 0          0        nan        nan           0           0\n",
      "x40                 0          0        nan        nan           0           0\n",
      "x41         1235.6871   1.81e+04      0.068      0.945   -3.42e+04    3.66e+04\n",
      "x42                 0          0        nan        nan           0           0\n",
      "x43          995.3066   3907.960      0.255      0.799   -6664.155    8654.768\n",
      "x44           78.7325   2.07e+04      0.004      0.997   -4.06e+04    4.07e+04\n",
      "x45                 0          0        nan        nan           0           0\n",
      "x46        -1657.8211   1.53e+04     -0.109      0.914   -3.16e+04    2.83e+04\n",
      "x47        -1049.8002   1.62e+04     -0.065      0.948   -3.29e+04    3.08e+04\n",
      "x48         6578.9327   5.92e+04      0.111      0.911   -1.09e+05    1.23e+05\n",
      "x49                 0          0        nan        nan           0           0\n",
      "x50         1112.6651   2.04e+04      0.054      0.957   -3.89e+04    4.12e+04\n",
      "x51         1128.1325   2.04e+04      0.055      0.956   -3.89e+04    4.12e+04\n",
      "x52         1089.5285   2.04e+04      0.053      0.957    -3.9e+04    4.11e+04\n",
      "x53        -4631.8225    5.3e+04     -0.087      0.930   -1.08e+05    9.92e+04\n",
      "x54        -4729.6398    5.3e+04     -0.089      0.929   -1.09e+05    9.91e+04\n",
      "x55                 0          0        nan        nan           0           0\n",
      "x56                 0          0        nan        nan           0           0\n",
      "x57                 0          0        nan        nan           0           0\n",
      "x58                 0          0        nan        nan           0           0\n",
      "x59                 0          0        nan        nan           0           0\n",
      "x60          601.2440    2.1e+04      0.029      0.977   -4.06e+04    4.18e+04\n",
      "x61                 0          0        nan        nan           0           0\n",
      "x62                 0          0        nan        nan           0           0\n",
      "x63                 0          0        nan        nan           0           0\n",
      "x64         2489.0283   2.95e+04      0.084      0.933   -5.54e+04    6.03e+04\n",
      "x65                 0          0        nan        nan           0           0\n",
      "x66                 0          0        nan        nan           0           0\n",
      "x67         1084.3544   2.04e+04      0.053      0.958    -3.9e+04    4.11e+04\n",
      "x68        -4668.7688    5.3e+04     -0.088      0.930   -1.08e+05    9.91e+04\n",
      "x69         2314.1439   2.96e+04      0.078      0.938   -5.57e+04    6.03e+04\n",
      "x70                 0          0        nan        nan           0           0\n",
      "x71         1120.0339   2.04e+04      0.055      0.956   -3.89e+04    4.12e+04\n",
      "x72                 0          0        nan        nan           0           0\n",
      "x73                 0          0        nan        nan           0           0\n",
      "x74         -983.1497   3938.610     -0.250      0.803   -8702.683    6736.384\n",
      "==============================================================================\n"
     ]
    },
    {
     "name": "stderr",
     "output_type": "stream",
     "text": [
      "/usr/lib/python3.8/site-packages/statsmodels/genmod/generalized_linear_model.py:293: DomainWarning: The inverse_power link function does not respect the domain of the Gamma family.\n",
      "  warnings.warn((f\"The {type(family.link).__name__} link function \"\n"
     ]
    }
   ],
   "source": [
    "# GLM \n",
    "import statsmodels.api as sm\n",
    "### START CODE HERE ###\n",
    "# Instantiate the GLM\n",
    "train_X_glm = sm.add_constant(train_X)\n",
    "glm_gamma = sm.GLM(train_Y, train_X_glm, family=sm.families.Gamma())\n",
    "# Train the GLM\n",
    "glm_results = glm_gamma.fit()\n",
    "### END CODE HERE ###\n",
    "print(glm_results.summary())"
   ]
  },
  {
   "cell_type": "markdown",
   "metadata": {
    "id": "7IAchWHodnOB"
   },
   "source": [
    "### Generate predictions from the test data"
   ]
  },
  {
   "cell_type": "code",
   "execution_count": 57,
   "metadata": {
    "id": "XLTsITX7dnOC"
   },
   "outputs": [],
   "source": [
    "### START CODE HERE ###\n",
    "test_X_glm = sm.add_constant(test_X)\n",
    "G_P = glm_results.predict(test_X_glm)\n",
    "### END CODE HERE ###\n",
    "# Set any negative predictions to 0\n",
    "G_P[G_P<0]=0"
   ]
  },
  {
   "cell_type": "code",
   "execution_count": 58,
   "metadata": {
    "id": "TgXIT-JpdnOE"
   },
   "outputs": [
    {
     "name": "stdout",
     "output_type": "stream",
     "text": [
      "RMSE, R2 for GLM= 0.000812292822095221 1.3713230464323383\n"
     ]
    },
    {
     "data": {
      "image/png": "[encoded data removed]",
      "text/plain": [
       "<Figure size 432x288 with 1 Axes>"
      ]
     },
     "metadata": {
      "needs_background": "light"
     },
     "output_type": "display_data"
    }
   ],
   "source": [
    "# Plot outputs\n",
    "plt.scatter(range(len(test_Y)), test_Y,  color='black')\n",
    "plt.scatter(range(len(G_P)), G_P, color='blue', linewidth=3)\n",
    "print(\"RMSE, R2 for GLM=\", MSE(test_Y,G_P), r2(test_Y,G_P)) "
   ]
  },
  {
   "cell_type": "markdown",
   "metadata": {
    "id": "Vld0rNUcdnOG"
   },
   "source": [
    "### Random Forest Regression\n",
    "\n",
    "Use the `RandomForestRegressor` from `sklearn.ensemble` to generate predictions. The relevant parameters are the `max_depth` of the trees and the `random_state`, to ensure reproducibility."
   ]
  },
  {
   "cell_type": "code",
   "execution_count": 59,
   "metadata": {
    "id": "EbxRUm3UdnOG"
   },
   "outputs": [
    {
     "name": "stderr",
     "output_type": "stream",
     "text": [
      "<ipython-input-59-f8e524ef7a69>:6: DataConversionWarning: A column-vector y was passed when a 1d array was expected. Please change the shape of y to (n_samples,), for example using ravel().\n",
      "  regr.fit(train_X, train_Y)\n"
     ]
    }
   ],
   "source": [
    "### START CODE HERE ###\n",
    "from sklearn.ensemble import RandomForestRegressor\n",
    "# Instantiate the random forest regression model\n",
    "regr = RandomForestRegressor(n_estimators=100, max_depth=20, random_state=5)\n",
    "# Train the model\n",
    "regr.fit(train_X, train_Y)\n",
    "# Generate predictions from the test data\n",
    "pred_rf = regr.predict(test_X)\n",
    "### END CODE HERE ###"
   ]
  },
  {
   "cell_type": "code",
   "execution_count": 60,
   "metadata": {
    "id": "bWVeR1PvdnOI"
   },
   "outputs": [],
   "source": [
    "# Set any negative predictions to 0\n",
    "pred_rf[np.where(pred_rf<0)]=0"
   ]
  },
  {
   "cell_type": "code",
   "execution_count": 61,
   "metadata": {
    "id": "YSZX9t1MdnOK"
   },
   "outputs": [
    {
     "name": "stdout",
     "output_type": "stream",
     "text": [
      "RMSE, R2 for Decision Trees= 0.0006541515043448475 0.9230631521478815\n"
     ]
    },
    {
     "data": {
      "image/png": "[encoded data removed]",
      "text/plain": [
       "<Figure size 432x288 with 1 Axes>"
      ]
     },
     "metadata": {
      "needs_background": "light"
     },
     "output_type": "display_data"
    }
   ],
   "source": [
    "# Plot outputs\n",
    "plt.scatter(range(len(test_Y)), test_Y,  color='black')\n",
    "plt.scatter(range(len(pred_rf)), pred_rf, color='blue', linewidth=3)\n",
    "print(\"RMSE, R2 for Decision Trees=\", MSE(test_Y,pred_rf), r2(test_Y,pred_rf)) #[Low error high corr]"
   ]
  },
  {
   "cell_type": "markdown",
   "metadata": {
    "id": "bxx1JrikdnON"
   },
   "source": [
    "## Populate the table below with the results of your experiments above. Which models performed best?"
   ]
  },
  {
   "cell_type": "markdown",
   "metadata": {
    "id": "44MPnft4dnON"
   },
   "source": [
    "## Results\n",
    "---------------------------------------------------------------------------\n",
    "Method                                          |  RMSE             | R2               |\n",
    "------------------------------------------------|-------------------|------------------|\n",
    "Gradient Descent:                            | 0.000518924229453394 | 0.6939013195958599 |\n",
    "Normal Equations                             | 0.0005596570062877871 | 0.8479142625775198 |\n",
    "Regularized Normal Equations                 | 0.00043227378115685356 | 0.2614195347874887 |\n",
    "GLM                                          | 0.000812292822095221   | 1.3713230464323383 |\n",
    "Decision Trees                               | 0.0006541515043448475  | 0.9230631521478815 |\n",
    "\n",
    "\n",
    "The Regularized Normal Equations did the best with GLM doing the worst"
   ]
  },
  {
   "cell_type": "markdown",
   "metadata": {
    "id": "n_HoMbxTdnOO"
   },
   "source": [
    "## Finally, pick some car types for which your models over- and under-predicted sales. Attempt to determine the root causes. Write your findings below."
   ]
  },
  {
   "cell_type": "markdown",
   "metadata": {
    "id": "WddJkKQgdnOO"
   },
   "source": [
    "The models tended to over predict the first 20 models in the charts and underpredict the later ones.  This may be because some of them are newer and we did not have sufficient data available in the first half of the year to adequately predict the popularity of them."
   ]
  },
  {
   "cell_type": "markdown",
   "metadata": {},
   "source": [
    "### Extra Credit\n",
    "For the Data Science Problem for Tesla, run hyper-parameterization set up to find the optimal parameters for the best regression model. Do this for at least 2 data models and report your results."
   ]
  },
  {
   "cell_type": "code",
   "execution_count": 65,
   "metadata": {},
   "outputs": [],
   "source": [
    "# Divide the training data (Q12 of car sales)\n",
    "# into training and validation either randomly or based on the date of orders.\n",
    "from sklearn.model_selection import train_test_split\n",
    "\n",
    "X_train, x_valid = train_test_split(df_sales)\n",
    "\n",
    "# then process each of these as above\n",
    "train_X, train_Y = get_features_and_targets(X_train)\n",
    "valid_x, valid_Y = get_features_and_targets(x_valid)"
   ]
  },
  {
   "cell_type": "code",
   "execution_count": 76,
   "metadata": {},
   "outputs": [],
   "source": [
    "# Set a range for the hyper-parameters\n",
    "# (e.g. number of iterations, s_theta etc for gradient descent, or \n",
    "# Lambda values for regularized Normal equations, or different \n",
    "# parameter settings for decision trees)\n",
    "alphas = [.000001, .000003, .00001, .00003, .0001, .0003, .001, .003, .01, .03, .1, .3]\n",
    "iterations = [500, 1000, 5000, 10000, 15000]\n",
    "lambdas = [.00005, .0001, .0005, .001, .005, .01, .05, .1, .5, 1]"
   ]
  },
  {
   "cell_type": "code",
   "execution_count": 78,
   "metadata": {},
   "outputs": [
    {
     "name": "stdout",
     "output_type": "stream",
     "text": [
      "ALPHA:  1e-06\n",
      "RMSE, R2 using SGD= 0.0009946185477497618 0.3743215269542506\n",
      "ALPHA:  3e-06\n",
      "RMSE, R2 using SGD= 0.0009228586365104952 0.2709354926745857\n",
      "ALPHA:  1e-05\n",
      "RMSE, R2 using SGD= 0.0008033103464220806 0.09634582058341203\n",
      "ALPHA:  3e-05\n",
      "RMSE, R2 using SGD= 0.0007586882096688616 0.02805499643764027\n",
      "ALPHA:  0.0001\n",
      "RMSE, R2 using SGD= 0.0007922965918050722 0.07875312939908433\n",
      "ALPHA:  0.0003\n",
      "RMSE, R2 using SGD= 0.0008426553657087668 0.1640263700991576\n",
      "ALPHA:  0.001\n",
      "RMSE, R2 using SGD= 0.0008722995909224353 0.24064499024279123\n",
      "ALPHA:  0.003\n",
      "RMSE, R2 using SGD= 0.0008806438628540514 0.27451130161019466\n",
      "ALPHA:  0.01\n",
      "RMSE, R2 using SGD= 0.000883395901126933 0.2823135841697331\n",
      "ALPHA:  0.03\n",
      "RMSE, R2 using SGD= 0.0008900207154487455 0.2770117095183341\n",
      "ALPHA:  0.1\n",
      "RMSE, R2 using SGD= 0.0009030201535678162 0.23513758938656404\n",
      "ALPHA:  0.3\n",
      "RMSE, R2 using SGD= 0.0010529126104629374 0.3980250371359223\n"
     ]
    }
   ],
   "source": [
    "# Loop through the different hyper parameters\n",
    "# to find which hyper-parameter set minimizes error on validation data.\n",
    "# Fix the best hyper-parameter set as the one that yields min validation error.\n",
    "\n",
    "# Looping gradient descent with different alphas\n",
    "s_theta = np.zeros((train_X.shape[1]+1, 1))\n",
    "alpha = .001\n",
    "s_max_iteration = 1000\n",
    "\n",
    "for num in alphas:\n",
    "    print('ALPHA: ', num)\n",
    "    new_theta, new_cost = stochastic_gradient_descent (s_theta, train_X, train_Y, num, s_max_iteration, 100)\n",
    "    GD_P = h(new_theta, valid_x)\n",
    "    # Set any negative predictions to 0\n",
    "    GD_P[GD_P<0] = 0\n",
    "    print(\"RMSE, R2 using SGD=\", MSE(valid_Y,GD_P), r2(valid_Y,GD_P))\n",
    "    "
   ]
  },
  {
   "cell_type": "markdown",
   "metadata": {},
   "source": [
    "Best alpha: .00003"
   ]
  },
  {
   "cell_type": "code",
   "execution_count": 79,
   "metadata": {},
   "outputs": [
    {
     "name": "stdout",
     "output_type": "stream",
     "text": [
      "ITERATION:  500\n",
      "RMSE, R2 using SGD= 0.0008576793022441572 0.19947422680681492\n",
      "ITERATION:  1000\n",
      "RMSE, R2 using SGD= 0.0008722995909224353 0.24064499024279123\n",
      "ITERATION:  5000\n",
      "RMSE, R2 using SGD= 0.0008799793932710414 0.2807811457851237\n",
      "ITERATION:  10000\n",
      "RMSE, R2 using SGD= 0.0008797482063763279 0.2831287499064609\n",
      "ITERATION:  15000\n",
      "RMSE, R2 using SGD= 0.000879532804844081 0.2832830245477934\n"
     ]
    }
   ],
   "source": [
    "alpha = 0.001\n",
    "for num in iterations:\n",
    "    print('ITERATION: ', num)\n",
    "    new_theta, new_cost = stochastic_gradient_descent (s_theta, train_X, train_Y, alpha, num, 100)\n",
    "    GD_P = h(new_theta, valid_x)\n",
    "    # Set any negative predictions to 0\n",
    "    GD_P[GD_P<0] = 0\n",
    "    print(\"RMSE, R2 using SGD=\", MSE(valid_Y,GD_P), r2(valid_Y,GD_P))"
   ]
  },
  {
   "cell_type": "markdown",
   "metadata": {},
   "source": [
    "Best iterations: 500"
   ]
  },
  {
   "cell_type": "code",
   "execution_count": 82,
   "metadata": {},
   "outputs": [
    {
     "name": "stdout",
     "output_type": "stream",
     "text": [
      "LAMBDA:  5e-05\n",
      "RMSE, R2 for prediction all features = 0.0008765933614562131 0.28434851726241633\n",
      "LAMBDA:  0.0001\n",
      "RMSE, R2 for prediction all features = 0.0008764860055265335 0.28376635202651407\n",
      "LAMBDA:  0.0005\n",
      "RMSE, R2 for prediction all features = 0.0008756260956388889 0.27932166809728887\n",
      "LAMBDA:  0.001\n",
      "RMSE, R2 for prediction all features = 0.000874551777868698 0.274210858349566\n",
      "LAMBDA:  0.005\n",
      "RMSE, R2 for prediction all features = 0.0008664843526284891 0.2431955942432698\n",
      "LAMBDA:  0.01\n",
      "RMSE, R2 for prediction all features = 0.0008585673785278687 0.21766473210132656\n",
      "LAMBDA:  0.05\n",
      "RMSE, R2 for prediction all features = 0.0008312231976209534 0.14034561562813874\n",
      "LAMBDA:  0.1\n",
      "RMSE, R2 for prediction all features = 0.0008241955936597479 0.1170426474702844\n",
      "LAMBDA:  0.5\n",
      "RMSE, R2 for prediction all features = 0.0008637967713636686 0.16632687962449824\n",
      "LAMBDA:  1\n",
      "RMSE, R2 for prediction all features = 0.000908198634586881 0.2347668212610643\n"
     ]
    }
   ],
   "source": [
    "for num in lambdas:\n",
    "    print('LAMBDA: ', num)\n",
    "    n = train_X.shape[1]\n",
    "    m = len(train_X)\n",
    "    identity = np.identity(n)\n",
    "    invReg = np.linalg.pinv(np.dot(train_X.transpose(), train_X) + (num*m*identity))\n",
    "\n",
    "    W2 = np.dot(np.dot(invReg, train_X.transpose()), train_Y)\n",
    "    PN2 = np.dot(valid_x, W2)\n",
    "    PN2[np.where(PN2<0)]=0\n",
    "    print(\"RMSE, R2 for prediction all features =\", MSE(valid_Y,PN2), r2(valid_Y,PN2)) #[Low error high corr]"
   ]
  },
  {
   "cell_type": "markdown",
   "metadata": {},
   "source": [
    "Best labmda: 0.1"
   ]
  },
  {
   "cell_type": "code",
   "execution_count": 74,
   "metadata": {},
   "outputs": [],
   "source": [
    "# Apply the best hyperparameters on test data and report improvements\n",
    "#    in terms of MSE and R2 metric."
   ]
  },
  {
   "cell_type": "code",
   "execution_count": 84,
   "metadata": {},
   "outputs": [
    {
     "name": "stdout",
     "output_type": "stream",
     "text": [
      "RMSE, R2 using SGD= 0.00035275507020458797 0.02300956738958031\n"
     ]
    }
   ],
   "source": [
    "new_theta, new_cost = stochastic_gradient_descent (s_theta, train_X, train_Y, .00003, 500, 100)\n",
    "GD_P = h(new_theta, test_X)\n",
    "# Set any negative predictions to 0\n",
    "GD_P[GD_P<0] = 0\n",
    "print(\"RMSE, R2 using SGD=\", MSE(test_Y,GD_P), r2(test_Y,GD_P))"
   ]
  },
  {
   "cell_type": "code",
   "execution_count": 85,
   "metadata": {},
   "outputs": [
    {
     "name": "stdout",
     "output_type": "stream",
     "text": [
      "RMSE, R2 for prediction all features = 0.0003951941386368768 0.15397147037105383\n"
     ]
    }
   ],
   "source": [
    "n = train_X.shape[1]\n",
    "m = len(train_X)\n",
    "identity = np.identity(n)\n",
    "invReg = np.linalg.pinv(np.dot(train_X.transpose(), train_X) + (0.1*m*identity))\n",
    "\n",
    "W2 = np.dot(np.dot(invReg, train_X.transpose()), train_Y)\n",
    "PN2 = np.dot(test_X, W2)\n",
    "PN2[np.where(PN2<0)]=0\n",
    "print(\"RMSE, R2 for prediction all features =\", MSE(test_Y,PN2), r2(test_Y,PN2)) #[Low error high corr]"
   ]
  },
  {
   "cell_type": "markdown",
   "metadata": {},
   "source": [
    "## Results\n",
    "---------------------------------------------------------------------------\n",
    "Method                                          |  RMSE             | R2               |\n",
    "------------------------------------------------|-------------------|------------------|\n",
    "Gradient Descent:                            | 0.000518924229453394 | 0.6939013195958599 |\n",
    "GD w/ alpha and iterations changed             | 0.00035275507020458797 | 0.02300956738958031 |\n",
    "Normal Equations                             | 0.0005596570062877871 | 0.8479142625775198 |\n",
    "Regularized Normal Equations                 | 0.00043227378115685356 | 0.2614195347874887 |\n",
    "RNE w/ lambda changed                           | 0.0003951941386368768 | 0.15397147037105383 |\n",
    "GLM                                          | 0.000812292822095221   | 1.3713230464323383 |\n",
    "Decision Trees                               | 0.0006541515043448475  | 0.9230631521478815 |"
   ]
  },
  {
   "cell_type": "markdown",
   "metadata": {},
   "source": []
  }
 ],
 "metadata": {
  "colab": {
   "collapsed_sections": [
    "toTX3W89fX2P",
    "i3ofJxdUdnN6"
   ],
   "name": "Car_sales_predictions_v2.ipynb",
   "provenance": [
    {
     "file_id": "19YEpf20f30cjnoCzCIGwplKK0slRMKrD",
     "timestamp": 1603345211592
    },
    {
     "file_id": "1A5aKkAXYKm5ju0TNG-1yU44-hnWEhh__",
     "timestamp": 1603344980309
    }
   ]
  },
  "kernelspec": {
   "display_name": "Python 3",
   "language": "python",
   "name": "python3"
  },
  "language_info": {
   "codemirror_mode": {
    "name": "ipython",
    "version": 3
   },
   "file_extension": ".py",
   "mimetype": "text/x-python",
   "name": "python",
   "nbconvert_exporter": "python",
   "pygments_lexer": "ipython3",
   "version": "3.8.6"
  }
 },
 "nbformat": 4,
 "nbformat_minor": 4
}
