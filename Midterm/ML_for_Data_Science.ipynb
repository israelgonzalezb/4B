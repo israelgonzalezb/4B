{
 "cells": [
  {
   "cell_type": "markdown",
   "metadata": {},
   "source": [
    "# This is a Data Science Assignment to aid complete analysis of online Shopping behavior. This exercise is analysis intensive!"
   ]
  },
  {
   "cell_type": "markdown",
   "metadata": {},
   "source": [
    "## The data set for this assignment is from \"Online Shoppers Purchasing Intention Dataset Data Set\" https://archive.ics.uci.edu/ml/datasets/Online+Shoppers+Purchasing+Intention+Dataset\n",
    "## The goal is to develop Machine Learning Models to present a complete analysis for online shopping behavior data set."
   ]
  },
  {
   "cell_type": "markdown",
   "metadata": {},
   "source": [
    "## Description of data set:\n",
    "### The data set is \"online_shoppers_intention.csv\". This data set represents skewed data, such that 84.5% of user journeys did NOT result in a purchase (Revenue=False)\n",
    "```\n",
    "a. The dataset consists of 10 numerical and 8 categorical attributes.\n",
    "b. The 'Revenue' attribute can be used as the class label.\n",
    "c. \"Administrative\", \"Administrative Duration\", \"Informational\", \"Informational Duration\", \"Product Related\" and \"Product Related Duration\" represent the number of different types of pages visited by the visitor in that session and total time spent in each of these page categories. \n",
    "d. The values of these features are derived from the URL information of the pages visited by the user and updated in real time when a user takes an action, e.g. moving from one page to another. \n",
    "e. The \"Bounce Rate\", \"Exit Rate\" and \"Page Value\" features represent the metrics measured by \"Google Analytics\" for each page in the e-commerce site. \n",
    "f. The value of \"Bounce Rate\" feature for a web page refers to the percentage of visitors who enter the site from that page and then leave (\"bounce\") without triggering any other requests to the analytics server during that session. \n",
    "g. The value of \"Exit Rate\" feature for a specific web page is calculated as for all pageviews to the page and it represents the percentage that the page was seen in the last session. \n",
    "h. The \"Page Value\" feature represents the average value for a web page that a user visited before completing an e-commerce transaction. \n",
    "i. The \"Special Day\" feature indicates the closeness of the site visiting time to a specific special day (e.g. Mother’s Day, Valentine's Day) in which the sessions are more likely to be finalized with transaction. The value of this attribute is determined by considering the dynamics of e-commerce such as the duration between the order date and delivery date. \n",
    "j. The dataset also includes operating system, browser, region, traffic type, visitor type as returning or new visitor, a Boolean value indicating whether the date of the visit is weekend, and month of the year.\n",
    "```"
   ]
  },
  {
   "cell_type": "markdown",
   "metadata": {},
   "source": [
    "# Perform the following Tasks and return code, image/tables (where applicable) and ocumentation regarding your process for each task.\n",
    "## Task 1: Build a predictive classification model (ensuring optimal features and classifier). Train the model on data entries corresponding to the months of June-Dec, and test the model on data entries corresponding to Feb-March. (50 points)\n",
    "```\n",
    "a. Fit a best Linear and non-linear classifier and explain the optimal features set and dimensions. Linear classifier aids explanaibility while non-linear classifier may enhance classification performance.\n",
    "b. Show and explain the hyper-parameter fitting process.\n",
    "c. You may verify your work with AutoML (but oly AutoML solution is NOT acceptable, you need to baseline). However, you need to explain the rationale behind your choice of classifier, parameters and features. \n",
    "```\n",
    "\n",
    "## Task 2: Generate user-bahavior clusters based on the purchasing behavior data for the complete dataset.  (25 points).\n",
    "```\n",
    "a. How many clusters do you see? What are the significant differences between the various clusters in terms of the size of the clusters and purchase ratio. Perform as detailed analysis of the clusters as you can.\n",
    "b.  Return plots and cluster images generated for the data.\n",
    "c. Perform a detailed analysis for each cluster corresponding to the variations in features and identify some behaviors corresponding to each particular cluster. [E.g. which cluster represent New shoppers, vs brand conscious shoppers etc.]\n",
    "```\n",
    "## Task 3: Consider you have training data (with the 'Revenue' attribute) for records from June-Sept only. For all records from Oct-Dec, the 'Revenue' attribute is missing. Build a semi-supervised self labelling model to estimate 'Revenue' for the missing records in Oct-Dec and then fit your classifier. Report classification performance on Feb-March data set with and without the self-labelled data. (25 points)\n",
    "```\n",
    "a. If you dont consider the records from Oct-Dec, generate the classification performance on Test data\n",
    "b. After using the self labelled data and training data together, does the classification performance on \n",
    "Test data improve? Comment on which metrics are of importance here.\n",
    "```"
   ]
  },
  {
   "cell_type": "markdown",
   "metadata": {},
   "source": [
    "# Good Luck!"
   ]
  },
  {
   "cell_type": "code",
   "execution_count": null,
   "metadata": {},
   "outputs": [],
   "source": []
  }
 ],
 "metadata": {
  "kernelspec": {
   "display_name": "Python 3",
   "language": "python",
   "name": "python3"
  },
  "language_info": {
   "codemirror_mode": {
    "name": "ipython",
    "version": 3
   },
   "file_extension": ".py",
   "mimetype": "text/x-python",
   "name": "python",
   "nbconvert_exporter": "python",
   "pygments_lexer": "ipython3",
   "version": "3.8.6"
  }
 },
 "nbformat": 4,
 "nbformat_minor": 4
}
