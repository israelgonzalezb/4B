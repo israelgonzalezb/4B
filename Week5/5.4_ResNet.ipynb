{
 "cells": [
  {
   "cell_type": "markdown",
   "metadata": {
    "id": "qi9L0veTKe7M"
   },
   "source": [
    "# Adapted from [Dive into Deep Learning](https://d2l.ai/index.html), Chapter 7, Section 6. The authors are prominent Amazon data scientists, so they work primarily with the [MXNet](https://mxnet.apache.org/versions/1.7.0/) framework rather than [TensorFlow](https://www.tensorflow.org/) or [PyTorch](https://pytorch.org/). As such, this assignment will rely on MXNet as well. "
   ]
  },
  {
   "cell_type": "markdown",
   "metadata": {
    "id": "3It3ictg77Bq"
   },
   "source": [
    "The following additional libraries are needed to run this\n",
    "notebook. Note that running on Colab is experimental, please report a Github\n",
    "issue if you have any problem."
   ]
  },
  {
   "cell_type": "markdown",
   "metadata": {
    "id": "tYaw1beRgYDV"
   },
   "source": [
    "## If running this notebook in Colab, make sure to navigate to Runtime > Change runtime type, select GPU in the Hardward accelerator drop-down menu, and click Save *before* running the following code cell! Otherwise, `mxnet-cu101` won't install."
   ]
  },
  {
   "cell_type": "code",
   "execution_count": null,
   "metadata": {
    "id": "4Q2SU8JE77Br"
   },
   "outputs": [],
   "source": [
    "#!pip install d2l==0.15.1\n",
    "#!pip install -U mxnet-cu101==1.7.0"
   ]
  },
  {
   "cell_type": "markdown",
   "metadata": {
    "id": "i6RvPIsd77Bx",
    "origin_pos": 0
   },
   "source": [
    "# Residual Networks (ResNets)\n",
    ":label:`sec_resnet`\n",
    "\n",
    "As we design increasingly deeper networks it becomes imperative to understand how adding layers can increase the complexity and expressiveness of the network.\n",
    "Even more important is the ability to design networks where adding layers makes networks strictly more expressive rather than just different.\n",
    "To make some progress we need a bit of mathematics.\n",
    "\n",
    "\n",
    "## Function Classes\n",
    "\n",
    "Consider $\\mathcal{F}$, the class of functions that a specific network architecture (together with learning rates and other hyperparameter settings) can reach.\n",
    "That is, for all $f \\in \\mathcal{F}$ there exists some set of parameters (e.g., weights and biases) that can be obtained through training on a suitable dataset.\n",
    "Let us assume that $f^*$ is the \"truth\" function that we really would like to find.\n",
    "If it is in $\\mathcal{F}$, we are in good shape but typically we will not be quite so lucky.\n",
    "Instead, we will try to find some $f^*_\\mathcal{F}$ which is our best bet within $\\mathcal{F}$.\n",
    "For instance, \n",
    "given a dataset with features $\\mathbf{X}$\n",
    "and labels $\\mathbf{y}$,\n",
    "we might try finding it by solving the following optimization problem:\n",
    "\n",
    "$$f^*_\\mathcal{F} \\stackrel{\\mathrm{def}}{=} \\mathop{\\mathrm{argmin}}_f L(\\mathbf{X}, \\mathbf{y}, f) \\text{ subject to } f \\in \\mathcal{F}.$$\n",
    "\n",
    "It is only reasonable to assume that if we design a different and more powerful architecture $\\mathcal{F}'$ we should arrive at a better outcome. In other words, we would expect that $f^*_{\\mathcal{F}'}$ is \"better\" than $f^*_{\\mathcal{F}}$. However, if $\\mathcal{F} \\not\\subseteq \\mathcal{F}'$ there is no guarantee that this should even happen. In fact, $f^*_{\\mathcal{F}'}$ might well be worse. \n",
    "As illustrated by :numref:`fig_functionclasses`,\n",
    "for non-nested function classes, a larger function class does not always move closer to the \"truth\" function $f^*$. For instance,\n",
    "on the left of :numref:`fig_functionclasses`,\n",
    "though $\\mathcal{F}_3$ is closer to $f^*$ than $\\mathcal{F}_1$, $\\mathcal{F}_6$ moves away and there is no guarantee that further increasing the complexity can reduce the distance from $f^*$.\n",
    "With nested function classes\n",
    "where $\\mathcal{F}_1 \\subseteq \\ldots \\subseteq \\mathcal{F}_6$\n",
    "on the right of :numref:`fig_functionclasses`,\n",
    "we can avoid the aforementioned issue from the non-nested function classes.\n",
    "\n",
    "\n",
    "![For non-nested function classes, a larger (indicated by area) function class does not guarantee to get closer to the \"truth\" function ($f^*$). This does not happen in nested function classes.](http://d2l.ai/_images/functionclasses.svg)\n",
    ":label:`fig_functionclasses`\n",
    "\n",
    "Thus,\n",
    "only if larger function classes contain the smaller ones are we guaranteed that increasing them strictly increases the expressive power of the network.\n",
    "For deep neural networks,\n",
    "if we can \n",
    "train the newly-added layer into an identity function $f(\\mathbf{x}) = \\mathbf{x}$, the new model will be as effective as the original model. As the new model may get a better solution to fit the training dataset, the added layer might make it easier to reduce training errors.\n",
    "\n",
    "This is the question that He et al. considered when working on very deep computer vision models :cite:`He.Zhang.Ren.ea.2016`. \n",
    "At the heart of their proposed *residual network* (*ResNet*) is the idea that every additional layer should \n",
    "more easily\n",
    "contain the identity function as one of its elements. \n",
    "These considerations are rather profound but they led to a surprisingly simple\n",
    "solution, a *residual block*.\n",
    "With it, ResNet won the ImageNet Large Scale Visual Recognition Challenge in 2015. The design had a profound influence on how to\n",
    "build deep neural networks.\n",
    "\n",
    "\n",
    "\n",
    "## Residual Blocks\n",
    "\n",
    "Let us focus on a local part of a neural network, as depicted in :numref:`fig_residual_block`. Denote the input by $\\mathbf{x}$.\n",
    "We assume that the desired underlying mapping we want to obtain by learning is $f(\\mathbf{x})$, to be used as the input to the activation function on the top.\n",
    "On the left of :numref:`fig_residual_block`,\n",
    "the portion within the dotted-line box \n",
    "must directly learn the mapping $f(\\mathbf{x})$.\n",
    "On the right,\n",
    "the portion within the dotted-line box\n",
    "needs to\n",
    "learn the *residual mapping* $f(\\mathbf{x}) - \\mathbf{x}$,\n",
    "which is how the residual block derives its name.\n",
    "If the identity mapping $f(\\mathbf{x}) = \\mathbf{x}$ is the desired underlying mapping,\n",
    "the residual mapping is easier to learn:\n",
    "we only need to push the weights and biases\n",
    "of the\n",
    "upper weight layer (e.g., fully-connected layer and convolutional layer)\n",
    "within the dotted-line box\n",
    "to zero.\n",
    "The right figure in :numref:`fig_residual_block` illustrates the  *residual block* of ResNet,\n",
    "where the solid line carrying the layer input \n",
    "$\\mathbf{x}$ to the addition operator\n",
    "is called a *residual connection* (or *shortcut connection*).\n",
    "With residual blocks, inputs can \n",
    "forward propagate faster through the residual connections across layers.\n",
    "\n",
    "![A regular block (left) and a residual block (right).](https://github.com/d2l-ai/d2l-en-colab/blob/master/img/residual-block.svg?raw=1)\n",
    ":label:`fig_residual_block`\n",
    "\n",
    "\n",
    "ResNet follows VGG's full $3\\times 3$ convolutional layer design. The residual block has two $3\\times 3$ convolutional layers with the same number of output channels. Each convolutional layer is followed by a batch normalization layer and a ReLU activation function. Then, we skip these two convolution operations and add the input directly before the final ReLU activation function.\n",
    "This kind of design requires that the output of the two convolutional layers has to be of the same shape as the input, so that they can be added together. If we want to change the number of channels, we need to introduce an additional $1\\times 1$ convolutional layer to transform the input into the desired shape for the addition operation. "
   ]
  },
  {
   "cell_type": "markdown",
   "metadata": {
    "id": "7jtg4SUo77B1",
    "origin_pos": 4
   },
   "source": [
    "The code below generates two types of networks: one where we add the input to the output before applying the ReLU nonlinearity whenever `use_1x1conv=False`, and one where we adjust channels and resolution by means of a $1 \\times 1$ convolution before adding. :numref:`fig_resnet_block` illustrates this:\n",
    "\n",
    "![ResNet block with and without $1 \\times 1$ convolution.](https://github.com/d2l-ai/d2l-en-colab/blob/master/img/resnet-block.svg?raw=1)\n",
    ":label:`fig_resnet_block`\n"
   ]
  },
  {
   "cell_type": "markdown",
   "metadata": {
    "id": "vMkpAKlSnYF9"
   },
   "source": [
    "### Exercise: Implement the figures above as the `Residual` class. \n",
    "Notes: \n",
    "1. The d2l module allows us to use utility functions developed for the Dive into Deep Learning book.\n",
    "2. MXNet's np and npx modules allow for Numpy-compatible coding, which MXNet's basic ndarray module doesn't, as [this](https://github.com/apache/incubator-mxnet/issues/14253) post illustrates. You might also find [this](https://stackoverflow.com/questions/58933738/mxnet-import-nd-or-np-to-use-arrays) Stack Overflow query helpful.\n",
    "3. [Gluon](https://mxnet.apache.org/versions/1.6/api/python/docs/api/gluon/index.html) is to MXNet as Keras is to TensorFlow.\n",
    "4. You might find the following functions useful: [`mxnet.gluon.nn.Conv2D()`](https://mxnet.apache.org/versions/1.7.0/api/python/docs/api/gluon/nn/index.html#mxnet.gluon.nn.Conv2D), [`mxnet.gluon.nn.BatchNorm()`](https://mxnet.apache.org/versions/1.7.0/api/python/docs/api/gluon/nn/index.html#mxnet.gluon.nn.BatchNorm), [`mxnet.gluon.nn.Activation()`](https://mxnet.apache.org/versions/1.7.0/api/python/docs/api/gluon/nn/index.html#mxnet.gluon.nn.Activation), [`npx.relu()`](https://mxnet.apache.org/versions/1.7.0/api/python/docs/api/ndarray/op/index.html#mxnet.ndarray.op.relu).\n"
   ]
  },
  {
   "cell_type": "code",
   "execution_count": null,
   "metadata": {
    "id": "-MCesdab77By",
    "origin_pos": 1,
    "tab": [
     "mxnet"
    ]
   },
   "outputs": [],
   "source": [
    "from d2l import mxnet as d2l\n",
    "from mxnet import np, npx\n",
    "from mxnet.gluon import nn\n",
    "npx.set_np()\n",
    "\n",
    "class Residual(nn.Block):  #@save\n",
    "    \"\"\"The Residual block of ResNet.\"\"\"\n",
    "    def __init__(self, num_channels, use_1x1conv=False, strides=1, **kwargs):\n",
    "        ### START CODE HERE ###\n",
    "        super().__init__(**kwargs)\n",
    "        # Convolutional layer with num_channels output channels, kernel size of 3, \n",
    "        # and padding of 1. Pass in the strides used to instantiate the class.\n",
    "        self.conv1 = None\n",
    "        # Convolutional layer like the first, but with the default stride of 1\n",
    "        self.conv2 = None\n",
    "        # If we're using a 1 x 1 convolution on the residual branch...\n",
    "        if None:\n",
    "            # Convolutional layer with num_channels output channels and kernel size of 1. \n",
    "            # Pass in the strides used to instantiate the class.\n",
    "            self.conv3 = None\n",
    "        else:\n",
    "            # DON'T replace the None on the next line!\n",
    "            self.conv3 = None\n",
    "        # Batch normalization. Use the default parameters. \n",
    "        self.bn1 = None\n",
    "        # Batch normalization. Use the default parameters.\n",
    "        self.bn2 = None\n",
    "        ### END CODE HERE ###\n",
    "\n",
    "    def forward(self, X):\n",
    "        ### START CODE HERE ###\n",
    "        # Pass the input layer through the first convolutional layer\n",
    "        Y = None\n",
    "        # First batch normalization layer\n",
    "        Y = None\n",
    "        # ReLU activation\n",
    "        Y = None\n",
    "        # Second convolutional layer\n",
    "        Y = None\n",
    "        # Second batch normalization layer \n",
    "        Y = None\n",
    "        # If the third convolutional layer exists, pass the input layer through it\n",
    "        if None:\n",
    "            X = None\n",
    "        # Add the two branches together, then apply a ReLU activation to the summed layer\n",
    "        return None\n",
    "        ### END CODE HERE ###"
   ]
  },
  {
   "cell_type": "markdown",
   "metadata": {
    "id": "-Mh0gv-x2oRo"
   },
   "source": [
    "Now let us look at a situation where the input and output are of the same shape."
   ]
  },
  {
   "cell_type": "code",
   "execution_count": null,
   "metadata": {
    "id": "IScmkMsV77B1",
    "origin_pos": 5,
    "tab": [
     "mxnet"
    ]
   },
   "outputs": [],
   "source": [
    "blk = Residual(3)\n",
    "blk.initialize()\n",
    "X = np.random.uniform(size=(4, 3, 6, 6))\n",
    "blk(X).shape"
   ]
  },
  {
   "cell_type": "markdown",
   "metadata": {
    "id": "ZSlypLnk77B4",
    "origin_pos": 8
   },
   "source": [
    "We also have the option to halve the output height and width while increasing the number of output channels.\n"
   ]
  },
  {
   "cell_type": "code",
   "execution_count": null,
   "metadata": {
    "id": "IJow9uXS77B5",
    "origin_pos": 9,
    "tab": [
     "mxnet"
    ]
   },
   "outputs": [],
   "source": [
    "blk = Residual(6, use_1x1conv=True, strides=2)\n",
    "blk.initialize()\n",
    "blk(X).shape"
   ]
  },
  {
   "cell_type": "markdown",
   "metadata": {
    "id": "v9UMmyCE77B7",
    "origin_pos": 12
   },
   "source": [
    "## ResNet Model\n",
    "\n",
    "### Exercise: Instantiate the ResNet model with Gluon's [`nn.Sequential()`](https://mxnet.apache.org/versions/1.7.0/api/python/docs/api/gluon/nn/index.html#mxnet.gluon.nn.Sequential) API, then add to the model as follows: \n",
    "\n",
    "The first two layers of ResNet are the same as those of GoogLeNet: the $7\\times 7$ convolutional layer with 64 output channels and a stride of 2 is followed by the $3\\times 3$ maximum pooling layer with a stride of 2. The difference is the batch normalization layer added after each convolutional layer in ResNet.\n",
    "\n",
    "You may find Gluon's [`nn.Activation()`](https://mxnet.apache.org/versions/1.7.0/api/python/docs/api/gluon/nn/index.html#mxnet.gluon.nn.Activation) and [`nn.MaxPool2D()`](https://mxnet.apache.org/versions/1.7.0/api/python/docs/api/gluon/nn/index.html#mxnet.gluon.nn.MaxPool2D) useful.\n"
   ]
  },
  {
   "cell_type": "code",
   "execution_count": null,
   "metadata": {
    "id": "XSyCeayC77B8",
    "origin_pos": 13,
    "tab": [
     "mxnet"
    ]
   },
   "outputs": [],
   "source": [
    "### START CODE HERE ###\n",
    "# Instantiate the model\n",
    "net = None\n",
    "# Start adding to the model\n",
    "net.add(# Convolutional layer\n",
    "        None,\n",
    "        # Batch normalization\n",
    "        None, \n",
    "        # ReLU activation\n",
    "        None,\n",
    "        # Max pooling\n",
    "        None)\n",
    "### END CODE HERE ###"
   ]
  },
  {
   "cell_type": "markdown",
   "metadata": {
    "id": "InGdMxtV77B_",
    "origin_pos": 16
   },
   "source": [
    "GoogLeNet uses four modules made up of Inception blocks.\n",
    "However, ResNet uses four modules made up of residual blocks, each of which uses several residual blocks with the same number of output channels. \n",
    "The number of channels in the first module is the same as the number of input channels. Since a maximum pooling layer with a stride of 2 has already been used, it is not necessary to reduce the height and width. In the first residual block for each of the subsequent modules, the number of channels is doubled compared with that of the previous module, and the height and width are halved.\n",
    "\n",
    "Now, we implement this module. Note that special processing has been performed on the first module.\n"
   ]
  },
  {
   "cell_type": "markdown",
   "metadata": {
    "id": "LX07kZHKNE1t"
   },
   "source": [
    "### Exercise: Build a function which wraps around a `Residual` block as defined earlier. Make use of the `nn.Sequential()` API and the `add()` method for MXNet models. Give the first block all possible default arguments."
   ]
  },
  {
   "cell_type": "code",
   "execution_count": null,
   "metadata": {
    "id": "r79QAAS277B_",
    "origin_pos": 17,
    "tab": [
     "mxnet"
    ]
   },
   "outputs": [],
   "source": [
    "def resnet_block(num_channels, num_residuals, first_block=False):\n",
    "    ### START CODE HERE ###\n",
    "    # Initialize the ResNet block\n",
    "    blk = None\n",
    "    # Iterate through the residual sub-blocks\n",
    "    for i in range(None):\n",
    "        # If this is the first sub-block but NOT the first ResNet block of the whole model...\n",
    "        if None:\n",
    "            # Add a residual sub-block with num_channels output channels, \n",
    "            # 1 x 1 convolutions, and a stride of 2\n",
    "            None\n",
    "        else:\n",
    "            # If not, add a residual sub-block with num_channels output channels \n",
    "            # and otherwise default arguments\n",
    "            None\n",
    "    # Return the ResNet block\n",
    "    return None\n",
    "    ### END CODE HERE ###"
   ]
  },
  {
   "cell_type": "markdown",
   "metadata": {
    "id": "HdwX7M9d77CE",
    "origin_pos": 20
   },
   "source": [
    "Then, we add all the modules to ResNet. Here, two residual blocks are used for each module.\n"
   ]
  },
  {
   "cell_type": "markdown",
   "metadata": {
    "id": "o_onPSdRvWNR"
   },
   "source": [
    "### Exercise: Add 4 ResNet blocks to the model, with 64, 128, 256, and 512 respective output channels, and each with 2 sub-blocks. Don't forget about the `first_block` parameter!"
   ]
  },
  {
   "cell_type": "code",
   "execution_count": null,
   "metadata": {
    "id": "cLY4Gyv377CF",
    "origin_pos": 21,
    "tab": [
     "mxnet"
    ]
   },
   "outputs": [],
   "source": [
    "### START CODE HERE ###\n",
    "None\n",
    "### END CODE HERE ###"
   ]
  },
  {
   "cell_type": "markdown",
   "metadata": {
    "id": "HvYuXVWd77CK",
    "origin_pos": 24
   },
   "source": [
    "### Exercise: Finally, just like GoogLeNet, we add a global average pooling layer, followed by the fully-connected layer output.\n"
   ]
  },
  {
   "cell_type": "code",
   "execution_count": null,
   "metadata": {
    "id": "dx2kUaB877CK",
    "origin_pos": 25,
    "tab": [
     "mxnet"
    ]
   },
   "outputs": [],
   "source": [
    "### START CODE HERE ###\n",
    "None\n",
    "### END CODE HERE ###"
   ]
  },
  {
   "cell_type": "markdown",
   "metadata": {
    "id": "4ibpfSd977CN",
    "origin_pos": 28
   },
   "source": [
    "There are 4 convolutional layers in each module (excluding the $1\\times 1$ convolutional layer). Together with the first $7\\times 7$ convolutional layer and the final fully-connected layer, there are 18 layers in total. Therefore, this model is commonly known as ResNet-18.\n",
    "By configuring different numbers of channels and residual blocks in the module, we can create different ResNet models, such as the deeper 152-layer ResNet-152. Although the main architecture of ResNet is similar to that of GoogLeNet, ResNet's structure is simpler and easier to modify. All these factors have resulted in the rapid and widespread use of ResNet. :numref:`fig_resnet18` depicts the full ResNet-18.\n",
    "\n",
    "![The ResNet-18 architecture.](http://d2l.ai/_images/resnet18.svg)\n",
    ":label:`fig_resnet18`\n"
   ]
  },
  {
   "cell_type": "markdown",
   "metadata": {
    "id": "v4sBmWZc1INk"
   },
   "source": [
    "### Exercise: Before training ResNet, let us observe how the input shape changes across different modules in ResNet. As in all the previous architectures, the resolution decreases while the number of channels increases up until the point where a global average pooling layer aggregates all features. Print the output shape of each module in the model."
   ]
  },
  {
   "cell_type": "code",
   "execution_count": null,
   "metadata": {
    "id": "CbXajIRG77CN",
    "origin_pos": 29,
    "tab": [
     "mxnet"
    ]
   },
   "outputs": [],
   "source": [
    "# Initialize the input with a random array\n",
    "X = np.random.uniform(size=(1, 1, 224, 224))\n",
    "# Initialize the model\n",
    "net.initialize()\n",
    "### START CODE HERE ###\n",
    "# Loop over the layers in the model\n",
    "for layer in None:\n",
    "    # Apply the current layer to its input or the output of the previous layer\n",
    "    X = \n",
    "    # Print the current layer's name and the output's shape\n",
    "    print(None, 'output shape:\\t', None)\n",
    "### END CODE HERE ###"
   ]
  },
  {
   "cell_type": "markdown",
   "metadata": {
    "id": "6EY59nfUzrJe"
   },
   "source": [
    "### Expected Output: \n",
    "```\n",
    "conv5 output shape:\t (1, 64, 112, 112)\n",
    "batchnorm4 output shape:\t (1, 64, 112, 112)\n",
    "relu0 output shape:\t (1, 64, 112, 112)\n",
    "pool0 output shape:\t (1, 64, 56, 56)\n",
    "sequential1 output shape:\t (1, 64, 56, 56)\n",
    "sequential2 output shape:\t (1, 128, 28, 28)\n",
    "sequential3 output shape:\t (1, 256, 14, 14)\n",
    "sequential4 output shape:\t (1, 512, 7, 7)\n",
    "pool1 output shape:\t (1, 512, 1, 1)\n",
    "dense0 output shape:\t (1, 10)\n",
    "```"
   ]
  },
  {
   "cell_type": "markdown",
   "metadata": {
    "id": "5Mg6T7Tx2XQz"
   },
   "source": [
    "### Exercise: For a more detailed look, use the model's [`summary()`](https://mxnet.apache.org/versions/1.7.0/api/python/docs/api/gluon/block.html#mxnet.gluon.Block.summary) method"
   ]
  },
  {
   "cell_type": "code",
   "execution_count": null,
   "metadata": {
    "id": "Mab_Fgd3z0eg"
   },
   "outputs": [],
   "source": [
    "### START CODE HERE ###\n",
    "# Initialize the input, consisting of 1 example, 1 output channel, and a pixel height and width of 224\n",
    "X = None\n",
    "# Reinitialize the model\n",
    "# HINT: Use the force_reinit parameter\n",
    "None\n",
    "# Summarize the model\n",
    "None\n",
    "### END CODE HERE ###"
   ]
  },
  {
   "cell_type": "markdown",
   "metadata": {
    "id": "E18i4zci5DKD"
   },
   "source": [
    "### Expected Output: \n",
    "```\n",
    "--------------------------------------------------------------------------------\n",
    "        Layer (type)                                Output Shape         Param #\n",
    "================================================================================\n",
    "               Input                            (1, 1, 224, 224)               0\n",
    "            Conv2D-1                           (1, 64, 112, 112)            3200\n",
    "         BatchNorm-2                           (1, 64, 112, 112)             256\n",
    "        Activation-3                           (1, 64, 112, 112)               0\n",
    "         MaxPool2D-4                             (1, 64, 56, 56)               0\n",
    "            Conv2D-5                             (1, 64, 56, 56)           36928\n",
    "         BatchNorm-6                             (1, 64, 56, 56)             256\n",
    "            Conv2D-7                             (1, 64, 56, 56)           36928\n",
    "         BatchNorm-8                             (1, 64, 56, 56)             256\n",
    "          Residual-9                             (1, 64, 56, 56)               0\n",
    "           Conv2D-10                             (1, 64, 56, 56)           36928\n",
    "        BatchNorm-11                             (1, 64, 56, 56)             256\n",
    "           Conv2D-12                             (1, 64, 56, 56)           36928\n",
    "        BatchNorm-13                             (1, 64, 56, 56)             256\n",
    "         Residual-14                             (1, 64, 56, 56)               0\n",
    "           Conv2D-15                            (1, 128, 28, 28)           73856\n",
    "        BatchNorm-16                            (1, 128, 28, 28)             512\n",
    "           Conv2D-17                            (1, 128, 28, 28)          147584\n",
    "        BatchNorm-18                            (1, 128, 28, 28)             512\n",
    "           Conv2D-19                            (1, 128, 28, 28)            8320\n",
    "         Residual-20                            (1, 128, 28, 28)               0\n",
    "           Conv2D-21                            (1, 128, 28, 28)          147584\n",
    "        BatchNorm-22                            (1, 128, 28, 28)             512\n",
    "           Conv2D-23                            (1, 128, 28, 28)          147584\n",
    "        BatchNorm-24                            (1, 128, 28, 28)             512\n",
    "         Residual-25                            (1, 128, 28, 28)               0\n",
    "           Conv2D-26                            (1, 256, 14, 14)          295168\n",
    "        BatchNorm-27                            (1, 256, 14, 14)            1024\n",
    "           Conv2D-28                            (1, 256, 14, 14)          590080\n",
    "        BatchNorm-29                            (1, 256, 14, 14)            1024\n",
    "           Conv2D-30                            (1, 256, 14, 14)           33024\n",
    "         Residual-31                            (1, 256, 14, 14)               0\n",
    "           Conv2D-32                            (1, 256, 14, 14)          590080\n",
    "        BatchNorm-33                            (1, 256, 14, 14)            1024\n",
    "           Conv2D-34                            (1, 256, 14, 14)          590080\n",
    "        BatchNorm-35                            (1, 256, 14, 14)            1024\n",
    "         Residual-36                            (1, 256, 14, 14)               0\n",
    "           Conv2D-37                              (1, 512, 7, 7)         1180160\n",
    "        BatchNorm-38                              (1, 512, 7, 7)            2048\n",
    "           Conv2D-39                              (1, 512, 7, 7)         2359808\n",
    "        BatchNorm-40                              (1, 512, 7, 7)            2048\n",
    "           Conv2D-41                              (1, 512, 7, 7)          131584\n",
    "         Residual-42                              (1, 512, 7, 7)               0\n",
    "           Conv2D-43                              (1, 512, 7, 7)         2359808\n",
    "        BatchNorm-44                              (1, 512, 7, 7)            2048\n",
    "           Conv2D-45                              (1, 512, 7, 7)         2359808\n",
    "        BatchNorm-46                              (1, 512, 7, 7)            2048\n",
    "         Residual-47                              (1, 512, 7, 7)               0\n",
    "  GlobalAvgPool2D-48                              (1, 512, 1, 1)               0\n",
    "            Dense-49                                     (1, 10)            5130\n",
    "================================================================================\n",
    "Parameters in forward computation graph, duplicate included\n",
    "   Total params: 11186186\n",
    "   Trainable params: 11178378\n",
    "   Non-trainable params: 7808\n",
    "Shared params in forward computation graph: 0\n",
    "Unique parameters in model: 11186186\n",
    "--------------------------------------------------------------------------------\n",
    "```"
   ]
  },
  {
   "cell_type": "markdown",
   "metadata": {
    "id": "t4VsaGCD77CQ",
    "origin_pos": 32
   },
   "source": [
    "## Training\n",
    "\n",
    "### Train the ResNet on the Fashion-MNIST dataset. Notes: \n",
    "1. This process takes approximately 8 minutes when running a Colab on a single GPU \n",
    "2. The next cell uses utility functions developed for the Dive into Deep Learning (d2l) book\n"
   ]
  },
  {
   "cell_type": "code",
   "execution_count": null,
   "metadata": {
    "id": "VBaUlpeS77CR",
    "origin_pos": 33,
    "tab": [
     "mxnet"
    ]
   },
   "outputs": [],
   "source": [
    "lr, num_epochs, batch_size = 0.05, 10, 256\n",
    "train_iter, test_iter = d2l.load_data_fashion_mnist(batch_size, resize=96)\n",
    "d2l.train_ch6(net, train_iter, test_iter, num_epochs, lr)"
   ]
  },
  {
   "cell_type": "markdown",
   "metadata": {
    "id": "NGesxlGC77CT",
    "origin_pos": 34
   },
   "source": [
    "## Summary\n",
    "\n",
    "* Nested function classes are desirable. Learning an additional layer in deep neural networks as an identity function (though this is an extreme case) should be made easy.\n",
    "* The residual mapping can learn the identity function more easily, such as pushing parameters in the weight layer to zero.\n",
    "* We can train an effective deep neural network by having residual blocks. Inputs can forward propagate faster through the residual connections across layers.\n",
    "* ResNet had a major influence on the design of subsequent deep neural networks, both for convolutional and sequential nature.\n"
   ]
  }
 ],
 "metadata": {
  "accelerator": "GPU",
  "colab": {
   "collapsed_sections": [],
   "name": "5.4_ResNet.ipynb",
   "provenance": [
    {
     "file_id": "1vFtPWM6QGkRz28tEIv9WA3GwsgLFabki",
     "timestamp": 1605144154220
    },
    {
     "file_id": "https://github.com/d2l-ai/d2l-en-colab/blob/master/chapter_convolutional-modern/resnet.ipynb",
     "timestamp": 1605075199105
    }
   ]
  },
  "kernelspec": {
   "display_name": "Python 3",
   "language": "python",
   "name": "python3"
  },
  "language_info": {
   "codemirror_mode": {
    "name": "ipython",
    "version": 3
   },
   "file_extension": ".py",
   "mimetype": "text/x-python",
   "name": "python",
   "nbconvert_exporter": "python",
   "pygments_lexer": "ipython3",
   "version": "3.8.6"
  }
 },
 "nbformat": 4,
 "nbformat_minor": 4
}
